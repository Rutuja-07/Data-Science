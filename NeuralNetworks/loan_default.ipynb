{
 "cells": [
  {
   "cell_type": "code",
   "execution_count": 4,
   "metadata": {},
   "outputs": [],
   "source": [
    "#all the librarys used in this project\n",
    "import pandas as pd\n",
    "import numpy as np\n",
    "\n",
    "import seaborn as sns\n",
    "import matplotlib"
   ]
  },
  {
   "cell_type": "code",
   "execution_count": 5,
   "metadata": {},
   "outputs": [],
   "source": [
    "data = pd.read_excel('MUSB Hackathon.xlsx')"
   ]
  },
  {
   "cell_type": "code",
   "execution_count": 6,
   "metadata": {},
   "outputs": [
    {
     "data": {
      "text/html": [
       "<div>\n",
       "<style scoped>\n",
       "    .dataframe tbody tr th:only-of-type {\n",
       "        vertical-align: middle;\n",
       "    }\n",
       "\n",
       "    .dataframe tbody tr th {\n",
       "        vertical-align: top;\n",
       "    }\n",
       "\n",
       "    .dataframe thead th {\n",
       "        text-align: right;\n",
       "    }\n",
       "</style>\n",
       "<table border=\"1\" class=\"dataframe\">\n",
       "  <thead>\n",
       "    <tr style=\"text-align: right;\">\n",
       "      <th></th>\n",
       "      <th>Customer ID</th>\n",
       "      <th>Date of Default</th>\n",
       "      <th>Amount Default</th>\n",
       "      <th>Cumulative Payment till date</th>\n",
       "      <th>Total Loan</th>\n",
       "      <th>Gender</th>\n",
       "      <th>State</th>\n",
       "      <th>Bank</th>\n",
       "      <th>Default</th>\n",
       "      <th>Purchase Channel</th>\n",
       "      <th>Age</th>\n",
       "      <th>Insurance</th>\n",
       "      <th>Loan</th>\n",
       "      <th>Savings</th>\n",
       "      <th>FD</th>\n",
       "      <th>DMAT</th>\n",
       "      <th>Fraud</th>\n",
       "      <th>Card Type</th>\n",
       "      <th>City</th>\n",
       "    </tr>\n",
       "  </thead>\n",
       "  <tbody>\n",
       "    <tr>\n",
       "      <th>0</th>\n",
       "      <td>546301568</td>\n",
       "      <td>2019-08-24 00:00:00</td>\n",
       "      <td>582993</td>\n",
       "      <td>420324.0</td>\n",
       "      <td>1003317.0</td>\n",
       "      <td>1</td>\n",
       "      <td>0</td>\n",
       "      <td>ICICI</td>\n",
       "      <td>1</td>\n",
       "      <td>3</td>\n",
       "      <td>59.0</td>\n",
       "      <td>1</td>\n",
       "      <td>663918</td>\n",
       "      <td>216348</td>\n",
       "      <td>0</td>\n",
       "      <td>1</td>\n",
       "      <td>N</td>\n",
       "      <td>0</td>\n",
       "      <td>Delhi</td>\n",
       "    </tr>\n",
       "    <tr>\n",
       "      <th>1</th>\n",
       "      <td>18658241</td>\n",
       "      <td>2020-12-04 00:00:00</td>\n",
       "      <td>760344</td>\n",
       "      <td>708671.0</td>\n",
       "      <td>1469015.0</td>\n",
       "      <td>1</td>\n",
       "      <td>0</td>\n",
       "      <td>SBI</td>\n",
       "      <td>1</td>\n",
       "      <td>1</td>\n",
       "      <td>59.0</td>\n",
       "      <td>1</td>\n",
       "      <td>107236</td>\n",
       "      <td>439609</td>\n",
       "      <td>1</td>\n",
       "      <td>0</td>\n",
       "      <td>N</td>\n",
       "      <td>0</td>\n",
       "      <td>Kolkata</td>\n",
       "    </tr>\n",
       "    <tr>\n",
       "      <th>2</th>\n",
       "      <td>545307255</td>\n",
       "      <td>2018-10-30 00:00:00</td>\n",
       "      <td>433971</td>\n",
       "      <td>835055.0</td>\n",
       "      <td>1269026.0</td>\n",
       "      <td>0</td>\n",
       "      <td>2</td>\n",
       "      <td>SBI</td>\n",
       "      <td>0</td>\n",
       "      <td>1</td>\n",
       "      <td>35.0</td>\n",
       "      <td>0</td>\n",
       "      <td>745659</td>\n",
       "      <td>415287</td>\n",
       "      <td>1</td>\n",
       "      <td>0</td>\n",
       "      <td>N</td>\n",
       "      <td>1</td>\n",
       "      <td>Delhi</td>\n",
       "    </tr>\n",
       "    <tr>\n",
       "      <th>3</th>\n",
       "      <td>685777392</td>\n",
       "      <td>2019-04-14 00:00:00</td>\n",
       "      <td>945476</td>\n",
       "      <td>759583.0</td>\n",
       "      <td>1705059.0</td>\n",
       "      <td>0</td>\n",
       "      <td>1</td>\n",
       "      <td>SBI</td>\n",
       "      <td>1</td>\n",
       "      <td>2</td>\n",
       "      <td>38.0</td>\n",
       "      <td>0</td>\n",
       "      <td>24216</td>\n",
       "      <td>284974</td>\n",
       "      <td>0</td>\n",
       "      <td>0</td>\n",
       "      <td>N</td>\n",
       "      <td>0</td>\n",
       "      <td>Mumbai</td>\n",
       "    </tr>\n",
       "    <tr>\n",
       "      <th>4</th>\n",
       "      <td>838154128</td>\n",
       "      <td>2020-11-30 00:00:00</td>\n",
       "      <td>874825</td>\n",
       "      <td>71394.0</td>\n",
       "      <td>946219.0</td>\n",
       "      <td>1</td>\n",
       "      <td>2</td>\n",
       "      <td>SBI</td>\n",
       "      <td>1</td>\n",
       "      <td>3</td>\n",
       "      <td>50.0</td>\n",
       "      <td>0</td>\n",
       "      <td>794057</td>\n",
       "      <td>18748</td>\n",
       "      <td>1</td>\n",
       "      <td>1</td>\n",
       "      <td>N</td>\n",
       "      <td>1</td>\n",
       "      <td>Mumbai</td>\n",
       "    </tr>\n",
       "  </tbody>\n",
       "</table>\n",
       "</div>"
      ],
      "text/plain": [
       "   Customer ID      Date of Default  Amount Default  \\\n",
       "0    546301568  2019-08-24 00:00:00          582993   \n",
       "1     18658241  2020-12-04 00:00:00          760344   \n",
       "2    545307255  2018-10-30 00:00:00          433971   \n",
       "3    685777392  2019-04-14 00:00:00          945476   \n",
       "4    838154128  2020-11-30 00:00:00          874825   \n",
       "\n",
       "   Cumulative Payment till date  Total Loan  Gender  State   Bank  Default  \\\n",
       "0                      420324.0   1003317.0       1      0  ICICI        1   \n",
       "1                      708671.0   1469015.0       1      0    SBI        1   \n",
       "2                      835055.0   1269026.0       0      2    SBI        0   \n",
       "3                      759583.0   1705059.0       0      1    SBI        1   \n",
       "4                       71394.0    946219.0       1      2    SBI        1   \n",
       "\n",
       "   Purchase Channel   Age  Insurance    Loan  Savings  FD  DMAT Fraud  \\\n",
       "0                 3  59.0          1  663918   216348   0     1     N   \n",
       "1                 1  59.0          1  107236   439609   1     0     N   \n",
       "2                 1  35.0          0  745659   415287   1     0     N   \n",
       "3                 2  38.0          0   24216   284974   0     0     N   \n",
       "4                 3  50.0          0  794057    18748   1     1     N   \n",
       "\n",
       "   Card Type     City  \n",
       "0          0    Delhi  \n",
       "1          0  Kolkata  \n",
       "2          1    Delhi  \n",
       "3          0   Mumbai  \n",
       "4          1   Mumbai  "
      ]
     },
     "execution_count": 6,
     "metadata": {},
     "output_type": "execute_result"
    }
   ],
   "source": [
    "data.head()"
   ]
  },
  {
   "cell_type": "code",
   "execution_count": 7,
   "metadata": {},
   "outputs": [
    {
     "data": {
      "text/plain": [
       "Index(['Customer ID', 'Date of Default', 'Amount Default',\n",
       "       'Cumulative Payment till date', 'Total Loan', 'Gender', 'State', 'Bank',\n",
       "       'Default', 'Purchase Channel', 'Age', 'Insurance', 'Loan', 'Savings',\n",
       "       'FD', 'DMAT', 'Fraud', 'Card Type', 'City'],\n",
       "      dtype='object')"
      ]
     },
     "execution_count": 7,
     "metadata": {},
     "output_type": "execute_result"
    }
   ],
   "source": [
    "data.columns # column names"
   ]
  },
  {
   "cell_type": "code",
   "execution_count": 8,
   "metadata": {},
   "outputs": [
    {
     "data": {
      "text/plain": [
       "Customer ID                     0\n",
       "Date of Default                 0\n",
       "Amount Default                  0\n",
       "Cumulative Payment till date    1\n",
       "Total Loan                      1\n",
       "Gender                          0\n",
       "State                           0\n",
       "Bank                            0\n",
       "Default                         0\n",
       "Purchase Channel                0\n",
       "Age                             1\n",
       "Insurance                       0\n",
       "Loan                            0\n",
       "Savings                         0\n",
       "FD                              0\n",
       "DMAT                            0\n",
       "Fraud                           0\n",
       "Card Type                       0\n",
       "City                            0\n",
       "dtype: int64"
      ]
     },
     "execution_count": 8,
     "metadata": {},
     "output_type": "execute_result"
    }
   ],
   "source": [
    "data.isnull().sum()"
   ]
  },
  {
   "cell_type": "markdown",
   "metadata": {},
   "source": [
    "## Data Cleanig "
   ]
  },
  {
   "cell_type": "code",
   "execution_count": 9,
   "metadata": {},
   "outputs": [],
   "source": [
    "data.dropna(how='any', inplace= True) #since only two of the columns contain null value of 1 each droping 2 rows \n",
    "#would not have much impact given the amount of data"
   ]
  },
  {
   "cell_type": "code",
   "execution_count": 18,
   "metadata": {},
   "outputs": [],
   "source": [
    "#renaming the columns\n",
    "data = data.rename(columns={'Cumulative Payment till date': \"Repayed\"})"
   ]
  },
  {
   "cell_type": "code",
   "execution_count": 10,
   "metadata": {},
   "outputs": [],
   "source": [
    "data.drop(['Loan', 'State', 'Customer ID', 'Date of Default'], axis=1, inplace = True)"
   ]
  },
  {
   "cell_type": "code",
   "execution_count": 11,
   "metadata": {},
   "outputs": [
    {
     "data": {
      "text/plain": [
       "Index(['Amount Default', 'Cumulative Payment till date', 'Total Loan',\n",
       "       'Gender', 'Bank', 'Default', 'Purchase Channel', 'Age', 'Insurance',\n",
       "       'Savings', 'FD', 'DMAT', 'Fraud', 'Card Type', 'City'],\n",
       "      dtype='object')"
      ]
     },
     "execution_count": 11,
     "metadata": {},
     "output_type": "execute_result"
    }
   ],
   "source": [
    "data.columns"
   ]
  },
  {
   "cell_type": "code",
   "execution_count": 12,
   "metadata": {},
   "outputs": [
    {
     "data": {
      "text/plain": [
       "Default\n",
       "0    5020\n",
       "1    4978\n",
       "Name: Gender, dtype: int64"
      ]
     },
     "execution_count": 12,
     "metadata": {},
     "output_type": "execute_result"
    }
   ],
   "source": [
    "data.groupby('Default')['Gender'].count()"
   ]
  },
  {
   "cell_type": "code",
   "execution_count": 13,
   "metadata": {},
   "outputs": [
    {
     "data": {
      "text/plain": [
       "City\n",
       "Chennai    1290\n",
       "Delhi      1258\n",
       "Kolkata    1197\n",
       "Mumbai     1233\n",
       "Name: Default, dtype: int64"
      ]
     },
     "execution_count": 13,
     "metadata": {},
     "output_type": "execute_result"
    }
   ],
   "source": [
    "data.groupby('City')['Default'].sum()"
   ]
  },
  {
   "cell_type": "code",
   "execution_count": 14,
   "metadata": {},
   "outputs": [
    {
     "data": {
      "text/plain": [
       "Default\n",
       "0    2533\n",
       "1    2445\n",
       "Name: Insurance, dtype: int64"
      ]
     },
     "execution_count": 14,
     "metadata": {},
     "output_type": "execute_result"
    }
   ],
   "source": [
    "data.groupby('Default')['Insurance'].sum()"
   ]
  },
  {
   "cell_type": "code",
   "execution_count": 15,
   "metadata": {},
   "outputs": [
    {
     "data": {
      "text/plain": [
       "Bank\n",
       "HDFC     1680\n",
       "ICICI    1634\n",
       "SBI      1664\n",
       "Name: Default, dtype: int64"
      ]
     },
     "execution_count": 15,
     "metadata": {},
     "output_type": "execute_result"
    }
   ],
   "source": [
    "data.groupby('Bank')['Default'].sum()"
   ]
  },
  {
   "cell_type": "markdown",
   "metadata": {},
   "source": [
    "## X and Y variables for y = default"
   ]
  },
  {
   "cell_type": "code",
   "execution_count": 16,
   "metadata": {},
   "outputs": [
    {
     "data": {
      "text/plain": [
       "(9998, 15)"
      ]
     },
     "execution_count": 16,
     "metadata": {},
     "output_type": "execute_result"
    }
   ],
   "source": [
    "data.shape"
   ]
  },
  {
   "cell_type": "code",
   "execution_count": 19,
   "metadata": {},
   "outputs": [],
   "source": [
    "X = data[['Amount Default', 'Repayed', 'Total Loan', 'Gender', 'Bank',\n",
    "       'Purchase Channel', 'Age', 'Insurance', 'Savings', 'FD', 'DMAT',\n",
    "       'Fraud', 'Card Type', 'City']].values"
   ]
  },
  {
   "cell_type": "code",
   "execution_count": 20,
   "metadata": {},
   "outputs": [
    {
     "data": {
      "text/plain": [
       "(9998, 14)"
      ]
     },
     "execution_count": 20,
     "metadata": {},
     "output_type": "execute_result"
    }
   ],
   "source": [
    "X.shape"
   ]
  },
  {
   "cell_type": "code",
   "execution_count": 21,
   "metadata": {},
   "outputs": [],
   "source": [
    "y = data[['Default']].values"
   ]
  },
  {
   "cell_type": "code",
   "execution_count": 22,
   "metadata": {},
   "outputs": [
    {
     "data": {
      "text/plain": [
       "numpy.ndarray"
      ]
     },
     "execution_count": 22,
     "metadata": {},
     "output_type": "execute_result"
    }
   ],
   "source": [
    "type(y)"
   ]
  },
  {
   "cell_type": "code",
   "execution_count": null,
   "metadata": {},
   "outputs": [],
   "source": [
    "#columns which needs one hot encoding and label encoding\n",
    "#Bank, City and Fraud"
   ]
  },
  {
   "cell_type": "code",
   "execution_count": null,
   "metadata": {},
   "outputs": [],
   "source": [
    "data.head()"
   ]
  },
  {
   "cell_type": "code",
   "execution_count": null,
   "metadata": {},
   "outputs": [],
   "source": [
    "X[:,11]"
   ]
  },
  {
   "cell_type": "code",
   "execution_count": 23,
   "metadata": {},
   "outputs": [],
   "source": [
    "from sklearn.preprocessing import LabelEncoder, OneHotEncoder\n",
    "labelencoder = LabelEncoder()\n",
    "X[:,4] = labelencoder.fit_transform(X[:,4])\n",
    "X[:,11] = labelencoder.fit_transform(X[:,11])\n",
    "X[:,13] = labelencoder.fit_transform(X[:,13])"
   ]
  },
  {
   "cell_type": "code",
   "execution_count": 24,
   "metadata": {},
   "outputs": [
    {
     "data": {
      "text/plain": [
       "array([[582993, 420324.0, 1003317.0, ..., 0, 0, 1],\n",
       "       [760344, 708671.0, 1469015.0, ..., 0, 0, 2],\n",
       "       [433971, 835055.0, 1269026.0, ..., 0, 1, 1],\n",
       "       ...,\n",
       "       [634376, 723328.0, 1357704.0, ..., 0, 1, 3],\n",
       "       [160692, 844678.0, 1005370.0, ..., 0, 1, 3],\n",
       "       [654997, 726110.0, 1381107.0, ..., 0, 1, 2]], dtype=object)"
      ]
     },
     "execution_count": 24,
     "metadata": {},
     "output_type": "execute_result"
    }
   ],
   "source": [
    "X"
   ]
  },
  {
   "cell_type": "code",
   "execution_count": 25,
   "metadata": {},
   "outputs": [
    {
     "data": {
      "text/plain": [
       "array([[0.0, 1.0, 0.0, ..., 0, 0, 1],\n",
       "       [0.0, 0.0, 1.0, ..., 0, 0, 2],\n",
       "       [0.0, 0.0, 1.0, ..., 0, 1, 1],\n",
       "       ...,\n",
       "       [0.0, 0.0, 1.0, ..., 0, 1, 3],\n",
       "       [0.0, 0.0, 1.0, ..., 0, 1, 3],\n",
       "       [1.0, 0.0, 0.0, ..., 0, 1, 2]], dtype=object)"
      ]
     },
     "execution_count": 25,
     "metadata": {},
     "output_type": "execute_result"
    }
   ],
   "source": [
    "from sklearn.compose import ColumnTransformer\n",
    "ct = ColumnTransformer([(\"Bank\", OneHotEncoder(), [4])], remainder= 'passthrough')\n",
    "X = ct.fit_transform(X)\n",
    "X"
   ]
  },
  {
   "cell_type": "code",
   "execution_count": null,
   "metadata": {},
   "outputs": [],
   "source": [
    "X[[1]]"
   ]
  },
  {
   "cell_type": "code",
   "execution_count": 26,
   "metadata": {},
   "outputs": [],
   "source": [
    "\n",
    "ct = ColumnTransformer([(\"City\", OneHotEncoder(), [15])], remainder= 'passthrough')\n",
    "X = ct.fit_transform(X)"
   ]
  },
  {
   "cell_type": "code",
   "execution_count": 27,
   "metadata": {},
   "outputs": [
    {
     "data": {
      "text/plain": [
       "(9998, 19)"
      ]
     },
     "execution_count": 27,
     "metadata": {},
     "output_type": "execute_result"
    }
   ],
   "source": [
    "X.shape"
   ]
  },
  {
   "cell_type": "code",
   "execution_count": 28,
   "metadata": {},
   "outputs": [],
   "source": [
    "X = pd.DataFrame(X, columns =[\"C1\",\"C2\", \"C3\",\"C4\", \"B1\", \"B2\", \"B3\", 'Amount Default', 'Repayed', 'Total Loan', 'Gender',\n",
    "       'Purchase Channel', 'Age', 'Insurance', 'Savings', 'FD', 'DMAT',\n",
    "       'Fraud', 'Card Type'])"
   ]
  },
  {
   "cell_type": "code",
   "execution_count": 29,
   "metadata": {},
   "outputs": [
    {
     "data": {
      "text/html": [
       "<div>\n",
       "<style scoped>\n",
       "    .dataframe tbody tr th:only-of-type {\n",
       "        vertical-align: middle;\n",
       "    }\n",
       "\n",
       "    .dataframe tbody tr th {\n",
       "        vertical-align: top;\n",
       "    }\n",
       "\n",
       "    .dataframe thead th {\n",
       "        text-align: right;\n",
       "    }\n",
       "</style>\n",
       "<table border=\"1\" class=\"dataframe\">\n",
       "  <thead>\n",
       "    <tr style=\"text-align: right;\">\n",
       "      <th></th>\n",
       "      <th>C1</th>\n",
       "      <th>C2</th>\n",
       "      <th>C3</th>\n",
       "      <th>C4</th>\n",
       "      <th>B1</th>\n",
       "      <th>B2</th>\n",
       "      <th>B3</th>\n",
       "      <th>Amount Default</th>\n",
       "      <th>Repayed</th>\n",
       "      <th>Total Loan</th>\n",
       "      <th>Gender</th>\n",
       "      <th>Purchase Channel</th>\n",
       "      <th>Age</th>\n",
       "      <th>Insurance</th>\n",
       "      <th>Savings</th>\n",
       "      <th>FD</th>\n",
       "      <th>DMAT</th>\n",
       "      <th>Fraud</th>\n",
       "      <th>Card Type</th>\n",
       "    </tr>\n",
       "  </thead>\n",
       "  <tbody>\n",
       "    <tr>\n",
       "      <th>0</th>\n",
       "      <td>0</td>\n",
       "      <td>1</td>\n",
       "      <td>0</td>\n",
       "      <td>0</td>\n",
       "      <td>0</td>\n",
       "      <td>1</td>\n",
       "      <td>0</td>\n",
       "      <td>582993</td>\n",
       "      <td>420324</td>\n",
       "      <td>1.00332e+06</td>\n",
       "      <td>1</td>\n",
       "      <td>3</td>\n",
       "      <td>59</td>\n",
       "      <td>1</td>\n",
       "      <td>216348</td>\n",
       "      <td>0</td>\n",
       "      <td>1</td>\n",
       "      <td>0</td>\n",
       "      <td>0</td>\n",
       "    </tr>\n",
       "    <tr>\n",
       "      <th>1</th>\n",
       "      <td>0</td>\n",
       "      <td>0</td>\n",
       "      <td>1</td>\n",
       "      <td>0</td>\n",
       "      <td>0</td>\n",
       "      <td>0</td>\n",
       "      <td>1</td>\n",
       "      <td>760344</td>\n",
       "      <td>708671</td>\n",
       "      <td>1.46902e+06</td>\n",
       "      <td>1</td>\n",
       "      <td>1</td>\n",
       "      <td>59</td>\n",
       "      <td>1</td>\n",
       "      <td>439609</td>\n",
       "      <td>1</td>\n",
       "      <td>0</td>\n",
       "      <td>0</td>\n",
       "      <td>0</td>\n",
       "    </tr>\n",
       "    <tr>\n",
       "      <th>2</th>\n",
       "      <td>0</td>\n",
       "      <td>1</td>\n",
       "      <td>0</td>\n",
       "      <td>0</td>\n",
       "      <td>0</td>\n",
       "      <td>0</td>\n",
       "      <td>1</td>\n",
       "      <td>433971</td>\n",
       "      <td>835055</td>\n",
       "      <td>1.26903e+06</td>\n",
       "      <td>0</td>\n",
       "      <td>1</td>\n",
       "      <td>35</td>\n",
       "      <td>0</td>\n",
       "      <td>415287</td>\n",
       "      <td>1</td>\n",
       "      <td>0</td>\n",
       "      <td>0</td>\n",
       "      <td>1</td>\n",
       "    </tr>\n",
       "    <tr>\n",
       "      <th>3</th>\n",
       "      <td>0</td>\n",
       "      <td>0</td>\n",
       "      <td>0</td>\n",
       "      <td>1</td>\n",
       "      <td>0</td>\n",
       "      <td>0</td>\n",
       "      <td>1</td>\n",
       "      <td>945476</td>\n",
       "      <td>759583</td>\n",
       "      <td>1.70506e+06</td>\n",
       "      <td>0</td>\n",
       "      <td>2</td>\n",
       "      <td>38</td>\n",
       "      <td>0</td>\n",
       "      <td>284974</td>\n",
       "      <td>0</td>\n",
       "      <td>0</td>\n",
       "      <td>0</td>\n",
       "      <td>0</td>\n",
       "    </tr>\n",
       "    <tr>\n",
       "      <th>4</th>\n",
       "      <td>0</td>\n",
       "      <td>0</td>\n",
       "      <td>0</td>\n",
       "      <td>1</td>\n",
       "      <td>0</td>\n",
       "      <td>0</td>\n",
       "      <td>1</td>\n",
       "      <td>874825</td>\n",
       "      <td>71394</td>\n",
       "      <td>946219</td>\n",
       "      <td>1</td>\n",
       "      <td>3</td>\n",
       "      <td>50</td>\n",
       "      <td>0</td>\n",
       "      <td>18748</td>\n",
       "      <td>1</td>\n",
       "      <td>1</td>\n",
       "      <td>0</td>\n",
       "      <td>1</td>\n",
       "    </tr>\n",
       "  </tbody>\n",
       "</table>\n",
       "</div>"
      ],
      "text/plain": [
       "  C1 C2 C3 C4 B1 B2 B3 Amount Default Repayed   Total Loan Gender  \\\n",
       "0  0  1  0  0  0  1  0         582993  420324  1.00332e+06      1   \n",
       "1  0  0  1  0  0  0  1         760344  708671  1.46902e+06      1   \n",
       "2  0  1  0  0  0  0  1         433971  835055  1.26903e+06      0   \n",
       "3  0  0  0  1  0  0  1         945476  759583  1.70506e+06      0   \n",
       "4  0  0  0  1  0  0  1         874825   71394       946219      1   \n",
       "\n",
       "  Purchase Channel Age Insurance Savings FD DMAT Fraud Card Type  \n",
       "0                3  59         1  216348  0    1     0         0  \n",
       "1                1  59         1  439609  1    0     0         0  \n",
       "2                1  35         0  415287  1    0     0         1  \n",
       "3                2  38         0  284974  0    0     0         0  \n",
       "4                3  50         0   18748  1    1     0         1  "
      ]
     },
     "execution_count": 29,
     "metadata": {},
     "output_type": "execute_result"
    }
   ],
   "source": [
    "X.head()"
   ]
  },
  {
   "cell_type": "code",
   "execution_count": 30,
   "metadata": {},
   "outputs": [],
   "source": [
    "X.drop(columns=[\"B1\", \"C1\"], axis = 1, inplace = True)"
   ]
  },
  {
   "cell_type": "code",
   "execution_count": 31,
   "metadata": {},
   "outputs": [
    {
     "data": {
      "text/html": [
       "<div>\n",
       "<style scoped>\n",
       "    .dataframe tbody tr th:only-of-type {\n",
       "        vertical-align: middle;\n",
       "    }\n",
       "\n",
       "    .dataframe tbody tr th {\n",
       "        vertical-align: top;\n",
       "    }\n",
       "\n",
       "    .dataframe thead th {\n",
       "        text-align: right;\n",
       "    }\n",
       "</style>\n",
       "<table border=\"1\" class=\"dataframe\">\n",
       "  <thead>\n",
       "    <tr style=\"text-align: right;\">\n",
       "      <th></th>\n",
       "      <th>C2</th>\n",
       "      <th>C3</th>\n",
       "      <th>C4</th>\n",
       "      <th>B2</th>\n",
       "      <th>B3</th>\n",
       "      <th>Amount Default</th>\n",
       "      <th>Repayed</th>\n",
       "      <th>Total Loan</th>\n",
       "      <th>Gender</th>\n",
       "      <th>Purchase Channel</th>\n",
       "      <th>Age</th>\n",
       "      <th>Insurance</th>\n",
       "      <th>Savings</th>\n",
       "      <th>FD</th>\n",
       "      <th>DMAT</th>\n",
       "      <th>Fraud</th>\n",
       "      <th>Card Type</th>\n",
       "    </tr>\n",
       "  </thead>\n",
       "  <tbody>\n",
       "    <tr>\n",
       "      <th>0</th>\n",
       "      <td>1</td>\n",
       "      <td>0</td>\n",
       "      <td>0</td>\n",
       "      <td>1</td>\n",
       "      <td>0</td>\n",
       "      <td>582993</td>\n",
       "      <td>420324</td>\n",
       "      <td>1.00332e+06</td>\n",
       "      <td>1</td>\n",
       "      <td>3</td>\n",
       "      <td>59</td>\n",
       "      <td>1</td>\n",
       "      <td>216348</td>\n",
       "      <td>0</td>\n",
       "      <td>1</td>\n",
       "      <td>0</td>\n",
       "      <td>0</td>\n",
       "    </tr>\n",
       "    <tr>\n",
       "      <th>1</th>\n",
       "      <td>0</td>\n",
       "      <td>1</td>\n",
       "      <td>0</td>\n",
       "      <td>0</td>\n",
       "      <td>1</td>\n",
       "      <td>760344</td>\n",
       "      <td>708671</td>\n",
       "      <td>1.46902e+06</td>\n",
       "      <td>1</td>\n",
       "      <td>1</td>\n",
       "      <td>59</td>\n",
       "      <td>1</td>\n",
       "      <td>439609</td>\n",
       "      <td>1</td>\n",
       "      <td>0</td>\n",
       "      <td>0</td>\n",
       "      <td>0</td>\n",
       "    </tr>\n",
       "    <tr>\n",
       "      <th>2</th>\n",
       "      <td>1</td>\n",
       "      <td>0</td>\n",
       "      <td>0</td>\n",
       "      <td>0</td>\n",
       "      <td>1</td>\n",
       "      <td>433971</td>\n",
       "      <td>835055</td>\n",
       "      <td>1.26903e+06</td>\n",
       "      <td>0</td>\n",
       "      <td>1</td>\n",
       "      <td>35</td>\n",
       "      <td>0</td>\n",
       "      <td>415287</td>\n",
       "      <td>1</td>\n",
       "      <td>0</td>\n",
       "      <td>0</td>\n",
       "      <td>1</td>\n",
       "    </tr>\n",
       "    <tr>\n",
       "      <th>3</th>\n",
       "      <td>0</td>\n",
       "      <td>0</td>\n",
       "      <td>1</td>\n",
       "      <td>0</td>\n",
       "      <td>1</td>\n",
       "      <td>945476</td>\n",
       "      <td>759583</td>\n",
       "      <td>1.70506e+06</td>\n",
       "      <td>0</td>\n",
       "      <td>2</td>\n",
       "      <td>38</td>\n",
       "      <td>0</td>\n",
       "      <td>284974</td>\n",
       "      <td>0</td>\n",
       "      <td>0</td>\n",
       "      <td>0</td>\n",
       "      <td>0</td>\n",
       "    </tr>\n",
       "    <tr>\n",
       "      <th>4</th>\n",
       "      <td>0</td>\n",
       "      <td>0</td>\n",
       "      <td>1</td>\n",
       "      <td>0</td>\n",
       "      <td>1</td>\n",
       "      <td>874825</td>\n",
       "      <td>71394</td>\n",
       "      <td>946219</td>\n",
       "      <td>1</td>\n",
       "      <td>3</td>\n",
       "      <td>50</td>\n",
       "      <td>0</td>\n",
       "      <td>18748</td>\n",
       "      <td>1</td>\n",
       "      <td>1</td>\n",
       "      <td>0</td>\n",
       "      <td>1</td>\n",
       "    </tr>\n",
       "  </tbody>\n",
       "</table>\n",
       "</div>"
      ],
      "text/plain": [
       "  C2 C3 C4 B2 B3 Amount Default Repayed   Total Loan Gender Purchase Channel  \\\n",
       "0  1  0  0  1  0         582993  420324  1.00332e+06      1                3   \n",
       "1  0  1  0  0  1         760344  708671  1.46902e+06      1                1   \n",
       "2  1  0  0  0  1         433971  835055  1.26903e+06      0                1   \n",
       "3  0  0  1  0  1         945476  759583  1.70506e+06      0                2   \n",
       "4  0  0  1  0  1         874825   71394       946219      1                3   \n",
       "\n",
       "  Age Insurance Savings FD DMAT Fraud Card Type  \n",
       "0  59         1  216348  0    1     0         0  \n",
       "1  59         1  439609  1    0     0         0  \n",
       "2  35         0  415287  1    0     0         1  \n",
       "3  38         0  284974  0    0     0         0  \n",
       "4  50         0   18748  1    1     0         1  "
      ]
     },
     "execution_count": 31,
     "metadata": {},
     "output_type": "execute_result"
    }
   ],
   "source": [
    "X.head()"
   ]
  },
  {
   "cell_type": "markdown",
   "metadata": {},
   "source": [
    "## Train test split "
   ]
  },
  {
   "cell_type": "code",
   "execution_count": 32,
   "metadata": {},
   "outputs": [],
   "source": [
    "from sklearn.model_selection import train_test_split\n",
    "X_train, X_test, y_train, y_test = train_test_split(X, y, test_size =0.2, random_state = 0)"
   ]
  },
  {
   "cell_type": "code",
   "execution_count": 33,
   "metadata": {},
   "outputs": [],
   "source": [
    "from sklearn.preprocessing import StandardScaler\n",
    "sc = StandardScaler()\n",
    "X_train  = sc.fit_transform(X_train)\n",
    "X_test = sc.transform(X_test)"
   ]
  },
  {
   "cell_type": "code",
   "execution_count": 34,
   "metadata": {},
   "outputs": [
    {
     "data": {
      "text/plain": [
       "(9998, 17)"
      ]
     },
     "execution_count": 34,
     "metadata": {},
     "output_type": "execute_result"
    }
   ],
   "source": [
    "X.shape"
   ]
  },
  {
   "cell_type": "code",
   "execution_count": 35,
   "metadata": {},
   "outputs": [
    {
     "data": {
      "text/plain": [
       "(9998, 1)"
      ]
     },
     "execution_count": 35,
     "metadata": {},
     "output_type": "execute_result"
    }
   ],
   "source": [
    "y.shape"
   ]
  },
  {
   "cell_type": "code",
   "execution_count": 36,
   "metadata": {},
   "outputs": [
    {
     "data": {
      "text/plain": [
       "array([[1],\n",
       "       [1],\n",
       "       [0],\n",
       "       ...,\n",
       "       [0],\n",
       "       [1],\n",
       "       [0]], dtype=int64)"
      ]
     },
     "execution_count": 36,
     "metadata": {},
     "output_type": "execute_result"
    }
   ],
   "source": [
    "y"
   ]
  },
  {
   "cell_type": "code",
   "execution_count": 37,
   "metadata": {},
   "outputs": [
    {
     "ename": "ImportError",
     "evalue": "cannot import name '__internal__' from 'tensorflow._api.v2' (C:\\Users\\ashte\\anaconda3\\lib\\site-packages\\tensorflow\\_api\\v2\\__init__.py)",
     "output_type": "error",
     "traceback": [
      "\u001b[1;31m---------------------------------------------------------------------------\u001b[0m",
      "\u001b[1;31mImportError\u001b[0m                               Traceback (most recent call last)",
      "\u001b[1;32m<ipython-input-37-d4c0d7dde75e>\u001b[0m in \u001b[0;36m<module>\u001b[1;34m\u001b[0m\n\u001b[1;32m----> 1\u001b[1;33m \u001b[1;32mfrom\u001b[0m \u001b[0mkeras\u001b[0m\u001b[1;33m.\u001b[0m\u001b[0mwrappers\u001b[0m\u001b[1;33m.\u001b[0m\u001b[0mscikit_learn\u001b[0m \u001b[1;32mimport\u001b[0m \u001b[0mKerasClassifier\u001b[0m\u001b[1;33m\u001b[0m\u001b[1;33m\u001b[0m\u001b[0m\n\u001b[0m\u001b[0;32m      2\u001b[0m \u001b[1;32mfrom\u001b[0m \u001b[0msklearn\u001b[0m\u001b[1;33m.\u001b[0m\u001b[0mmodel_selection\u001b[0m \u001b[1;32mimport\u001b[0m \u001b[0mcross_val_score\u001b[0m\u001b[1;33m\u001b[0m\u001b[1;33m\u001b[0m\u001b[0m\n\u001b[0;32m      3\u001b[0m \u001b[1;32mfrom\u001b[0m \u001b[0mkeras\u001b[0m\u001b[1;33m.\u001b[0m\u001b[0mmodels\u001b[0m \u001b[1;32mimport\u001b[0m \u001b[0mSequential\u001b[0m\u001b[1;33m\u001b[0m\u001b[1;33m\u001b[0m\u001b[0m\n\u001b[0;32m      4\u001b[0m \u001b[1;32mfrom\u001b[0m \u001b[0mkeras\u001b[0m\u001b[1;33m.\u001b[0m\u001b[0mlayers\u001b[0m \u001b[1;32mimport\u001b[0m \u001b[0mDense\u001b[0m\u001b[1;33m\u001b[0m\u001b[1;33m\u001b[0m\u001b[0m\n\u001b[0;32m      5\u001b[0m \u001b[1;33m\u001b[0m\u001b[0m\n",
      "\u001b[1;32m~\\anaconda3\\lib\\site-packages\\keras\\__init__.py\u001b[0m in \u001b[0;36m<module>\u001b[1;34m\u001b[0m\n\u001b[0;32m     19\u001b[0m \"\"\"\n\u001b[0;32m     20\u001b[0m \u001b[1;31m# pylint: disable=unused-import\u001b[0m\u001b[1;33m\u001b[0m\u001b[1;33m\u001b[0m\u001b[1;33m\u001b[0m\u001b[0m\n\u001b[1;32m---> 21\u001b[1;33m \u001b[1;32mfrom\u001b[0m \u001b[0mtensorflow\u001b[0m\u001b[1;33m.\u001b[0m\u001b[0mpython\u001b[0m \u001b[1;32mimport\u001b[0m \u001b[0mtf2\u001b[0m\u001b[1;33m\u001b[0m\u001b[1;33m\u001b[0m\u001b[0m\n\u001b[0m\u001b[0;32m     22\u001b[0m \u001b[1;32mfrom\u001b[0m \u001b[0mkeras\u001b[0m \u001b[1;32mimport\u001b[0m \u001b[0mdistribute\u001b[0m\u001b[1;33m\u001b[0m\u001b[1;33m\u001b[0m\u001b[0m\n\u001b[0;32m     23\u001b[0m \u001b[1;33m\u001b[0m\u001b[0m\n",
      "\u001b[1;32m~\\anaconda3\\lib\\site-packages\\tensorflow\\__init__.py\u001b[0m in \u001b[0;36m<module>\u001b[1;34m\u001b[0m\n\u001b[0;32m     47\u001b[0m \u001b[0m_tf2\u001b[0m\u001b[1;33m.\u001b[0m\u001b[0menable\u001b[0m\u001b[1;33m(\u001b[0m\u001b[1;33m)\u001b[0m\u001b[1;33m\u001b[0m\u001b[1;33m\u001b[0m\u001b[0m\n\u001b[0;32m     48\u001b[0m \u001b[1;33m\u001b[0m\u001b[0m\n\u001b[1;32m---> 49\u001b[1;33m \u001b[1;32mfrom\u001b[0m \u001b[1;33m.\u001b[0m\u001b[0m_api\u001b[0m\u001b[1;33m.\u001b[0m\u001b[0mv2\u001b[0m \u001b[1;32mimport\u001b[0m \u001b[0m__internal__\u001b[0m\u001b[1;33m\u001b[0m\u001b[1;33m\u001b[0m\u001b[0m\n\u001b[0m\u001b[0;32m     50\u001b[0m \u001b[1;32mfrom\u001b[0m \u001b[1;33m.\u001b[0m\u001b[0m_api\u001b[0m\u001b[1;33m.\u001b[0m\u001b[0mv2\u001b[0m \u001b[1;32mimport\u001b[0m \u001b[0m__operators__\u001b[0m\u001b[1;33m\u001b[0m\u001b[1;33m\u001b[0m\u001b[0m\n\u001b[0;32m     51\u001b[0m \u001b[1;32mfrom\u001b[0m \u001b[1;33m.\u001b[0m\u001b[0m_api\u001b[0m\u001b[1;33m.\u001b[0m\u001b[0mv2\u001b[0m \u001b[1;32mimport\u001b[0m \u001b[0maudio\u001b[0m\u001b[1;33m\u001b[0m\u001b[1;33m\u001b[0m\u001b[0m\n",
      "\u001b[1;31mImportError\u001b[0m: cannot import name '__internal__' from 'tensorflow._api.v2' (C:\\Users\\ashte\\anaconda3\\lib\\site-packages\\tensorflow\\_api\\v2\\__init__.py)"
     ]
    }
   ],
   "source": [
    "from keras.wrappers.scikit_learn import KerasClassifier\n",
    "from sklearn.model_selection import cross_val_score\n",
    "from keras.models import Sequential\n",
    "from keras.layers import Dense\n",
    "\n",
    "\n",
    "def build_classifier():\n",
    "    classifier = Sequential()\n",
    "    classifier.add(Dense(units = 9, kernel_initializer = 'uniform', activation ='relu', input_dim = 17))\n",
    "    classifier.add(Dense(units = 9, kernel_initializer = 'uniform', activation ='relu'))\n",
    "    classifier.add(Dense(units = 1, kernel_initializer = 'uniform', activation ='sigmoid'))\n",
    "    classifier.compile(optimizer = 'adam', loss= 'binary_crossentropy', metrics = ['accuracy'])\n",
    "    \n",
    "    return classifier \n",
    "\n",
    "classifier = KerasClassifier(build_fn = build_classifier, batch_size = 10, epochs =100)\n",
    "accuracies = cross_val_score(estimator = classifier, X = X_train, y = y_train, cv = 10, n_jobs = 1)\n",
    "mean = accuracies.mean()\n",
    "variance = accuracies.std()"
   ]
  },
  {
   "cell_type": "code",
   "execution_count": null,
   "metadata": {},
   "outputs": [],
   "source": [
    "!pip3 uninstall keras-nightly\n",
    "!pip3 uninstall -y tensorflow\n",
    "!pip3 install keras==2.1.6\n",
    "!pip3 install tensorflow==1.15.0\n",
    "!pip3 install h5py==2.10.0"
   ]
  },
  {
   "cell_type": "code",
   "execution_count": null,
   "metadata": {},
   "outputs": [],
   "source": [
    "X['Score'] = "
   ]
  },
  {
   "cell_type": "code",
   "execution_count": 3,
   "metadata": {},
   "outputs": [
    {
     "name": "stderr",
     "output_type": "stream",
     "text": [
      "ERROR: Could not find a version that satisfies the requirement tensorflow==1.13.0 (from versions: 2.5.0, 2.5.1, 2.5.2, 2.5.3, 2.6.0rc0, 2.6.0rc1, 2.6.0rc2, 2.6.0, 2.6.1, 2.6.2, 2.6.3, 2.6.4, 2.6.5, 2.7.0rc0, 2.7.0rc1, 2.7.0, 2.7.1, 2.7.2, 2.7.3, 2.7.4, 2.8.0rc0, 2.8.0rc1, 2.8.0, 2.8.1, 2.8.2, 2.8.3, 2.8.4, 2.9.0rc0, 2.9.0rc1, 2.9.0rc2, 2.9.0, 2.9.1, 2.9.2, 2.9.3, 2.10.0rc0, 2.10.0rc1, 2.10.0rc2, 2.10.0rc3, 2.10.0, 2.10.1, 2.11.0rc0, 2.11.0rc1, 2.11.0rc2, 2.11.0, 2.11.1, 2.12.0rc0, 2.12.0rc1, 2.12.0)\n",
      "ERROR: No matching distribution found for tensorflow==1.13.0\n",
      "WARNING: You are using pip version 20.2.3; however, version 23.0.1 is available.\n",
      "You should consider upgrading via the 'c:\\python39\\python.exe -m pip install --upgrade pip' command.\n"
     ]
    }
   ],
   "source": [
    "!pip3 install tensorflow==1.13.0"
   ]
  },
  {
   "cell_type": "code",
   "execution_count": null,
   "metadata": {},
   "outputs": [],
   "source": []
  },
  {
   "cell_type": "code",
   "execution_count": 39,
   "metadata": {},
   "outputs": [
    {
     "ename": "SyntaxError",
     "evalue": "invalid syntax (<ipython-input-39-7270f2db64f1>, line 1)",
     "output_type": "error",
     "traceback": [
      "\u001b[1;36m  File \u001b[1;32m\"<ipython-input-39-7270f2db64f1>\"\u001b[1;36m, line \u001b[1;32m1\u001b[0m\n\u001b[1;33m    pip3 install upgrade https://storage.googleapis.com/tensorflow/mac/cpu/tensorflow-1.13.0-py3-none-any.whl\u001b[0m\n\u001b[1;37m               ^\u001b[0m\n\u001b[1;31mSyntaxError\u001b[0m\u001b[1;31m:\u001b[0m invalid syntax\n"
     ]
    }
   ],
   "source": [
    "pip3 install upgrade https://storage.googleapis.com/tensorflow/mac/cpu/tensorflow-1.13.0-py3-none-any.whl"
   ]
  },
  {
   "cell_type": "code",
   "execution_count": 40,
   "metadata": {},
   "outputs": [
    {
     "data": {
      "text/plain": [
       "Amount Default        int64\n",
       "Repayed             float64\n",
       "Total Loan          float64\n",
       "Gender                int64\n",
       "Bank                 object\n",
       "Default               int64\n",
       "Purchase Channel      int64\n",
       "Age                 float64\n",
       "Insurance             int64\n",
       "Savings               int64\n",
       "FD                    int64\n",
       "DMAT                  int64\n",
       "Fraud                object\n",
       "Card Type             int64\n",
       "City                 object\n",
       "dtype: object"
      ]
     },
     "execution_count": 40,
     "metadata": {},
     "output_type": "execute_result"
    }
   ],
   "source": [
    "data.dtypes"
   ]
  },
  {
   "cell_type": "code",
   "execution_count": null,
   "metadata": {},
   "outputs": [],
   "source": []
  }
 ],
 "metadata": {
  "kernelspec": {
   "display_name": "Python 3",
   "language": "python",
   "name": "python3"
  },
  "language_info": {
   "codemirror_mode": {
    "name": "ipython",
    "version": 3
   },
   "file_extension": ".py",
   "mimetype": "text/x-python",
   "name": "python",
   "nbconvert_exporter": "python",
   "pygments_lexer": "ipython3",
   "version": "3.7.6"
  }
 },
 "nbformat": 4,
 "nbformat_minor": 4
}
