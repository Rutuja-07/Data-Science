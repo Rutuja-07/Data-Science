{
 "cells": [
  {
   "cell_type": "markdown",
   "metadata": {},
   "source": [
    "# Data Preprocessing"
   ]
  },
  {
   "cell_type": "code",
   "execution_count": 1,
   "metadata": {},
   "outputs": [],
   "source": [
    "#all the librarys used in this project\n",
    "import pandas as pd\n",
    "import numpy as np\n",
    "\n",
    "import seaborn as sns\n",
    "import re\n",
    "from sklearn.preprocessing import LabelEncoder\n",
    "from sklearn.preprocessing import StandardScaler\n",
    "from sklearn.decomposition import PCA\n",
    "\n",
    "from sklearn.metrics import confusion_matrix\n",
    "from sklearn.model_selection import GridSearchCV, train_test_split\n",
    "from sklearn.metrics import accuracy_score, precision_score, recall_score, f1_score\n",
    "from sklearn.metrics import classification_report\n",
    "from sklearn.ensemble import RandomForestClassifier\n",
    "from sklearn.model_selection import RandomizedSearchCV\n",
    "from sklearn.neighbors import KNeighborsClassifier\n",
    "from sklearn import metrics\n",
    "from sklearn.svm import SVC\n",
    "from sklearn.metrics import classification_report, confusion_matrix\n",
    "from sklearn import metrics\n",
    "from sklearn import preprocessing\n",
    "\n",
    "import matplotlib.pyplot as plt\n",
    "\n",
    "from sklearn.tree import DecisionTreeClassifier\n",
    "from sklearn.model_selection import GridSearchCV\n",
    "from sklearn.tree import export_graphviz\n",
    " \n",
    "from IPython.display import Image \n",
    "#import pydotplus\n",
    "import graphviz\n",
    "from six import StringIO\n",
    "\n",
    "import six\n",
    "import sys\n",
    "sys.modules['sklearn.externals.six'] = six\n",
    "from sklearn.externals.six import StringIO \n",
    "\n",
    "from pydot import graph_from_dot_data\n",
    "from sklearn.utils import resample\n",
    "\n",
    "\n",
    "\n",
    "from sklearn.tree import export_graphviz\n",
    "import pydot\n",
    "import random\n",
    "import multiprocessing\n",
    "cpn_cnt = multiprocessing.cpu_count()\n",
    "\n",
    "%matplotlib inline"
   ]
  },
  {
   "cell_type": "code",
   "execution_count": 2,
   "metadata": {},
   "outputs": [],
   "source": [
    "df = pd.read_excel(\"Mid_Term Exam_Supervised Learning.xlsx\") # uploading data set"
   ]
  },
  {
   "cell_type": "code",
   "execution_count": 3,
   "metadata": {},
   "outputs": [
    {
     "data": {
      "text/html": [
       "<div>\n",
       "<style scoped>\n",
       "    .dataframe tbody tr th:only-of-type {\n",
       "        vertical-align: middle;\n",
       "    }\n",
       "\n",
       "    .dataframe tbody tr th {\n",
       "        vertical-align: top;\n",
       "    }\n",
       "\n",
       "    .dataframe thead th {\n",
       "        text-align: right;\n",
       "    }\n",
       "</style>\n",
       "<table border=\"1\" class=\"dataframe\">\n",
       "  <thead>\n",
       "    <tr style=\"text-align: right;\">\n",
       "      <th></th>\n",
       "      <th>Customer ID</th>\n",
       "      <th>Pending amount on any form of credit</th>\n",
       "      <th>Cumulative Payment till date</th>\n",
       "      <th>Gender</th>\n",
       "      <th>State</th>\n",
       "      <th>Bank</th>\n",
       "      <th>Default</th>\n",
       "      <th>Purchase Channel</th>\n",
       "      <th>Age</th>\n",
       "      <th>Insurance</th>\n",
       "      <th>Loan</th>\n",
       "      <th>Savings</th>\n",
       "      <th>FD</th>\n",
       "      <th>DMAT</th>\n",
       "      <th>Fraud</th>\n",
       "      <th>Card Type</th>\n",
       "      <th>City</th>\n",
       "    </tr>\n",
       "  </thead>\n",
       "  <tbody>\n",
       "    <tr>\n",
       "      <th>0</th>\n",
       "      <td>546301568</td>\n",
       "      <td>582993</td>\n",
       "      <td>420324.0</td>\n",
       "      <td>1</td>\n",
       "      <td>0</td>\n",
       "      <td>ICICI</td>\n",
       "      <td>1</td>\n",
       "      <td>3</td>\n",
       "      <td>59.0</td>\n",
       "      <td>1</td>\n",
       "      <td>663918</td>\n",
       "      <td>216348</td>\n",
       "      <td>0</td>\n",
       "      <td>1</td>\n",
       "      <td>N</td>\n",
       "      <td>0</td>\n",
       "      <td>Delhi</td>\n",
       "    </tr>\n",
       "    <tr>\n",
       "      <th>1</th>\n",
       "      <td>18658241</td>\n",
       "      <td>760344</td>\n",
       "      <td>708671.0</td>\n",
       "      <td>1</td>\n",
       "      <td>0</td>\n",
       "      <td>SBI</td>\n",
       "      <td>1</td>\n",
       "      <td>1</td>\n",
       "      <td>59.0</td>\n",
       "      <td>1</td>\n",
       "      <td>107236</td>\n",
       "      <td>439609</td>\n",
       "      <td>1</td>\n",
       "      <td>0</td>\n",
       "      <td>N</td>\n",
       "      <td>0</td>\n",
       "      <td>Kolkata</td>\n",
       "    </tr>\n",
       "    <tr>\n",
       "      <th>2</th>\n",
       "      <td>545307255</td>\n",
       "      <td>433971</td>\n",
       "      <td>835055.0</td>\n",
       "      <td>0</td>\n",
       "      <td>2</td>\n",
       "      <td>SBI</td>\n",
       "      <td>0</td>\n",
       "      <td>1</td>\n",
       "      <td>35.0</td>\n",
       "      <td>0</td>\n",
       "      <td>745659</td>\n",
       "      <td>415287</td>\n",
       "      <td>1</td>\n",
       "      <td>0</td>\n",
       "      <td>N</td>\n",
       "      <td>1</td>\n",
       "      <td>Delhi</td>\n",
       "    </tr>\n",
       "    <tr>\n",
       "      <th>3</th>\n",
       "      <td>685777392</td>\n",
       "      <td>945476</td>\n",
       "      <td>759583.0</td>\n",
       "      <td>0</td>\n",
       "      <td>1</td>\n",
       "      <td>SBI</td>\n",
       "      <td>1</td>\n",
       "      <td>2</td>\n",
       "      <td>38.0</td>\n",
       "      <td>0</td>\n",
       "      <td>24216</td>\n",
       "      <td>284974</td>\n",
       "      <td>0</td>\n",
       "      <td>0</td>\n",
       "      <td>N</td>\n",
       "      <td>0</td>\n",
       "      <td>Mumbai</td>\n",
       "    </tr>\n",
       "    <tr>\n",
       "      <th>4</th>\n",
       "      <td>838154128</td>\n",
       "      <td>874825</td>\n",
       "      <td>71394.0</td>\n",
       "      <td>1</td>\n",
       "      <td>2</td>\n",
       "      <td>SBI</td>\n",
       "      <td>1</td>\n",
       "      <td>3</td>\n",
       "      <td>50.0</td>\n",
       "      <td>0</td>\n",
       "      <td>794057</td>\n",
       "      <td>18748</td>\n",
       "      <td>1</td>\n",
       "      <td>1</td>\n",
       "      <td>N</td>\n",
       "      <td>1</td>\n",
       "      <td>Mumbai</td>\n",
       "    </tr>\n",
       "  </tbody>\n",
       "</table>\n",
       "</div>"
      ],
      "text/plain": [
       "   Customer ID  Pending amount on any form of credit  \\\n",
       "0    546301568                                582993   \n",
       "1     18658241                                760344   \n",
       "2    545307255                                433971   \n",
       "3    685777392                                945476   \n",
       "4    838154128                                874825   \n",
       "\n",
       "   Cumulative Payment till date  Gender  State   Bank  Default  \\\n",
       "0                      420324.0       1      0  ICICI        1   \n",
       "1                      708671.0       1      0    SBI        1   \n",
       "2                      835055.0       0      2    SBI        0   \n",
       "3                      759583.0       0      1    SBI        1   \n",
       "4                       71394.0       1      2    SBI        1   \n",
       "\n",
       "   Purchase Channel   Age  Insurance    Loan  Savings  FD  DMAT Fraud  \\\n",
       "0                 3  59.0          1  663918   216348   0     1     N   \n",
       "1                 1  59.0          1  107236   439609   1     0     N   \n",
       "2                 1  35.0          0  745659   415287   1     0     N   \n",
       "3                 2  38.0          0   24216   284974   0     0     N   \n",
       "4                 3  50.0          0  794057    18748   1     1     N   \n",
       "\n",
       "   Card Type     City  \n",
       "0          0    Delhi  \n",
       "1          0  Kolkata  \n",
       "2          1    Delhi  \n",
       "3          0   Mumbai  \n",
       "4          1   Mumbai  "
      ]
     },
     "execution_count": 3,
     "metadata": {},
     "output_type": "execute_result"
    }
   ],
   "source": [
    "df.head()#top 5 rows"
   ]
  },
  {
   "cell_type": "code",
   "execution_count": 4,
   "metadata": {},
   "outputs": [
    {
     "name": "stdout",
     "output_type": "stream",
     "text": [
      "<class 'pandas.core.frame.DataFrame'>\n",
      "RangeIndex: 10000 entries, 0 to 9999\n",
      "Data columns (total 17 columns):\n",
      " #   Column                                Non-Null Count  Dtype  \n",
      "---  ------                                --------------  -----  \n",
      " 0   Customer ID                           10000 non-null  int64  \n",
      " 1   Pending amount on any form of credit  10000 non-null  int64  \n",
      " 2   Cumulative Payment till date          9999 non-null   float64\n",
      " 3   Gender                                10000 non-null  int64  \n",
      " 4   State                                 10000 non-null  int64  \n",
      " 5   Bank                                  10000 non-null  object \n",
      " 6   Default                               10000 non-null  int64  \n",
      " 7   Purchase Channel                      10000 non-null  int64  \n",
      " 8   Age                                   9999 non-null   float64\n",
      " 9   Insurance                             10000 non-null  int64  \n",
      " 10  Loan                                  10000 non-null  int64  \n",
      " 11  Savings                               10000 non-null  int64  \n",
      " 12  FD                                    10000 non-null  int64  \n",
      " 13  DMAT                                  10000 non-null  int64  \n",
      " 14  Fraud                                 10000 non-null  object \n",
      " 15  Card Type                             10000 non-null  int64  \n",
      " 16  City                                  10000 non-null  object \n",
      "dtypes: float64(2), int64(12), object(3)\n",
      "memory usage: 1.3+ MB\n"
     ]
    }
   ],
   "source": [
    "df.info()# to check if the data is consistent"
   ]
  },
  {
   "cell_type": "code",
   "execution_count": 5,
   "metadata": {},
   "outputs": [
    {
     "data": {
      "text/plain": [
       "(10000, 17)"
      ]
     },
     "execution_count": 5,
     "metadata": {},
     "output_type": "execute_result"
    }
   ],
   "source": [
    "df.shape # size of the data"
   ]
  },
  {
   "cell_type": "code",
   "execution_count": 6,
   "metadata": {},
   "outputs": [
    {
     "data": {
      "text/plain": [
       "Index(['Customer ID', 'Pending amount on any form of credit',\n",
       "       'Cumulative Payment till date', 'Gender', 'State', 'Bank', 'Default',\n",
       "       'Purchase Channel', 'Age', 'Insurance', 'Loan', 'Savings', 'FD', 'DMAT',\n",
       "       'Fraud', 'Card Type', 'City'],\n",
       "      dtype='object')"
      ]
     },
     "execution_count": 6,
     "metadata": {},
     "output_type": "execute_result"
    }
   ],
   "source": [
    "df.columns # column names"
   ]
  },
  {
   "cell_type": "code",
   "execution_count": 7,
   "metadata": {},
   "outputs": [
    {
     "data": {
      "text/plain": [
       "Customer ID                             0\n",
       "Pending amount on any form of credit    0\n",
       "Cumulative Payment till date            1\n",
       "Gender                                  0\n",
       "State                                   0\n",
       "Bank                                    0\n",
       "Default                                 0\n",
       "Purchase Channel                        0\n",
       "Age                                     1\n",
       "Insurance                               0\n",
       "Loan                                    0\n",
       "Savings                                 0\n",
       "FD                                      0\n",
       "DMAT                                    0\n",
       "Fraud                                   0\n",
       "Card Type                               0\n",
       "City                                    0\n",
       "dtype: int64"
      ]
     },
     "execution_count": 7,
     "metadata": {},
     "output_type": "execute_result"
    }
   ],
   "source": [
    "df.isnull().sum()"
   ]
  },
  {
   "cell_type": "markdown",
   "metadata": {},
   "source": [
    "From above initial analysis of data theer are 10000 rows in the data and most of the columns have values in it i.e lesser null values. Moreover some of the data is already in categorical form example Gender, State, Purchase Channel, Default which can be utilized as it is."
   ]
  },
  {
   "cell_type": "markdown",
   "metadata": {},
   "source": [
    "# Data Cleaning"
   ]
  },
  {
   "cell_type": "code",
   "execution_count": 10,
   "metadata": {},
   "outputs": [],
   "source": [
    "#renaming the columns\n",
    "df = df.rename(columns={'Pending amount on any form of credit': \"Pending amount\", 'Cumulative Payment till date': \"Repayed\"})\n"
   ]
  },
  {
   "cell_type": "code",
   "execution_count": 11,
   "metadata": {},
   "outputs": [
    {
     "data": {
      "text/plain": [
       "Index(['Customer ID', 'Pending amount', 'Repayed', 'Gender', 'State', 'Bank',\n",
       "       'Default', 'Purchase Channel', 'Age', 'Insurance', 'Loan', 'Savings',\n",
       "       'FD', 'DMAT', 'Fraud', 'Card Type', 'City'],\n",
       "      dtype='object')"
      ]
     },
     "execution_count": 11,
     "metadata": {},
     "output_type": "execute_result"
    }
   ],
   "source": [
    "df.columns"
   ]
  },
  {
   "cell_type": "code",
   "execution_count": 14,
   "metadata": {},
   "outputs": [],
   "source": [
    "df.dropna(how='any', inplace= True) #since only two of the columns contain null value of 1 each droping 2 rows \n",
    "#would not have much impact given the amount of data"
   ]
  },
  {
   "cell_type": "code",
   "execution_count": 16,
   "metadata": {},
   "outputs": [
    {
     "data": {
      "text/plain": [
       "(9998, 17)"
      ]
     },
     "execution_count": 16,
     "metadata": {},
     "output_type": "execute_result"
    }
   ],
   "source": [
    "df.shape"
   ]
  },
  {
   "cell_type": "markdown",
   "metadata": {},
   "source": [
    "# Analysis"
   ]
  },
  {
   "cell_type": "code",
   "execution_count": 19,
   "metadata": {},
   "outputs": [
    {
     "data": {
      "text/plain": [
       "Customer ID         9998\n",
       "Pending amount      9959\n",
       "Repayed             9944\n",
       "Gender                 2\n",
       "State                  3\n",
       "Bank                   3\n",
       "Default                2\n",
       "Purchase Channel       3\n",
       "Age                   38\n",
       "Insurance              2\n",
       "Loan                9956\n",
       "Savings             9964\n",
       "FD                     2\n",
       "DMAT                   2\n",
       "Fraud                  1\n",
       "Card Type              2\n",
       "City                   4\n",
       "dtype: int64"
      ]
     },
     "execution_count": 19,
     "metadata": {},
     "output_type": "execute_result"
    }
   ],
   "source": [
    "df.nunique() # finding out unique values for each column"
   ]
  },
  {
   "cell_type": "code",
   "execution_count": 82,
   "metadata": {},
   "outputs": [],
   "source": [
    "#Fraud varible contains just 1 unqiue value, this varible wont have much impact on the dependant varibale default hence dropping the fraud variable\n",
    "df1 = df.drop(columns= ['Fraud'])"
   ]
  },
  {
   "cell_type": "markdown",
   "metadata": {},
   "source": [
    "Customer ID unique values is same as the number of rows in the data set and hence this can be considered as a unique ID "
   ]
  },
  {
   "cell_type": "code",
   "execution_count": 83,
   "metadata": {},
   "outputs": [
    {
     "data": {
      "text/plain": [
       "Customer ID            0\n",
       "Pending amount         0\n",
       "Repayed                0\n",
       "Gender              5062\n",
       "State               3280\n",
       "Bank                   0\n",
       "Default             5020\n",
       "Purchase Channel       0\n",
       "Age                    0\n",
       "Insurance           5020\n",
       "Loan                   0\n",
       "Savings                0\n",
       "FD                  5014\n",
       "DMAT                4979\n",
       "Card Type           4897\n",
       "City                   0\n",
       "score                  0\n",
       "dtype: int64"
      ]
     },
     "execution_count": 83,
     "metadata": {},
     "output_type": "execute_result"
    }
   ],
   "source": [
    "df1.isin([0]).sum() # the number of zeros in the dataset. Some columns have a lot of zeros"
   ]
  },
  {
   "cell_type": "markdown",
   "metadata": {},
   "source": [
    "These zeos are justifyable since gender, state, insurance, FD, DMAT, etc are already in categorical format"
   ]
  },
  {
   "cell_type": "markdown",
   "metadata": {},
   "source": [
    "### Insights"
   ]
  },
  {
   "cell_type": "code",
   "execution_count": 84,
   "metadata": {},
   "outputs": [
    {
     "data": {
      "text/plain": [
       "Default\n",
       "0    5020\n",
       "1    4978\n",
       "Name: Gender, dtype: int64"
      ]
     },
     "execution_count": 84,
     "metadata": {},
     "output_type": "execute_result"
    }
   ],
   "source": [
    "df1.groupby('Default')['Gender'].count()"
   ]
  },
  {
   "cell_type": "code",
   "execution_count": 85,
   "metadata": {},
   "outputs": [
    {
     "data": {
      "text/plain": [
       "City\n",
       "Chennai    1290\n",
       "Delhi      1258\n",
       "Kolkata    1197\n",
       "Mumbai     1233\n",
       "Name: Default, dtype: int64"
      ]
     },
     "execution_count": 85,
     "metadata": {},
     "output_type": "execute_result"
    }
   ],
   "source": [
    "df1.groupby('City')['Default'].sum()"
   ]
  },
  {
   "cell_type": "markdown",
   "metadata": {},
   "source": [
    "The default rate is almost equal in all four cities i.e equally distributed"
   ]
  },
  {
   "cell_type": "code",
   "execution_count": 86,
   "metadata": {},
   "outputs": [
    {
     "data": {
      "text/plain": [
       "Default\n",
       "0    2496647759\n",
       "1    2503073982\n",
       "Name: Pending amount, dtype: int64"
      ]
     },
     "execution_count": 86,
     "metadata": {},
     "output_type": "execute_result"
    }
   ],
   "source": [
    "df1.groupby('Default')['Pending amount'].sum()"
   ]
  },
  {
   "cell_type": "code",
   "execution_count": 87,
   "metadata": {},
   "outputs": [
    {
     "data": {
      "text/plain": [
       "Default\n",
       "0    2522266285\n",
       "1    2456201578\n",
       "Name: Loan, dtype: int64"
      ]
     },
     "execution_count": 87,
     "metadata": {},
     "output_type": "execute_result"
    }
   ],
   "source": [
    "df1.groupby('Default')['Loan'].sum()"
   ]
  },
  {
   "cell_type": "code",
   "execution_count": 88,
   "metadata": {},
   "outputs": [
    {
     "data": {
      "text/plain": [
       "Default\n",
       "0    2533\n",
       "1    2445\n",
       "Name: Insurance, dtype: int64"
      ]
     },
     "execution_count": 88,
     "metadata": {},
     "output_type": "execute_result"
    }
   ],
   "source": [
    "df1.groupby('Default')['Insurance'].sum()"
   ]
  },
  {
   "cell_type": "code",
   "execution_count": 89,
   "metadata": {},
   "outputs": [
    {
     "data": {
      "text/plain": [
       "Bank\n",
       "HDFC     1680\n",
       "ICICI    1634\n",
       "SBI      1664\n",
       "Name: Default, dtype: int64"
      ]
     },
     "execution_count": 89,
     "metadata": {},
     "output_type": "execute_result"
    }
   ],
   "source": [
    "df1.groupby('Bank')['Default'].sum()"
   ]
  },
  {
   "cell_type": "markdown",
   "metadata": {},
   "source": [
    "#### All of the default and non defualt data is almost equally dustributed amongts the variables hence we can conclude that for almost all the variables theer is equal amount of defaulters and non defaulters"
   ]
  },
  {
   "cell_type": "markdown",
   "metadata": {},
   "source": [
    "# Feature Engineering"
   ]
  },
  {
   "cell_type": "code",
   "execution_count": 90,
   "metadata": {},
   "outputs": [],
   "source": [
    "#creating a new variable \"score\" which will ampunt for the payments made till date, amount pending, savings account, dmat account, and FDs.\n",
    "#we wont be considering varibles such as the bank name here since the defaulters are equally distributed among all the banks\n",
    "#same is the case with the city"
   ]
  },
  {
   "cell_type": "markdown",
   "metadata": {},
   "source": [
    "### Score = (Pending amount + DMAT + Insurance)/(Repayed + Savings amount)"
   ]
  },
  {
   "cell_type": "code",
   "execution_count": 91,
   "metadata": {},
   "outputs": [],
   "source": [
    "df1['score'] = (df1['Pending amount']+ df1['Loan'])/(df1['Repayed'] + df1['Savings'])"
   ]
  },
  {
   "cell_type": "code",
   "execution_count": 92,
   "metadata": {},
   "outputs": [
    {
     "data": {
      "text/plain": [
       "0        1.958483\n",
       "1        0.755547\n",
       "2        0.943446\n",
       "3        0.928328\n",
       "4       18.513922\n",
       "          ...    \n",
       "9995     1.518179\n",
       "9996     4.498629\n",
       "9997     0.491972\n",
       "9998     0.261667\n",
       "9999     1.814127\n",
       "Name: score, Length: 9998, dtype: float64"
      ]
     },
     "execution_count": 92,
     "metadata": {},
     "output_type": "execute_result"
    }
   ],
   "source": [
    "df1['score']"
   ]
  },
  {
   "cell_type": "code",
   "execution_count": 93,
   "metadata": {},
   "outputs": [
    {
     "data": {
      "text/plain": [
       "<matplotlib.axes._subplots.AxesSubplot at 0x16342bed208>"
      ]
     },
     "execution_count": 93,
     "metadata": {},
     "output_type": "execute_result"
    },
    {
     "data": {
      "image/png": "[encoded data removed]",
      "text/plain": [
       "<Figure size 432x288 with 1 Axes>"
      ]
     },
     "metadata": {
      "needs_background": "light"
     },
     "output_type": "display_data"
    }
   ],
   "source": [
    "df1['Age'].hist()"
   ]
  },
  {
   "cell_type": "code",
   "execution_count": 94,
   "metadata": {},
   "outputs": [
    {
     "data": {
      "text/plain": [
       "<matplotlib.axes._subplots.AxesSubplot at 0x1634259f988>"
      ]
     },
     "execution_count": 94,
     "metadata": {},
     "output_type": "execute_result"
    },
    {
     "data": {
      "image/png": "[encoded data removed]",
      "text/plain": [
       "<Figure size 432x288 with 1 Axes>"
      ]
     },
     "metadata": {
      "needs_background": "light"
     },
     "output_type": "display_data"
    }
   ],
   "source": [
    "df1['score'].hist()"
   ]
  },
  {
   "cell_type": "code",
   "execution_count": 95,
   "metadata": {},
   "outputs": [],
   "source": [
    "# creating instance of labelencoder\n",
    "labelencoder = LabelEncoder()\n",
    "#using label encoder for these two columns as there is a lot of variables\n",
    "df1['cat_Bank'] = labelencoder.fit_transform(df1['Bank']) # using label encoder on continent\n",
    "df1['cat_City'] = labelencoder.fit_transform(df1['City']) # using label encoder on industry group"
   ]
  },
  {
   "cell_type": "code",
   "execution_count": 96,
   "metadata": {},
   "outputs": [],
   "source": [
    "df1.drop(columns=['Bank', 'City'], inplace = True)"
   ]
  },
  {
   "cell_type": "code",
   "execution_count": 97,
   "metadata": {},
   "outputs": [
    {
     "data": {
      "text/plain": [
       "Index(['Customer ID', 'Pending amount', 'Repayed', 'Gender', 'State',\n",
       "       'Default', 'Purchase Channel', 'Age', 'Insurance', 'Loan', 'Savings',\n",
       "       'FD', 'DMAT', 'Card Type', 'score', 'cat_Bank', 'cat_City'],\n",
       "      dtype='object')"
      ]
     },
     "execution_count": 97,
     "metadata": {},
     "output_type": "execute_result"
    }
   ],
   "source": [
    "df1.columns"
   ]
  },
  {
   "cell_type": "code",
   "execution_count": 177,
   "metadata": {},
   "outputs": [
    {
     "data": {
      "text/html": [
       "<div>\n",
       "<style scoped>\n",
       "    .dataframe tbody tr th:only-of-type {\n",
       "        vertical-align: middle;\n",
       "    }\n",
       "\n",
       "    .dataframe tbody tr th {\n",
       "        vertical-align: top;\n",
       "    }\n",
       "\n",
       "    .dataframe thead th {\n",
       "        text-align: right;\n",
       "    }\n",
       "</style>\n",
       "<table border=\"1\" class=\"dataframe\">\n",
       "  <thead>\n",
       "    <tr style=\"text-align: right;\">\n",
       "      <th>Default</th>\n",
       "      <th>0</th>\n",
       "      <th>1</th>\n",
       "    </tr>\n",
       "  </thead>\n",
       "  <tbody>\n",
       "    <tr>\n",
       "      <th>Customer ID</th>\n",
       "      <td>4.416171e+08</td>\n",
       "      <td>4.379113e+08</td>\n",
       "    </tr>\n",
       "    <tr>\n",
       "      <th>Pending amount</th>\n",
       "      <td>4.973402e+05</td>\n",
       "      <td>5.028272e+05</td>\n",
       "    </tr>\n",
       "    <tr>\n",
       "      <th>Repayed</th>\n",
       "      <td>5.094228e+05</td>\n",
       "      <td>5.049525e+05</td>\n",
       "    </tr>\n",
       "    <tr>\n",
       "      <th>Gender</th>\n",
       "      <td>4.976096e-01</td>\n",
       "      <td>4.897549e-01</td>\n",
       "    </tr>\n",
       "    <tr>\n",
       "      <th>State</th>\n",
       "      <td>1.015737e+00</td>\n",
       "      <td>1.004018e+00</td>\n",
       "    </tr>\n",
       "    <tr>\n",
       "      <th>Purchase Channel</th>\n",
       "      <td>1.985657e+00</td>\n",
       "      <td>1.975894e+00</td>\n",
       "    </tr>\n",
       "    <tr>\n",
       "      <th>Age</th>\n",
       "      <td>4.639781e+01</td>\n",
       "      <td>4.667758e+01</td>\n",
       "    </tr>\n",
       "    <tr>\n",
       "      <th>Insurance</th>\n",
       "      <td>5.045817e-01</td>\n",
       "      <td>4.911611e-01</td>\n",
       "    </tr>\n",
       "    <tr>\n",
       "      <th>Loan</th>\n",
       "      <td>5.024435e+05</td>\n",
       "      <td>4.934113e+05</td>\n",
       "    </tr>\n",
       "    <tr>\n",
       "      <th>Savings</th>\n",
       "      <td>4.991628e+05</td>\n",
       "      <td>5.003914e+05</td>\n",
       "    </tr>\n",
       "    <tr>\n",
       "      <th>FD</th>\n",
       "      <td>4.974104e-01</td>\n",
       "      <td>4.995982e-01</td>\n",
       "    </tr>\n",
       "    <tr>\n",
       "      <th>DMAT</th>\n",
       "      <td>5.017928e-01</td>\n",
       "      <td>5.022097e-01</td>\n",
       "    </tr>\n",
       "    <tr>\n",
       "      <th>Card Type</th>\n",
       "      <td>5.125498e-01</td>\n",
       "      <td>5.078345e-01</td>\n",
       "    </tr>\n",
       "    <tr>\n",
       "      <th>score</th>\n",
       "      <td>1.333008e+00</td>\n",
       "      <td>1.324780e+00</td>\n",
       "    </tr>\n",
       "    <tr>\n",
       "      <th>cat_Bank</th>\n",
       "      <td>9.968127e-01</td>\n",
       "      <td>9.967859e-01</td>\n",
       "    </tr>\n",
       "    <tr>\n",
       "      <th>cat_City</th>\n",
       "      <td>1.507570e+00</td>\n",
       "      <td>1.476697e+00</td>\n",
       "    </tr>\n",
       "  </tbody>\n",
       "</table>\n",
       "</div>"
      ],
      "text/plain": [
       "Default                      0             1\n",
       "Customer ID       4.416171e+08  4.379113e+08\n",
       "Pending amount    4.973402e+05  5.028272e+05\n",
       "Repayed           5.094228e+05  5.049525e+05\n",
       "Gender            4.976096e-01  4.897549e-01\n",
       "State             1.015737e+00  1.004018e+00\n",
       "Purchase Channel  1.985657e+00  1.975894e+00\n",
       "Age               4.639781e+01  4.667758e+01\n",
       "Insurance         5.045817e-01  4.911611e-01\n",
       "Loan              5.024435e+05  4.934113e+05\n",
       "Savings           4.991628e+05  5.003914e+05\n",
       "FD                4.974104e-01  4.995982e-01\n",
       "DMAT              5.017928e-01  5.022097e-01\n",
       "Card Type         5.125498e-01  5.078345e-01\n",
       "score             1.333008e+00  1.324780e+00\n",
       "cat_Bank          9.968127e-01  9.967859e-01\n",
       "cat_City          1.507570e+00  1.476697e+00"
      ]
     },
     "execution_count": 177,
     "metadata": {},
     "output_type": "execute_result"
    }
   ],
   "source": [
    "df1.groupby('Default').mean().T"
   ]
  },
  {
   "cell_type": "code",
   "execution_count": 178,
   "metadata": {},
   "outputs": [
    {
     "data": {
      "text/plain": [
       "<matplotlib.axes._subplots.AxesSubplot at 0x163427f3088>"
      ]
     },
     "execution_count": 178,
     "metadata": {},
     "output_type": "execute_result"
    },
    {
     "data": {
      "image/png": "[encoded data removed]",
      "text/plain": [
       "<Figure size 2520x2520 with 2 Axes>"
      ]
     },
     "metadata": {
      "needs_background": "light"
     },
     "output_type": "display_data"
    }
   ],
   "source": [
    "#creating correlation matrix\n",
    "colormap = plt.cm.viridis\n",
    "plt.figure(figsize = (35, 35))\n",
    "plt.title('Pearson Correlation of features', y = 1.05, size = 15)\n",
    "matrix = np.triu(df1.corr())\n",
    "sns.heatmap(df1.astype(float).corr(), linewidth = 0.1, vmax = 1.0, square =True, cmap=colormap, linecolor = 'white', annot=True, mask = matrix)\n"
   ]
  },
  {
   "cell_type": "markdown",
   "metadata": {},
   "source": [
    "### The new variable score which is calculated using pending amount, repayed amount, loan and savings of the individual these ae highly correlated. Hence droping thses variables to include the new score"
   ]
  },
  {
   "cell_type": "code",
   "execution_count": 179,
   "metadata": {},
   "outputs": [],
   "source": [
    "#category bank also has a very less corelation \n",
    "df2 = df1.drop(columns = ['Pending amount', 'Loan', 'Savings', 'Repayed', 'cat_Bank', 'Customer ID'])"
   ]
  },
  {
   "cell_type": "code",
   "execution_count": 180,
   "metadata": {},
   "outputs": [
    {
     "data": {
      "text/plain": [
       "Index(['Gender', 'State', 'Default', 'Purchase Channel', 'Age', 'Insurance',\n",
       "       'FD', 'DMAT', 'Card Type', 'score', 'cat_City'],\n",
       "      dtype='object')"
      ]
     },
     "execution_count": 180,
     "metadata": {},
     "output_type": "execute_result"
    }
   ],
   "source": [
    "df2.columns"
   ]
  },
  {
   "cell_type": "markdown",
   "metadata": {},
   "source": [
    "# Logistic Regression"
   ]
  },
  {
   "cell_type": "code",
   "execution_count": 181,
   "metadata": {},
   "outputs": [],
   "source": [
    "Y_1 = df2.Default\n",
    "X_1 = df2.drop('Default', axis = 1) #setting features"
   ]
  },
  {
   "cell_type": "code",
   "execution_count": 182,
   "metadata": {},
   "outputs": [
    {
     "name": "stdout",
     "output_type": "stream",
     "text": [
      "(9998, 10)\n",
      "(9998,)\n"
     ]
    }
   ],
   "source": [
    "print(X_1.shape)\n",
    "print(Y_1.shape)"
   ]
  },
  {
   "cell_type": "code",
   "execution_count": 183,
   "metadata": {},
   "outputs": [],
   "source": [
    "from sklearn.metrics import accuracy_score, f1_score, recall_score, precision_score\n",
    "from sklearn.model_selection import train_test_split\n",
    "from sklearn.linear_model import LogisticRegression\n",
    "from sklearn.model_selection import GridSearchCV\n",
    "from IPython.display import display"
   ]
  },
  {
   "cell_type": "code",
   "execution_count": 184,
   "metadata": {},
   "outputs": [],
   "source": [
    "parameters = {'C': [0.1, 1, 10], 'max_iter': [500, 1000], 'solver': ['lbfgs', 'liblinear']}"
   ]
  },
  {
   "cell_type": "code",
   "execution_count": 185,
   "metadata": {},
   "outputs": [
    {
     "name": "stdout",
     "output_type": "stream",
     "text": [
      "7998 samples for train/val, 2000 samples for testing.\n"
     ]
    },
    {
     "data": {
      "text/plain": [
       "{'mean_fit_time': array([0.05538189, 0.03252828, 0.04788988, 0.03590477, 0.047052  ,\n",
       "        0.02895963, 0.05070536, 0.03269305, 0.04711192, 0.03398271,\n",
       "        0.04947331, 0.03063672]),\n",
       " 'std_fit_time': array([0.0130303 , 0.00624327, 0.00551957, 0.00450133, 0.01994203,\n",
       "        0.00582882, 0.02203191, 0.00981953, 0.01841447, 0.00656981,\n",
       "        0.01761045, 0.01044294]),\n",
       " 'mean_score_time': array([0.00244181, 0.00215931, 0.00256636, 0.00202887, 0.00210025,\n",
       "        0.00205774, 0.00200408, 0.00224037, 0.00229537, 0.00214016,\n",
       "        0.00227673, 0.0019383 ]),\n",
       " 'std_score_time': array([6.39943217e-04, 3.64839057e-04, 1.19504840e-03, 5.72674817e-04,\n",
       "        3.00684291e-04, 4.88209496e-04, 4.87220486e-06, 5.96834423e-04,\n",
       "        5.07126364e-04, 2.98149163e-04, 4.75680415e-04, 7.14409358e-04]),\n",
       " 'param_C': masked_array(data=[0.1, 0.1, 0.1, 0.1, 1, 1, 1, 1, 10, 10, 10, 10],\n",
       "              mask=[False, False, False, False, False, False, False, False,\n",
       "                    False, False, False, False],\n",
       "        fill_value='?',\n",
       "             dtype=object),\n",
       " 'param_max_iter': masked_array(data=[500, 500, 1000, 1000, 500, 500, 1000, 1000, 500, 500,\n",
       "                    1000, 1000],\n",
       "              mask=[False, False, False, False, False, False, False, False,\n",
       "                    False, False, False, False],\n",
       "        fill_value='?',\n",
       "             dtype=object),\n",
       " 'param_solver': masked_array(data=['lbfgs', 'liblinear', 'lbfgs', 'liblinear', 'lbfgs',\n",
       "                    'liblinear', 'lbfgs', 'liblinear', 'lbfgs',\n",
       "                    'liblinear', 'lbfgs', 'liblinear'],\n",
       "              mask=[False, False, False, False, False, False, False, False,\n",
       "                    False, False, False, False],\n",
       "        fill_value='?',\n",
       "             dtype=object),\n",
       " 'params': [{'C': 0.1, 'max_iter': 500, 'solver': 'lbfgs'},\n",
       "  {'C': 0.1, 'max_iter': 500, 'solver': 'liblinear'},\n",
       "  {'C': 0.1, 'max_iter': 1000, 'solver': 'lbfgs'},\n",
       "  {'C': 0.1, 'max_iter': 1000, 'solver': 'liblinear'},\n",
       "  {'C': 1, 'max_iter': 500, 'solver': 'lbfgs'},\n",
       "  {'C': 1, 'max_iter': 500, 'solver': 'liblinear'},\n",
       "  {'C': 1, 'max_iter': 1000, 'solver': 'lbfgs'},\n",
       "  {'C': 1, 'max_iter': 1000, 'solver': 'liblinear'},\n",
       "  {'C': 10, 'max_iter': 500, 'solver': 'lbfgs'},\n",
       "  {'C': 10, 'max_iter': 500, 'solver': 'liblinear'},\n",
       "  {'C': 10, 'max_iter': 1000, 'solver': 'lbfgs'},\n",
       "  {'C': 10, 'max_iter': 1000, 'solver': 'liblinear'}],\n",
       " 'split0_test_score': array([0.47   , 0.47125, 0.47   , 0.47125, 0.47   , 0.47   , 0.47   ,\n",
       "        0.47   , 0.46875, 0.46875, 0.46875, 0.46875]),\n",
       " 'split1_test_score': array([0.5175, 0.5175, 0.5175, 0.5175, 0.5175, 0.5175, 0.5175, 0.5175,\n",
       "        0.5175, 0.5175, 0.5175, 0.5175]),\n",
       " 'split2_test_score': array([0.47625, 0.47875, 0.47625, 0.47875, 0.48   , 0.48   , 0.48   ,\n",
       "        0.48   , 0.48125, 0.48   , 0.48125, 0.48   ]),\n",
       " 'split3_test_score': array([0.51125, 0.50875, 0.51125, 0.50875, 0.51   , 0.51   , 0.51   ,\n",
       "        0.51   , 0.51   , 0.51   , 0.51   , 0.51   ]),\n",
       " 'split4_test_score': array([0.47875, 0.48   , 0.47875, 0.48   , 0.48125, 0.48125, 0.48125,\n",
       "        0.48125, 0.48125, 0.48125, 0.48125, 0.48125]),\n",
       " 'split5_test_score': array([0.5025 , 0.505  , 0.5025 , 0.505  , 0.5    , 0.49875, 0.5    ,\n",
       "        0.49875, 0.5    , 0.49875, 0.5    , 0.49875]),\n",
       " 'split6_test_score': array([0.49625, 0.495  , 0.49625, 0.495  , 0.49375, 0.49375, 0.49375,\n",
       "        0.49375, 0.495  , 0.495  , 0.495  , 0.495  ]),\n",
       " 'split7_test_score': array([0.48125, 0.48125, 0.48125, 0.48125, 0.48   , 0.48   , 0.48   ,\n",
       "        0.48   , 0.48   , 0.48   , 0.48   , 0.48   ]),\n",
       " 'split8_test_score': array([0.50438048, 0.50312891, 0.50438048, 0.50312891, 0.5068836 ,\n",
       "        0.50813517, 0.5068836 , 0.50813517, 0.50563204, 0.5068836 ,\n",
       "        0.50563204, 0.5068836 ]),\n",
       " 'split9_test_score': array([0.51564456, 0.5106383 , 0.51564456, 0.5106383 , 0.5106383 ,\n",
       "        0.5106383 , 0.5106383 , 0.5106383 , 0.5106383 , 0.5106383 ,\n",
       "        0.5106383 , 0.5106383 ]),\n",
       " 'mean_test_score': array([0.4953775 , 0.49512672, 0.4953775 , 0.49512672, 0.49500219,\n",
       "        0.49500235, 0.49500219, 0.49500235, 0.49500203, 0.49487719,\n",
       "        0.49500203, 0.49487719]),\n",
       " 'std_test_score': array([0.01664505, 0.0153231 , 0.01664505, 0.0153231 , 0.01551661,\n",
       "        0.01558213, 0.01551661, 0.01558213, 0.0155114 , 0.0156814 ,\n",
       "        0.0155114 , 0.0156814 ]),\n",
       " 'rank_test_score': array([ 1,  3,  1,  3,  7,  5,  7,  5,  9, 11,  9, 11])}"
      ]
     },
     "metadata": {},
     "output_type": "display_data"
    }
   ],
   "source": [
    "X_1, X_test, Y_1, Y_test = train_test_split(X_1, Y_1, test_size=0.2, shuffle=True, stratify=Y_1)\n",
    "print('{:d} samples for train/val, {:d} samples for testing.'.format(len(X_1), len(X_test)))\n",
    "\n",
    "lr = GridSearchCV(LogisticRegression(), param_grid=parameters, cv=10, scoring='accuracy', n_jobs=max(1, cpn_cnt-1))\n",
    "lr.fit(X_1, Y_1)\n",
    "display(lr.cv_results_)"
   ]
  },
  {
   "cell_type": "code",
   "execution_count": 186,
   "metadata": {},
   "outputs": [
    {
     "name": "stdout",
     "output_type": "stream",
     "text": [
      "Testing set performance: \n",
      "acc: 0.51, precision: 0.51, recall: 0.47, f1: 0.49\n"
     ]
    }
   ],
   "source": [
    "print('Testing set performance: ')\n",
    "preds = lr.predict(X_test) # prediction\n",
    "acc = accuracy_score(Y_test, preds) # evaluations\n",
    "precision = precision_score(Y_test, preds)\n",
    "recall = recall_score(Y_test, preds)\n",
    "f1 = f1_score(Y_test, preds)\n",
    "print('acc: {:.2f}, precision: {:.2f}, recall: {:.2f}, f1: {:.2f}'.format(acc, precision, recall, f1))"
   ]
  },
  {
   "cell_type": "code",
   "execution_count": 192,
   "metadata": {},
   "outputs": [
    {
     "name": "stdout",
     "output_type": "stream",
     "text": [
      "        FD: 0.0392\n",
      "     score: 0.0060\n",
      "       Age: 0.0022\n",
      "Purchase Channel: 0.0011\n",
      "   Default: -0.0069\n",
      "      DMAT: -0.0073\n",
      " Card Type: -0.0234\n",
      "  cat_City: -0.0292\n",
      "   w0 (+1): -0.0353\n",
      " Insurance: -0.0355\n",
      "     State: -0.0463\n"
     ]
    }
   ],
   "source": [
    "best_lr = lr.best_estimator_\n",
    "W_inspect = np.append(best_lr.coef_.flatten(), best_lr.intercept_.flatten(), axis=-1) # Check weights of perceptron to acquire knowledge of dating? ;)\n",
    "features_key = np.array(list(df2.iloc[:, 1:]) + ['w0 (+1)'])\n",
    "order = np.argsort(-W_inspect)\n",
    "weights, keys = W_inspect[order], features_key[order]\n",
    "for w, k in zip(weights, keys):\n",
    "    print('{:>10}: {:.4f}'.format(k, w))"
   ]
  },
  {
   "cell_type": "markdown",
   "metadata": {},
   "source": [
    "# Random Forest "
   ]
  },
  {
   "cell_type": "code",
   "execution_count": 121,
   "metadata": {},
   "outputs": [
    {
     "data": {
      "text/html": [
       "<div>\n",
       "<style scoped>\n",
       "    .dataframe tbody tr th:only-of-type {\n",
       "        vertical-align: middle;\n",
       "    }\n",
       "\n",
       "    .dataframe tbody tr th {\n",
       "        vertical-align: top;\n",
       "    }\n",
       "\n",
       "    .dataframe thead th {\n",
       "        text-align: right;\n",
       "    }\n",
       "</style>\n",
       "<table border=\"1\" class=\"dataframe\">\n",
       "  <thead>\n",
       "    <tr style=\"text-align: right;\">\n",
       "      <th></th>\n",
       "      <th>Customer ID</th>\n",
       "      <th>Pending amount</th>\n",
       "      <th>Repayed</th>\n",
       "      <th>Gender</th>\n",
       "      <th>State</th>\n",
       "      <th>Default</th>\n",
       "      <th>Purchase Channel</th>\n",
       "      <th>Age</th>\n",
       "      <th>Insurance</th>\n",
       "      <th>Loan</th>\n",
       "      <th>Savings</th>\n",
       "      <th>FD</th>\n",
       "      <th>DMAT</th>\n",
       "      <th>Card Type</th>\n",
       "      <th>score</th>\n",
       "      <th>cat_Bank</th>\n",
       "      <th>cat_City</th>\n",
       "    </tr>\n",
       "  </thead>\n",
       "  <tbody>\n",
       "    <tr>\n",
       "      <th>0</th>\n",
       "      <td>546301568</td>\n",
       "      <td>582993</td>\n",
       "      <td>420324.0</td>\n",
       "      <td>1</td>\n",
       "      <td>0</td>\n",
       "      <td>1</td>\n",
       "      <td>3</td>\n",
       "      <td>59.0</td>\n",
       "      <td>1</td>\n",
       "      <td>663918</td>\n",
       "      <td>216348</td>\n",
       "      <td>0</td>\n",
       "      <td>1</td>\n",
       "      <td>0</td>\n",
       "      <td>1.958483</td>\n",
       "      <td>1</td>\n",
       "      <td>1</td>\n",
       "    </tr>\n",
       "    <tr>\n",
       "      <th>1</th>\n",
       "      <td>18658241</td>\n",
       "      <td>760344</td>\n",
       "      <td>708671.0</td>\n",
       "      <td>1</td>\n",
       "      <td>0</td>\n",
       "      <td>1</td>\n",
       "      <td>1</td>\n",
       "      <td>59.0</td>\n",
       "      <td>1</td>\n",
       "      <td>107236</td>\n",
       "      <td>439609</td>\n",
       "      <td>1</td>\n",
       "      <td>0</td>\n",
       "      <td>0</td>\n",
       "      <td>0.755547</td>\n",
       "      <td>2</td>\n",
       "      <td>2</td>\n",
       "    </tr>\n",
       "    <tr>\n",
       "      <th>2</th>\n",
       "      <td>545307255</td>\n",
       "      <td>433971</td>\n",
       "      <td>835055.0</td>\n",
       "      <td>0</td>\n",
       "      <td>2</td>\n",
       "      <td>0</td>\n",
       "      <td>1</td>\n",
       "      <td>35.0</td>\n",
       "      <td>0</td>\n",
       "      <td>745659</td>\n",
       "      <td>415287</td>\n",
       "      <td>1</td>\n",
       "      <td>0</td>\n",
       "      <td>1</td>\n",
       "      <td>0.943446</td>\n",
       "      <td>2</td>\n",
       "      <td>1</td>\n",
       "    </tr>\n",
       "    <tr>\n",
       "      <th>3</th>\n",
       "      <td>685777392</td>\n",
       "      <td>945476</td>\n",
       "      <td>759583.0</td>\n",
       "      <td>0</td>\n",
       "      <td>1</td>\n",
       "      <td>1</td>\n",
       "      <td>2</td>\n",
       "      <td>38.0</td>\n",
       "      <td>0</td>\n",
       "      <td>24216</td>\n",
       "      <td>284974</td>\n",
       "      <td>0</td>\n",
       "      <td>0</td>\n",
       "      <td>0</td>\n",
       "      <td>0.928328</td>\n",
       "      <td>2</td>\n",
       "      <td>3</td>\n",
       "    </tr>\n",
       "    <tr>\n",
       "      <th>4</th>\n",
       "      <td>838154128</td>\n",
       "      <td>874825</td>\n",
       "      <td>71394.0</td>\n",
       "      <td>1</td>\n",
       "      <td>2</td>\n",
       "      <td>1</td>\n",
       "      <td>3</td>\n",
       "      <td>50.0</td>\n",
       "      <td>0</td>\n",
       "      <td>794057</td>\n",
       "      <td>18748</td>\n",
       "      <td>1</td>\n",
       "      <td>1</td>\n",
       "      <td>1</td>\n",
       "      <td>18.513922</td>\n",
       "      <td>2</td>\n",
       "      <td>3</td>\n",
       "    </tr>\n",
       "  </tbody>\n",
       "</table>\n",
       "</div>"
      ],
      "text/plain": [
       "   Customer ID  Pending amount   Repayed  Gender  State  Default  \\\n",
       "0    546301568          582993  420324.0       1      0        1   \n",
       "1     18658241          760344  708671.0       1      0        1   \n",
       "2    545307255          433971  835055.0       0      2        0   \n",
       "3    685777392          945476  759583.0       0      1        1   \n",
       "4    838154128          874825   71394.0       1      2        1   \n",
       "\n",
       "   Purchase Channel   Age  Insurance    Loan  Savings  FD  DMAT  Card Type  \\\n",
       "0                 3  59.0          1  663918   216348   0     1          0   \n",
       "1                 1  59.0          1  107236   439609   1     0          0   \n",
       "2                 1  35.0          0  745659   415287   1     0          1   \n",
       "3                 2  38.0          0   24216   284974   0     0          0   \n",
       "4                 3  50.0          0  794057    18748   1     1          1   \n",
       "\n",
       "       score  cat_Bank  cat_City  \n",
       "0   1.958483         1         1  \n",
       "1   0.755547         2         2  \n",
       "2   0.943446         2         1  \n",
       "3   0.928328         2         3  \n",
       "4  18.513922         2         3  "
      ]
     },
     "execution_count": 121,
     "metadata": {},
     "output_type": "execute_result"
    }
   ],
   "source": [
    "#using df1\n",
    "df1.head()"
   ]
  },
  {
   "cell_type": "code",
   "execution_count": 122,
   "metadata": {},
   "outputs": [],
   "source": [
    "#based on previous analysis\n",
    "df3 = df1.drop(columns=['cat_Bank', 'Customer ID', 'score'])"
   ]
  },
  {
   "cell_type": "code",
   "execution_count": 123,
   "metadata": {},
   "outputs": [
    {
     "data": {
      "text/plain": [
       "Index(['Pending amount', 'Repayed', 'Gender', 'State', 'Default',\n",
       "       'Purchase Channel', 'Age', 'Insurance', 'Loan', 'Savings', 'FD', 'DMAT',\n",
       "       'Card Type', 'cat_City'],\n",
       "      dtype='object')"
      ]
     },
     "execution_count": 123,
     "metadata": {},
     "output_type": "execute_result"
    }
   ],
   "source": [
    "df3.columns"
   ]
  },
  {
   "cell_type": "code",
   "execution_count": 124,
   "metadata": {},
   "outputs": [
    {
     "data": {
      "text/html": [
       "<div>\n",
       "<style scoped>\n",
       "    .dataframe tbody tr th:only-of-type {\n",
       "        vertical-align: middle;\n",
       "    }\n",
       "\n",
       "    .dataframe tbody tr th {\n",
       "        vertical-align: top;\n",
       "    }\n",
       "\n",
       "    .dataframe thead th {\n",
       "        text-align: right;\n",
       "    }\n",
       "</style>\n",
       "<table border=\"1\" class=\"dataframe\">\n",
       "  <thead>\n",
       "    <tr style=\"text-align: right;\">\n",
       "      <th></th>\n",
       "      <th>count</th>\n",
       "      <th>mean</th>\n",
       "      <th>std</th>\n",
       "      <th>min</th>\n",
       "      <th>25%</th>\n",
       "      <th>50%</th>\n",
       "      <th>75%</th>\n",
       "      <th>max</th>\n",
       "    </tr>\n",
       "  </thead>\n",
       "  <tbody>\n",
       "    <tr>\n",
       "      <th>Pending amount</th>\n",
       "      <td>9998.0</td>\n",
       "      <td>500072.188538</td>\n",
       "      <td>290067.802298</td>\n",
       "      <td>29.0</td>\n",
       "      <td>243944.25</td>\n",
       "      <td>501298.0</td>\n",
       "      <td>750867.00</td>\n",
       "      <td>999874.0</td>\n",
       "    </tr>\n",
       "    <tr>\n",
       "      <th>Repayed</th>\n",
       "      <td>9998.0</td>\n",
       "      <td>507197.029106</td>\n",
       "      <td>285661.194758</td>\n",
       "      <td>10014.0</td>\n",
       "      <td>259971.75</td>\n",
       "      <td>506023.0</td>\n",
       "      <td>757656.75</td>\n",
       "      <td>999946.0</td>\n",
       "    </tr>\n",
       "    <tr>\n",
       "      <th>Gender</th>\n",
       "      <td>9998.0</td>\n",
       "      <td>0.493699</td>\n",
       "      <td>0.499985</td>\n",
       "      <td>0.0</td>\n",
       "      <td>0.00</td>\n",
       "      <td>0.0</td>\n",
       "      <td>1.00</td>\n",
       "      <td>1.0</td>\n",
       "    </tr>\n",
       "    <tr>\n",
       "      <th>State</th>\n",
       "      <td>9998.0</td>\n",
       "      <td>1.009902</td>\n",
       "      <td>0.816089</td>\n",
       "      <td>0.0</td>\n",
       "      <td>0.00</td>\n",
       "      <td>1.0</td>\n",
       "      <td>2.00</td>\n",
       "      <td>2.0</td>\n",
       "    </tr>\n",
       "    <tr>\n",
       "      <th>Default</th>\n",
       "      <td>9998.0</td>\n",
       "      <td>0.497900</td>\n",
       "      <td>0.500021</td>\n",
       "      <td>0.0</td>\n",
       "      <td>0.00</td>\n",
       "      <td>0.0</td>\n",
       "      <td>1.00</td>\n",
       "      <td>1.0</td>\n",
       "    </tr>\n",
       "    <tr>\n",
       "      <th>Purchase Channel</th>\n",
       "      <td>9998.0</td>\n",
       "      <td>1.980796</td>\n",
       "      <td>0.815862</td>\n",
       "      <td>1.0</td>\n",
       "      <td>1.00</td>\n",
       "      <td>2.0</td>\n",
       "      <td>3.00</td>\n",
       "      <td>3.0</td>\n",
       "    </tr>\n",
       "    <tr>\n",
       "      <th>Age</th>\n",
       "      <td>9998.0</td>\n",
       "      <td>46.537107</td>\n",
       "      <td>11.008494</td>\n",
       "      <td>28.0</td>\n",
       "      <td>37.00</td>\n",
       "      <td>47.0</td>\n",
       "      <td>56.00</td>\n",
       "      <td>65.0</td>\n",
       "    </tr>\n",
       "    <tr>\n",
       "      <th>Insurance</th>\n",
       "      <td>9998.0</td>\n",
       "      <td>0.497900</td>\n",
       "      <td>0.500021</td>\n",
       "      <td>0.0</td>\n",
       "      <td>0.00</td>\n",
       "      <td>0.0</td>\n",
       "      <td>1.00</td>\n",
       "      <td>1.0</td>\n",
       "    </tr>\n",
       "    <tr>\n",
       "      <th>Loan</th>\n",
       "      <td>9998.0</td>\n",
       "      <td>497946.375575</td>\n",
       "      <td>288375.525101</td>\n",
       "      <td>4.0</td>\n",
       "      <td>247224.25</td>\n",
       "      <td>498516.0</td>\n",
       "      <td>746154.50</td>\n",
       "      <td>999915.0</td>\n",
       "    </tr>\n",
       "    <tr>\n",
       "      <th>Savings</th>\n",
       "      <td>9998.0</td>\n",
       "      <td>499774.504201</td>\n",
       "      <td>289170.685108</td>\n",
       "      <td>24.0</td>\n",
       "      <td>250026.75</td>\n",
       "      <td>496520.0</td>\n",
       "      <td>749229.00</td>\n",
       "      <td>999915.0</td>\n",
       "    </tr>\n",
       "    <tr>\n",
       "      <th>FD</th>\n",
       "      <td>9998.0</td>\n",
       "      <td>0.498500</td>\n",
       "      <td>0.500023</td>\n",
       "      <td>0.0</td>\n",
       "      <td>0.00</td>\n",
       "      <td>0.0</td>\n",
       "      <td>1.00</td>\n",
       "      <td>1.0</td>\n",
       "    </tr>\n",
       "    <tr>\n",
       "      <th>DMAT</th>\n",
       "      <td>9998.0</td>\n",
       "      <td>0.502000</td>\n",
       "      <td>0.500021</td>\n",
       "      <td>0.0</td>\n",
       "      <td>0.00</td>\n",
       "      <td>1.0</td>\n",
       "      <td>1.00</td>\n",
       "      <td>1.0</td>\n",
       "    </tr>\n",
       "    <tr>\n",
       "      <th>Card Type</th>\n",
       "      <td>9998.0</td>\n",
       "      <td>0.510202</td>\n",
       "      <td>0.499921</td>\n",
       "      <td>0.0</td>\n",
       "      <td>0.00</td>\n",
       "      <td>1.0</td>\n",
       "      <td>1.00</td>\n",
       "      <td>1.0</td>\n",
       "    </tr>\n",
       "    <tr>\n",
       "      <th>cat_City</th>\n",
       "      <td>9998.0</td>\n",
       "      <td>1.492198</td>\n",
       "      <td>1.116809</td>\n",
       "      <td>0.0</td>\n",
       "      <td>0.00</td>\n",
       "      <td>1.0</td>\n",
       "      <td>2.00</td>\n",
       "      <td>3.0</td>\n",
       "    </tr>\n",
       "  </tbody>\n",
       "</table>\n",
       "</div>"
      ],
      "text/plain": [
       "                   count           mean            std      min        25%  \\\n",
       "Pending amount    9998.0  500072.188538  290067.802298     29.0  243944.25   \n",
       "Repayed           9998.0  507197.029106  285661.194758  10014.0  259971.75   \n",
       "Gender            9998.0       0.493699       0.499985      0.0       0.00   \n",
       "State             9998.0       1.009902       0.816089      0.0       0.00   \n",
       "Default           9998.0       0.497900       0.500021      0.0       0.00   \n",
       "Purchase Channel  9998.0       1.980796       0.815862      1.0       1.00   \n",
       "Age               9998.0      46.537107      11.008494     28.0      37.00   \n",
       "Insurance         9998.0       0.497900       0.500021      0.0       0.00   \n",
       "Loan              9998.0  497946.375575  288375.525101      4.0  247224.25   \n",
       "Savings           9998.0  499774.504201  289170.685108     24.0  250026.75   \n",
       "FD                9998.0       0.498500       0.500023      0.0       0.00   \n",
       "DMAT              9998.0       0.502000       0.500021      0.0       0.00   \n",
       "Card Type         9998.0       0.510202       0.499921      0.0       0.00   \n",
       "cat_City          9998.0       1.492198       1.116809      0.0       0.00   \n",
       "\n",
       "                       50%        75%       max  \n",
       "Pending amount    501298.0  750867.00  999874.0  \n",
       "Repayed           506023.0  757656.75  999946.0  \n",
       "Gender                 0.0       1.00       1.0  \n",
       "State                  1.0       2.00       2.0  \n",
       "Default                0.0       1.00       1.0  \n",
       "Purchase Channel       2.0       3.00       3.0  \n",
       "Age                   47.0      56.00      65.0  \n",
       "Insurance              0.0       1.00       1.0  \n",
       "Loan              498516.0  746154.50  999915.0  \n",
       "Savings           496520.0  749229.00  999915.0  \n",
       "FD                     0.0       1.00       1.0  \n",
       "DMAT                   1.0       1.00       1.0  \n",
       "Card Type              1.0       1.00       1.0  \n",
       "cat_City               1.0       2.00       3.0  "
      ]
     },
     "execution_count": 124,
     "metadata": {},
     "output_type": "execute_result"
    }
   ],
   "source": [
    "df3.describe().T"
   ]
  },
  {
   "cell_type": "code",
   "execution_count": 125,
   "metadata": {},
   "outputs": [],
   "source": [
    "Y_2 = df3.Default\n",
    "X_2 = df3.drop('Default', axis = 1) #setting features\n",
    "X_train, X_test, Y_train, Y_test = train_test_split(X_2, Y_2, test_size = 0.2, random_state = 42)# test and train dataset"
   ]
  },
  {
   "cell_type": "code",
   "execution_count": 126,
   "metadata": {},
   "outputs": [
    {
     "data": {
      "text/plain": [
       "0    5020\n",
       "1    4978\n",
       "Name: Default, dtype: int64"
      ]
     },
     "execution_count": 126,
     "metadata": {},
     "output_type": "execute_result"
    }
   ],
   "source": [
    "Y_2.value_counts()"
   ]
  },
  {
   "cell_type": "code",
   "execution_count": 128,
   "metadata": {},
   "outputs": [
    {
     "data": {
      "text/plain": [
       "RandomForestClassifier(bootstrap=True, ccp_alpha=0.0, class_weight=None,\n",
       "                       criterion='gini', max_depth=None, max_features='auto',\n",
       "                       max_leaf_nodes=None, max_samples=None,\n",
       "                       min_impurity_decrease=0.0, min_impurity_split=None,\n",
       "                       min_samples_leaf=1, min_samples_split=2,\n",
       "                       min_weight_fraction_leaf=0.0, n_estimators=10,\n",
       "                       n_jobs=None, oob_score=False, random_state=42, verbose=0,\n",
       "                       warm_start=False)"
      ]
     },
     "execution_count": 128,
     "metadata": {},
     "output_type": "execute_result"
    }
   ],
   "source": [
    "rfc = RandomForestClassifier(n_estimators = 10, random_state = 42)\n",
    "rfc.fit(X_train, Y_train)#training the model"
   ]
  },
  {
   "cell_type": "code",
   "execution_count": 129,
   "metadata": {},
   "outputs": [
    {
     "name": "stdout",
     "output_type": "stream",
     "text": [
      "              precision    recall  f1-score   support\n",
      "\n",
      "     Class 1       0.50      0.61      0.54       995\n",
      "     Class 2       0.50      0.39      0.44      1005\n",
      "\n",
      "    accuracy                           0.50      2000\n",
      "   macro avg       0.50      0.50      0.49      2000\n",
      "weighted avg       0.50      0.50      0.49      2000\n",
      "\n"
     ]
    }
   ],
   "source": [
    "rfc_pred_test = rfc.predict(X_test)\n",
    "print(classification_report(Y_test, rfc_pred_test, target_names=['Class 1', 'Class 2'])) # model is overfitting for class2 and bad at fitting 1 and 3"
   ]
  },
  {
   "cell_type": "markdown",
   "metadata": {},
   "source": [
    "#### Creating bins for the numerical columns"
   ]
  },
  {
   "cell_type": "code",
   "execution_count": 130,
   "metadata": {},
   "outputs": [
    {
     "data": {
      "text/html": [
       "<div>\n",
       "<style scoped>\n",
       "    .dataframe tbody tr th:only-of-type {\n",
       "        vertical-align: middle;\n",
       "    }\n",
       "\n",
       "    .dataframe tbody tr th {\n",
       "        vertical-align: top;\n",
       "    }\n",
       "\n",
       "    .dataframe thead th {\n",
       "        text-align: right;\n",
       "    }\n",
       "</style>\n",
       "<table border=\"1\" class=\"dataframe\">\n",
       "  <thead>\n",
       "    <tr style=\"text-align: right;\">\n",
       "      <th></th>\n",
       "      <th>count</th>\n",
       "      <th>mean</th>\n",
       "      <th>std</th>\n",
       "      <th>min</th>\n",
       "      <th>25%</th>\n",
       "      <th>50%</th>\n",
       "      <th>75%</th>\n",
       "      <th>max</th>\n",
       "    </tr>\n",
       "  </thead>\n",
       "  <tbody>\n",
       "    <tr>\n",
       "      <th>Pending amount</th>\n",
       "      <td>9998.0</td>\n",
       "      <td>500072.188538</td>\n",
       "      <td>290067.802298</td>\n",
       "      <td>29.0</td>\n",
       "      <td>243944.25</td>\n",
       "      <td>501298.0</td>\n",
       "      <td>750867.00</td>\n",
       "      <td>999874.0</td>\n",
       "    </tr>\n",
       "    <tr>\n",
       "      <th>Repayed</th>\n",
       "      <td>9998.0</td>\n",
       "      <td>507197.029106</td>\n",
       "      <td>285661.194758</td>\n",
       "      <td>10014.0</td>\n",
       "      <td>259971.75</td>\n",
       "      <td>506023.0</td>\n",
       "      <td>757656.75</td>\n",
       "      <td>999946.0</td>\n",
       "    </tr>\n",
       "    <tr>\n",
       "      <th>Gender</th>\n",
       "      <td>9998.0</td>\n",
       "      <td>0.493699</td>\n",
       "      <td>0.499985</td>\n",
       "      <td>0.0</td>\n",
       "      <td>0.00</td>\n",
       "      <td>0.0</td>\n",
       "      <td>1.00</td>\n",
       "      <td>1.0</td>\n",
       "    </tr>\n",
       "    <tr>\n",
       "      <th>State</th>\n",
       "      <td>9998.0</td>\n",
       "      <td>1.009902</td>\n",
       "      <td>0.816089</td>\n",
       "      <td>0.0</td>\n",
       "      <td>0.00</td>\n",
       "      <td>1.0</td>\n",
       "      <td>2.00</td>\n",
       "      <td>2.0</td>\n",
       "    </tr>\n",
       "    <tr>\n",
       "      <th>Default</th>\n",
       "      <td>9998.0</td>\n",
       "      <td>0.497900</td>\n",
       "      <td>0.500021</td>\n",
       "      <td>0.0</td>\n",
       "      <td>0.00</td>\n",
       "      <td>0.0</td>\n",
       "      <td>1.00</td>\n",
       "      <td>1.0</td>\n",
       "    </tr>\n",
       "    <tr>\n",
       "      <th>Purchase Channel</th>\n",
       "      <td>9998.0</td>\n",
       "      <td>1.980796</td>\n",
       "      <td>0.815862</td>\n",
       "      <td>1.0</td>\n",
       "      <td>1.00</td>\n",
       "      <td>2.0</td>\n",
       "      <td>3.00</td>\n",
       "      <td>3.0</td>\n",
       "    </tr>\n",
       "    <tr>\n",
       "      <th>Age</th>\n",
       "      <td>9998.0</td>\n",
       "      <td>46.537107</td>\n",
       "      <td>11.008494</td>\n",
       "      <td>28.0</td>\n",
       "      <td>37.00</td>\n",
       "      <td>47.0</td>\n",
       "      <td>56.00</td>\n",
       "      <td>65.0</td>\n",
       "    </tr>\n",
       "    <tr>\n",
       "      <th>Insurance</th>\n",
       "      <td>9998.0</td>\n",
       "      <td>0.497900</td>\n",
       "      <td>0.500021</td>\n",
       "      <td>0.0</td>\n",
       "      <td>0.00</td>\n",
       "      <td>0.0</td>\n",
       "      <td>1.00</td>\n",
       "      <td>1.0</td>\n",
       "    </tr>\n",
       "    <tr>\n",
       "      <th>Loan</th>\n",
       "      <td>9998.0</td>\n",
       "      <td>497946.375575</td>\n",
       "      <td>288375.525101</td>\n",
       "      <td>4.0</td>\n",
       "      <td>247224.25</td>\n",
       "      <td>498516.0</td>\n",
       "      <td>746154.50</td>\n",
       "      <td>999915.0</td>\n",
       "    </tr>\n",
       "    <tr>\n",
       "      <th>Savings</th>\n",
       "      <td>9998.0</td>\n",
       "      <td>499774.504201</td>\n",
       "      <td>289170.685108</td>\n",
       "      <td>24.0</td>\n",
       "      <td>250026.75</td>\n",
       "      <td>496520.0</td>\n",
       "      <td>749229.00</td>\n",
       "      <td>999915.0</td>\n",
       "    </tr>\n",
       "    <tr>\n",
       "      <th>FD</th>\n",
       "      <td>9998.0</td>\n",
       "      <td>0.498500</td>\n",
       "      <td>0.500023</td>\n",
       "      <td>0.0</td>\n",
       "      <td>0.00</td>\n",
       "      <td>0.0</td>\n",
       "      <td>1.00</td>\n",
       "      <td>1.0</td>\n",
       "    </tr>\n",
       "    <tr>\n",
       "      <th>DMAT</th>\n",
       "      <td>9998.0</td>\n",
       "      <td>0.502000</td>\n",
       "      <td>0.500021</td>\n",
       "      <td>0.0</td>\n",
       "      <td>0.00</td>\n",
       "      <td>1.0</td>\n",
       "      <td>1.00</td>\n",
       "      <td>1.0</td>\n",
       "    </tr>\n",
       "    <tr>\n",
       "      <th>Card Type</th>\n",
       "      <td>9998.0</td>\n",
       "      <td>0.510202</td>\n",
       "      <td>0.499921</td>\n",
       "      <td>0.0</td>\n",
       "      <td>0.00</td>\n",
       "      <td>1.0</td>\n",
       "      <td>1.00</td>\n",
       "      <td>1.0</td>\n",
       "    </tr>\n",
       "    <tr>\n",
       "      <th>cat_City</th>\n",
       "      <td>9998.0</td>\n",
       "      <td>1.492198</td>\n",
       "      <td>1.116809</td>\n",
       "      <td>0.0</td>\n",
       "      <td>0.00</td>\n",
       "      <td>1.0</td>\n",
       "      <td>2.00</td>\n",
       "      <td>3.0</td>\n",
       "    </tr>\n",
       "  </tbody>\n",
       "</table>\n",
       "</div>"
      ],
      "text/plain": [
       "                   count           mean            std      min        25%  \\\n",
       "Pending amount    9998.0  500072.188538  290067.802298     29.0  243944.25   \n",
       "Repayed           9998.0  507197.029106  285661.194758  10014.0  259971.75   \n",
       "Gender            9998.0       0.493699       0.499985      0.0       0.00   \n",
       "State             9998.0       1.009902       0.816089      0.0       0.00   \n",
       "Default           9998.0       0.497900       0.500021      0.0       0.00   \n",
       "Purchase Channel  9998.0       1.980796       0.815862      1.0       1.00   \n",
       "Age               9998.0      46.537107      11.008494     28.0      37.00   \n",
       "Insurance         9998.0       0.497900       0.500021      0.0       0.00   \n",
       "Loan              9998.0  497946.375575  288375.525101      4.0  247224.25   \n",
       "Savings           9998.0  499774.504201  289170.685108     24.0  250026.75   \n",
       "FD                9998.0       0.498500       0.500023      0.0       0.00   \n",
       "DMAT              9998.0       0.502000       0.500021      0.0       0.00   \n",
       "Card Type         9998.0       0.510202       0.499921      0.0       0.00   \n",
       "cat_City          9998.0       1.492198       1.116809      0.0       0.00   \n",
       "\n",
       "                       50%        75%       max  \n",
       "Pending amount    501298.0  750867.00  999874.0  \n",
       "Repayed           506023.0  757656.75  999946.0  \n",
       "Gender                 0.0       1.00       1.0  \n",
       "State                  1.0       2.00       2.0  \n",
       "Default                0.0       1.00       1.0  \n",
       "Purchase Channel       2.0       3.00       3.0  \n",
       "Age                   47.0      56.00      65.0  \n",
       "Insurance              0.0       1.00       1.0  \n",
       "Loan              498516.0  746154.50  999915.0  \n",
       "Savings           496520.0  749229.00  999915.0  \n",
       "FD                     0.0       1.00       1.0  \n",
       "DMAT                   1.0       1.00       1.0  \n",
       "Card Type              1.0       1.00       1.0  \n",
       "cat_City               1.0       2.00       3.0  "
      ]
     },
     "execution_count": 130,
     "metadata": {},
     "output_type": "execute_result"
    }
   ],
   "source": [
    "df3.describe().T"
   ]
  },
  {
   "cell_type": "code",
   "execution_count": 134,
   "metadata": {},
   "outputs": [],
   "source": [
    "df3 = df3.rename(columns={'Pending amount': \"Pending_amount\"})"
   ]
  },
  {
   "cell_type": "code",
   "execution_count": 136,
   "metadata": {},
   "outputs": [
    {
     "data": {
      "text/plain": [
       "Index(['Pending_amount', 'Repayed', 'Gender', 'State', 'Default',\n",
       "       'Purchase Channel', 'Age', 'Insurance', 'Loan', 'Savings', 'FD', 'DMAT',\n",
       "       'Card Type', 'cat_City'],\n",
       "      dtype='object')"
      ]
     },
     "execution_count": 136,
     "metadata": {},
     "output_type": "execute_result"
    }
   ],
   "source": [
    "df3.columns"
   ]
  },
  {
   "cell_type": "code",
   "execution_count": 153,
   "metadata": {},
   "outputs": [],
   "source": [
    "df4 = df3.copy()"
   ]
  },
  {
   "cell_type": "code",
   "execution_count": 154,
   "metadata": {},
   "outputs": [],
   "source": [
    "cat_amount = pd.cut(df3.Pending_amount, bins = [-1, 243947, 501300, 750870, 999875], labels=['low','low_medium','high_medium','high'])\n",
    "df4.insert(0,'cat_amount',cat_amount)"
   ]
  },
  {
   "cell_type": "code",
   "execution_count": 155,
   "metadata": {},
   "outputs": [],
   "source": [
    "cat_repayed = pd.cut(df3.Repayed, bins = [-1, 259972, 506023.0, 757657, 999946], labels=['low','low_medium','high_medium','high'])\n",
    "df4.insert(0,'cat_repayed',cat_repayed)"
   ]
  },
  {
   "cell_type": "code",
   "execution_count": 156,
   "metadata": {},
   "outputs": [],
   "source": [
    "cat_loan = pd.cut(df3.Repayed, bins = [-1, 247225, 498517, 746155, 999915], labels=['low','low_medium','high_medium','high'])\n",
    "df4.insert(0,'cat_loan',cat_loan)"
   ]
  },
  {
   "cell_type": "code",
   "execution_count": 157,
   "metadata": {},
   "outputs": [],
   "source": [
    "cat_savings = pd.cut(df3.Savings, bins = [-1, 250027, 496520, 749230, 999915], labels=['low','low_medium','high_medium','high'])\n",
    "df4.insert(0,'cat_savings',cat_savings)"
   ]
  },
  {
   "cell_type": "code",
   "execution_count": 158,
   "metadata": {},
   "outputs": [],
   "source": [
    "df4['cat_amount'] = df4['cat_amount'].replace(['low','low_medium','high_medium','high'], [0, 1, 2,3])\n",
    "df4['cat_repayed'] = df4['cat_repayed'].replace(['low','low_medium','high_medium','high'], [0, 1, 2,3])\n",
    "df4['cat_loan'] = df4['cat_loan'].replace(['low','low_medium','high_medium','high'], [0, 1, 2,3])\n",
    "df4['cat_savings'] = df4['cat_savings'].replace(['low','low_medium','high_medium','high'], [0, 1, 2,3])"
   ]
  },
  {
   "cell_type": "code",
   "execution_count": 159,
   "metadata": {},
   "outputs": [],
   "source": [
    "df4.drop(columns= ['Pending_amount','Repayed','Loan', 'Savings'  ], inplace = True)"
   ]
  },
  {
   "cell_type": "code",
   "execution_count": 160,
   "metadata": {},
   "outputs": [
    {
     "data": {
      "text/plain": [
       "Index(['cat_savings', 'cat_loan', 'cat_repayed', 'cat_amount', 'Gender',\n",
       "       'State', 'Default', 'Purchase Channel', 'Age', 'Insurance', 'FD',\n",
       "       'DMAT', 'Card Type', 'cat_City'],\n",
       "      dtype='object')"
      ]
     },
     "execution_count": 160,
     "metadata": {},
     "output_type": "execute_result"
    }
   ],
   "source": [
    "df4.columns"
   ]
  },
  {
   "cell_type": "code",
   "execution_count": 161,
   "metadata": {},
   "outputs": [
    {
     "data": {
      "text/html": [
       "<div>\n",
       "<style scoped>\n",
       "    .dataframe tbody tr th:only-of-type {\n",
       "        vertical-align: middle;\n",
       "    }\n",
       "\n",
       "    .dataframe tbody tr th {\n",
       "        vertical-align: top;\n",
       "    }\n",
       "\n",
       "    .dataframe thead th {\n",
       "        text-align: right;\n",
       "    }\n",
       "</style>\n",
       "<table border=\"1\" class=\"dataframe\">\n",
       "  <thead>\n",
       "    <tr style=\"text-align: right;\">\n",
       "      <th></th>\n",
       "      <th>cat_savings</th>\n",
       "      <th>cat_loan</th>\n",
       "      <th>cat_repayed</th>\n",
       "      <th>cat_amount</th>\n",
       "      <th>Gender</th>\n",
       "      <th>State</th>\n",
       "      <th>Default</th>\n",
       "      <th>Purchase Channel</th>\n",
       "      <th>Age</th>\n",
       "      <th>Insurance</th>\n",
       "      <th>FD</th>\n",
       "      <th>DMAT</th>\n",
       "      <th>Card Type</th>\n",
       "      <th>cat_City</th>\n",
       "    </tr>\n",
       "  </thead>\n",
       "  <tbody>\n",
       "    <tr>\n",
       "      <th>0</th>\n",
       "      <td>0</td>\n",
       "      <td>1.0</td>\n",
       "      <td>1</td>\n",
       "      <td>2</td>\n",
       "      <td>1</td>\n",
       "      <td>0</td>\n",
       "      <td>1</td>\n",
       "      <td>3</td>\n",
       "      <td>59.0</td>\n",
       "      <td>1</td>\n",
       "      <td>0</td>\n",
       "      <td>1</td>\n",
       "      <td>0</td>\n",
       "      <td>1</td>\n",
       "    </tr>\n",
       "    <tr>\n",
       "      <th>1</th>\n",
       "      <td>1</td>\n",
       "      <td>2.0</td>\n",
       "      <td>2</td>\n",
       "      <td>3</td>\n",
       "      <td>1</td>\n",
       "      <td>0</td>\n",
       "      <td>1</td>\n",
       "      <td>1</td>\n",
       "      <td>59.0</td>\n",
       "      <td>1</td>\n",
       "      <td>1</td>\n",
       "      <td>0</td>\n",
       "      <td>0</td>\n",
       "      <td>2</td>\n",
       "    </tr>\n",
       "    <tr>\n",
       "      <th>2</th>\n",
       "      <td>1</td>\n",
       "      <td>3.0</td>\n",
       "      <td>3</td>\n",
       "      <td>1</td>\n",
       "      <td>0</td>\n",
       "      <td>2</td>\n",
       "      <td>0</td>\n",
       "      <td>1</td>\n",
       "      <td>35.0</td>\n",
       "      <td>0</td>\n",
       "      <td>1</td>\n",
       "      <td>0</td>\n",
       "      <td>1</td>\n",
       "      <td>1</td>\n",
       "    </tr>\n",
       "    <tr>\n",
       "      <th>3</th>\n",
       "      <td>1</td>\n",
       "      <td>3.0</td>\n",
       "      <td>3</td>\n",
       "      <td>3</td>\n",
       "      <td>0</td>\n",
       "      <td>1</td>\n",
       "      <td>1</td>\n",
       "      <td>2</td>\n",
       "      <td>38.0</td>\n",
       "      <td>0</td>\n",
       "      <td>0</td>\n",
       "      <td>0</td>\n",
       "      <td>0</td>\n",
       "      <td>3</td>\n",
       "    </tr>\n",
       "    <tr>\n",
       "      <th>4</th>\n",
       "      <td>0</td>\n",
       "      <td>0.0</td>\n",
       "      <td>0</td>\n",
       "      <td>3</td>\n",
       "      <td>1</td>\n",
       "      <td>2</td>\n",
       "      <td>1</td>\n",
       "      <td>3</td>\n",
       "      <td>50.0</td>\n",
       "      <td>0</td>\n",
       "      <td>1</td>\n",
       "      <td>1</td>\n",
       "      <td>1</td>\n",
       "      <td>3</td>\n",
       "    </tr>\n",
       "  </tbody>\n",
       "</table>\n",
       "</div>"
      ],
      "text/plain": [
       "   cat_savings  cat_loan  cat_repayed  cat_amount  Gender  State  Default  \\\n",
       "0            0       1.0            1           2       1      0        1   \n",
       "1            1       2.0            2           3       1      0        1   \n",
       "2            1       3.0            3           1       0      2        0   \n",
       "3            1       3.0            3           3       0      1        1   \n",
       "4            0       0.0            0           3       1      2        1   \n",
       "\n",
       "   Purchase Channel   Age  Insurance  FD  DMAT  Card Type  cat_City  \n",
       "0                 3  59.0          1   0     1          0         1  \n",
       "1                 1  59.0          1   1     0          0         2  \n",
       "2                 1  35.0          0   1     0          1         1  \n",
       "3                 2  38.0          0   0     0          0         3  \n",
       "4                 3  50.0          0   1     1          1         3  "
      ]
     },
     "execution_count": 161,
     "metadata": {},
     "output_type": "execute_result"
    }
   ],
   "source": [
    "df4.head()"
   ]
  },
  {
   "cell_type": "code",
   "execution_count": 170,
   "metadata": {},
   "outputs": [
    {
     "data": {
      "text/plain": [
       "cat_savings         0\n",
       "cat_loan            1\n",
       "cat_repayed         0\n",
       "cat_amount          0\n",
       "Gender              0\n",
       "State               0\n",
       "Default             0\n",
       "Purchase Channel    0\n",
       "Age                 0\n",
       "Insurance           0\n",
       "FD                  0\n",
       "DMAT                0\n",
       "Card Type           0\n",
       "cat_City            0\n",
       "dtype: int64"
      ]
     },
     "execution_count": 170,
     "metadata": {},
     "output_type": "execute_result"
    }
   ],
   "source": [
    "df4.isna().sum()"
   ]
  },
  {
   "cell_type": "code",
   "execution_count": 171,
   "metadata": {},
   "outputs": [],
   "source": [
    "df4.dropna(how='any', inplace = True)"
   ]
  },
  {
   "cell_type": "code",
   "execution_count": 172,
   "metadata": {},
   "outputs": [
    {
     "data": {
      "text/plain": [
       "(9997, 14)"
      ]
     },
     "execution_count": 172,
     "metadata": {},
     "output_type": "execute_result"
    }
   ],
   "source": [
    "df4.shape"
   ]
  },
  {
   "cell_type": "code",
   "execution_count": 173,
   "metadata": {},
   "outputs": [],
   "source": [
    "Y_3 = df4.Default\n",
    "X_3 = df4.drop('Default', axis = 1) #setting features\n",
    "X_train, X_test, Y_train, Y_test = train_test_split(X_3, Y_3, test_size = 0.2, random_state = 42)# test and train dataset"
   ]
  },
  {
   "cell_type": "code",
   "execution_count": 174,
   "metadata": {},
   "outputs": [
    {
     "data": {
      "text/plain": [
       "0    5019\n",
       "1    4978\n",
       "Name: Default, dtype: int64"
      ]
     },
     "execution_count": 174,
     "metadata": {},
     "output_type": "execute_result"
    }
   ],
   "source": [
    "Y_3.value_counts()"
   ]
  },
  {
   "cell_type": "code",
   "execution_count": 175,
   "metadata": {},
   "outputs": [
    {
     "data": {
      "text/plain": [
       "RandomForestClassifier(bootstrap=True, ccp_alpha=0.0, class_weight=None,\n",
       "                       criterion='gini', max_depth=None, max_features='auto',\n",
       "                       max_leaf_nodes=None, max_samples=None,\n",
       "                       min_impurity_decrease=0.0, min_impurity_split=None,\n",
       "                       min_samples_leaf=1, min_samples_split=2,\n",
       "                       min_weight_fraction_leaf=0.0, n_estimators=10,\n",
       "                       n_jobs=None, oob_score=False, random_state=42, verbose=0,\n",
       "                       warm_start=False)"
      ]
     },
     "execution_count": 175,
     "metadata": {},
     "output_type": "execute_result"
    }
   ],
   "source": [
    "rfc = RandomForestClassifier(n_estimators = 10, random_state = 42)\n",
    "rfc.fit(X_train, Y_train)#training the model"
   ]
  },
  {
   "cell_type": "code",
   "execution_count": 176,
   "metadata": {},
   "outputs": [
    {
     "name": "stdout",
     "output_type": "stream",
     "text": [
      "              precision    recall  f1-score   support\n",
      "\n",
      "     Class 1       0.50      0.62      0.55       997\n",
      "     Class 2       0.50      0.38      0.43      1003\n",
      "\n",
      "    accuracy                           0.50      2000\n",
      "   macro avg       0.50      0.50      0.49      2000\n",
      "weighted avg       0.50      0.50      0.49      2000\n",
      "\n"
     ]
    }
   ],
   "source": [
    "rfc_pred_test = rfc.predict(X_test)\n",
    "print(classification_report(Y_test, rfc_pred_test, target_names=['Class 1', 'Class 2'])) # model is overfitting for class2 and bad at fitting 1 and 3"
   ]
  },
  {
   "cell_type": "markdown",
   "metadata": {},
   "source": [
    "### with introducing categorical variables in the random forest classifier instead of numerical the recall and f1-score is increasing by 0.1 "
   ]
  },
  {
   "cell_type": "code",
   "execution_count": 187,
   "metadata": {},
   "outputs": [
    {
     "name": "stdout",
     "output_type": "stream",
     "text": [
      "Variable: Age                  Importance: 0.25\n",
      "Variable: cat_amount           Importance: 0.1\n",
      "Variable: cat_City             Importance: 0.1\n",
      "Variable: cat_savings          Importance: 0.09\n",
      "Variable: State                Importance: 0.07\n",
      "Variable: Purchase Channel     Importance: 0.07\n",
      "Variable: cat_loan             Importance: 0.05\n",
      "Variable: cat_repayed          Importance: 0.05\n",
      "Variable: DMAT                 Importance: 0.05\n",
      "Variable: Gender               Importance: 0.04\n",
      "Variable: Insurance            Importance: 0.04\n",
      "Variable: FD                   Importance: 0.04\n",
      "Variable: Card Type            Importance: 0.04\n"
     ]
    }
   ],
   "source": [
    "# Get numerical feature importances\n",
    "importances = list(rfc.feature_importances_)\n",
    "feature_list = list(X_3.columns)\n",
    "# List of tuples with variable and importance\n",
    "feature_importances = [(feature, round(importance, 2)) for feature, importance in zip(feature_list, importances)]\n",
    "# Sort the feature importances by most important first\n",
    "feature_importances = sorted(feature_importances, key = lambda x: x[1], reverse = True)\n",
    "# Print out the feature and importances \n",
    "[print('Variable: {:20} Importance: {}'.format(*pair)) for pair in feature_importances];"
   ]
  },
  {
   "cell_type": "code",
   "execution_count": 188,
   "metadata": {},
   "outputs": [],
   "source": [
    "df5 = df4.drop(columns = ['Gender', 'Insurance', 'FD', 'Card Type'])"
   ]
  },
  {
   "cell_type": "code",
   "execution_count": 189,
   "metadata": {},
   "outputs": [],
   "source": [
    "Y_3 = df5.Default\n",
    "X_3 = df5.drop('Default', axis = 1) #setting features\n",
    "X_train, X_test, Y_train, Y_test = train_test_split(X_3, Y_3, test_size = 0.2, random_state = 42)# test and train dataset"
   ]
  },
  {
   "cell_type": "code",
   "execution_count": 190,
   "metadata": {},
   "outputs": [
    {
     "data": {
      "text/plain": [
       "RandomForestClassifier(bootstrap=True, ccp_alpha=0.0, class_weight=None,\n",
       "                       criterion='gini', max_depth=None, max_features='auto',\n",
       "                       max_leaf_nodes=None, max_samples=None,\n",
       "                       min_impurity_decrease=0.0, min_impurity_split=None,\n",
       "                       min_samples_leaf=1, min_samples_split=2,\n",
       "                       min_weight_fraction_leaf=0.0, n_estimators=10,\n",
       "                       n_jobs=None, oob_score=False, random_state=42, verbose=0,\n",
       "                       warm_start=False)"
      ]
     },
     "execution_count": 190,
     "metadata": {},
     "output_type": "execute_result"
    }
   ],
   "source": [
    "rfc = RandomForestClassifier(n_estimators = 10, random_state = 42)\n",
    "rfc.fit(X_train, Y_train)#training the model"
   ]
  },
  {
   "cell_type": "code",
   "execution_count": 191,
   "metadata": {},
   "outputs": [
    {
     "name": "stdout",
     "output_type": "stream",
     "text": [
      "              precision    recall  f1-score   support\n",
      "\n",
      "     Class 1       0.49      0.59      0.54       997\n",
      "     Class 2       0.49      0.39      0.43      1003\n",
      "\n",
      "    accuracy                           0.49      2000\n",
      "   macro avg       0.49      0.49      0.48      2000\n",
      "weighted avg       0.49      0.49      0.48      2000\n",
      "\n"
     ]
    }
   ],
   "source": [
    "rfc_pred_test = rfc.predict(X_test)\n",
    "print(classification_report(Y_test, rfc_pred_test, target_names=['Class 1', 'Class 2'])) # model is overfitting for class2 and bad at fitting 1 and 3"
   ]
  },
  {
   "cell_type": "code",
   "execution_count": null,
   "metadata": {},
   "outputs": [],
   "source": []
  }
 ],
 "metadata": {
  "kernelspec": {
   "display_name": "Python 3",
   "language": "python",
   "name": "python3"
  },
  "language_info": {
   "codemirror_mode": {
    "name": "ipython",
    "version": 3
   },
   "file_extension": ".py",
   "mimetype": "text/x-python",
   "name": "python",
   "nbconvert_exporter": "python",
   "pygments_lexer": "ipython3",
   "version": "3.7.6"
  }
 },
 "nbformat": 4,
 "nbformat_minor": 4
}
