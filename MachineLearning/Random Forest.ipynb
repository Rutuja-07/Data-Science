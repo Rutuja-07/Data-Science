{
 "cells": [
  {
   "cell_type": "code",
   "execution_count": 4,
   "metadata": {},
   "outputs": [],
   "source": [
    "#all the librarys used in this project\n",
    "import pandas as pd\n",
    "import numpy as np\n",
    "\n",
    "import seaborn as sns\n",
    "import re\n",
    "from sklearn.preprocessing import LabelEncoder\n",
    "from sklearn.preprocessing import StandardScaler\n",
    "from sklearn.decomposition import PCA\n",
    "\n",
    "from sklearn.metrics import confusion_matrix\n",
    "from sklearn.model_selection import GridSearchCV, train_test_split\n",
    "from sklearn.metrics import accuracy_score, precision_score, recall_score, f1_score\n",
    "from sklearn.metrics import classification_report\n",
    "from sklearn.ensemble import RandomForestClassifier\n",
    "from sklearn.model_selection import RandomizedSearchCV\n",
    "from sklearn.neighbors import KNeighborsClassifier\n",
    "from sklearn import metrics\n",
    "from sklearn.svm import SVC\n",
    "from sklearn.metrics import classification_report, confusion_matrix\n",
    "from sklearn import metrics\n",
    "from sklearn import preprocessing\n",
    "\n",
    "import matplotlib.pyplot as plt\n",
    "\n",
    "from sklearn.tree import DecisionTreeClassifier\n",
    "from sklearn.model_selection import GridSearchCV\n",
    "from sklearn.tree import export_graphviz\n",
    " \n",
    "from IPython.display import Image \n",
    "import pydotplus\n",
    "import graphviz\n",
    "from six import StringIO\n",
    "\n",
    "import six\n",
    "import sys\n",
    "sys.modules['sklearn.externals.six'] = six\n",
    "from sklearn.externals.six import StringIO \n",
    "\n",
    "from pydot import graph_from_dot_data\n",
    "from sklearn.utils import resample\n",
    "\n",
    "\n",
    "\n",
    "from sklearn.tree import export_graphviz\n",
    "import pydot\n",
    "import random\n",
    "\n",
    "%matplotlib inline"
   ]
  },
  {
   "cell_type": "code",
   "execution_count": 7,
   "metadata": {},
   "outputs": [],
   "source": [
    "df = pd.read_csv(\"investments_VC.csv\", encoding='ISO-8859-1') # uploading data set"
   ]
  },
  {
   "cell_type": "code",
   "execution_count": 8,
   "metadata": {},
   "outputs": [
    {
     "data": {
      "text/html": [
       "<div>\n",
       "<style scoped>\n",
       "    .dataframe tbody tr th:only-of-type {\n",
       "        vertical-align: middle;\n",
       "    }\n",
       "\n",
       "    .dataframe tbody tr th {\n",
       "        vertical-align: top;\n",
       "    }\n",
       "\n",
       "    .dataframe thead th {\n",
       "        text-align: right;\n",
       "    }\n",
       "</style>\n",
       "<table border=\"1\" class=\"dataframe\">\n",
       "  <thead>\n",
       "    <tr style=\"text-align: right;\">\n",
       "      <th></th>\n",
       "      <th>permalink</th>\n",
       "      <th>name</th>\n",
       "      <th>homepage_url</th>\n",
       "      <th>category_list</th>\n",
       "      <th>market</th>\n",
       "      <th>funding_total_usd</th>\n",
       "      <th>status</th>\n",
       "      <th>country_code</th>\n",
       "      <th>state_code</th>\n",
       "      <th>region</th>\n",
       "      <th>...</th>\n",
       "      <th>secondary_market</th>\n",
       "      <th>product_crowdfunding</th>\n",
       "      <th>round_A</th>\n",
       "      <th>round_B</th>\n",
       "      <th>round_C</th>\n",
       "      <th>round_D</th>\n",
       "      <th>round_E</th>\n",
       "      <th>round_F</th>\n",
       "      <th>round_G</th>\n",
       "      <th>round_H</th>\n",
       "    </tr>\n",
       "  </thead>\n",
       "  <tbody>\n",
       "    <tr>\n",
       "      <th>0</th>\n",
       "      <td>/organization/waywire</td>\n",
       "      <td>#waywire</td>\n",
       "      <td>http://www.waywire.com</td>\n",
       "      <td>|Entertainment|Politics|Social Media|News|</td>\n",
       "      <td>News</td>\n",
       "      <td>17,50,000</td>\n",
       "      <td>acquired</td>\n",
       "      <td>USA</td>\n",
       "      <td>NY</td>\n",
       "      <td>New York City</td>\n",
       "      <td>...</td>\n",
       "      <td>0.0</td>\n",
       "      <td>0.0</td>\n",
       "      <td>0.0</td>\n",
       "      <td>0.0</td>\n",
       "      <td>0.0</td>\n",
       "      <td>0.0</td>\n",
       "      <td>0.0</td>\n",
       "      <td>0.0</td>\n",
       "      <td>0.0</td>\n",
       "      <td>0.0</td>\n",
       "    </tr>\n",
       "    <tr>\n",
       "      <th>1</th>\n",
       "      <td>/organization/tv-communications</td>\n",
       "      <td>&amp;TV Communications</td>\n",
       "      <td>http://enjoyandtv.com</td>\n",
       "      <td>|Games|</td>\n",
       "      <td>Games</td>\n",
       "      <td>40,00,000</td>\n",
       "      <td>operating</td>\n",
       "      <td>USA</td>\n",
       "      <td>CA</td>\n",
       "      <td>Los Angeles</td>\n",
       "      <td>...</td>\n",
       "      <td>0.0</td>\n",
       "      <td>0.0</td>\n",
       "      <td>0.0</td>\n",
       "      <td>0.0</td>\n",
       "      <td>0.0</td>\n",
       "      <td>0.0</td>\n",
       "      <td>0.0</td>\n",
       "      <td>0.0</td>\n",
       "      <td>0.0</td>\n",
       "      <td>0.0</td>\n",
       "    </tr>\n",
       "    <tr>\n",
       "      <th>2</th>\n",
       "      <td>/organization/rock-your-paper</td>\n",
       "      <td>'Rock' Your Paper</td>\n",
       "      <td>http://www.rockyourpaper.org</td>\n",
       "      <td>|Publishing|Education|</td>\n",
       "      <td>Publishing</td>\n",
       "      <td>40,000</td>\n",
       "      <td>operating</td>\n",
       "      <td>EST</td>\n",
       "      <td>NaN</td>\n",
       "      <td>Tallinn</td>\n",
       "      <td>...</td>\n",
       "      <td>0.0</td>\n",
       "      <td>0.0</td>\n",
       "      <td>0.0</td>\n",
       "      <td>0.0</td>\n",
       "      <td>0.0</td>\n",
       "      <td>0.0</td>\n",
       "      <td>0.0</td>\n",
       "      <td>0.0</td>\n",
       "      <td>0.0</td>\n",
       "      <td>0.0</td>\n",
       "    </tr>\n",
       "    <tr>\n",
       "      <th>3</th>\n",
       "      <td>/organization/in-touch-network</td>\n",
       "      <td>(In)Touch Network</td>\n",
       "      <td>http://www.InTouchNetwork.com</td>\n",
       "      <td>|Electronics|Guides|Coffee|Restaurants|Music|i...</td>\n",
       "      <td>Electronics</td>\n",
       "      <td>15,00,000</td>\n",
       "      <td>operating</td>\n",
       "      <td>GBR</td>\n",
       "      <td>NaN</td>\n",
       "      <td>London</td>\n",
       "      <td>...</td>\n",
       "      <td>0.0</td>\n",
       "      <td>0.0</td>\n",
       "      <td>0.0</td>\n",
       "      <td>0.0</td>\n",
       "      <td>0.0</td>\n",
       "      <td>0.0</td>\n",
       "      <td>0.0</td>\n",
       "      <td>0.0</td>\n",
       "      <td>0.0</td>\n",
       "      <td>0.0</td>\n",
       "    </tr>\n",
       "    <tr>\n",
       "      <th>4</th>\n",
       "      <td>/organization/r-ranch-and-mine</td>\n",
       "      <td>-R- Ranch and Mine</td>\n",
       "      <td>NaN</td>\n",
       "      <td>|Tourism|Entertainment|Games|</td>\n",
       "      <td>Tourism</td>\n",
       "      <td>60,000</td>\n",
       "      <td>operating</td>\n",
       "      <td>USA</td>\n",
       "      <td>TX</td>\n",
       "      <td>Dallas</td>\n",
       "      <td>...</td>\n",
       "      <td>0.0</td>\n",
       "      <td>0.0</td>\n",
       "      <td>0.0</td>\n",
       "      <td>0.0</td>\n",
       "      <td>0.0</td>\n",
       "      <td>0.0</td>\n",
       "      <td>0.0</td>\n",
       "      <td>0.0</td>\n",
       "      <td>0.0</td>\n",
       "      <td>0.0</td>\n",
       "    </tr>\n",
       "  </tbody>\n",
       "</table>\n",
       "<p>5 rows × 39 columns</p>\n",
       "</div>"
      ],
      "text/plain": [
       "                         permalink                name  \\\n",
       "0            /organization/waywire            #waywire   \n",
       "1  /organization/tv-communications  &TV Communications   \n",
       "2    /organization/rock-your-paper   'Rock' Your Paper   \n",
       "3   /organization/in-touch-network   (In)Touch Network   \n",
       "4   /organization/r-ranch-and-mine  -R- Ranch and Mine   \n",
       "\n",
       "                    homepage_url  \\\n",
       "0         http://www.waywire.com   \n",
       "1          http://enjoyandtv.com   \n",
       "2   http://www.rockyourpaper.org   \n",
       "3  http://www.InTouchNetwork.com   \n",
       "4                            NaN   \n",
       "\n",
       "                                       category_list        market   \\\n",
       "0         |Entertainment|Politics|Social Media|News|          News    \n",
       "1                                            |Games|         Games    \n",
       "2                             |Publishing|Education|    Publishing    \n",
       "3  |Electronics|Guides|Coffee|Restaurants|Music|i...   Electronics    \n",
       "4                      |Tourism|Entertainment|Games|       Tourism    \n",
       "\n",
       "   funding_total_usd      status country_code state_code         region  ...  \\\n",
       "0          17,50,000    acquired          USA         NY  New York City  ...   \n",
       "1          40,00,000   operating          USA         CA    Los Angeles  ...   \n",
       "2             40,000   operating          EST        NaN        Tallinn  ...   \n",
       "3          15,00,000   operating          GBR        NaN         London  ...   \n",
       "4             60,000   operating          USA         TX         Dallas  ...   \n",
       "\n",
       "  secondary_market  product_crowdfunding round_A round_B round_C  round_D  \\\n",
       "0              0.0                   0.0     0.0     0.0     0.0      0.0   \n",
       "1              0.0                   0.0     0.0     0.0     0.0      0.0   \n",
       "2              0.0                   0.0     0.0     0.0     0.0      0.0   \n",
       "3              0.0                   0.0     0.0     0.0     0.0      0.0   \n",
       "4              0.0                   0.0     0.0     0.0     0.0      0.0   \n",
       "\n",
       "  round_E round_F  round_G  round_H  \n",
       "0     0.0     0.0      0.0      0.0  \n",
       "1     0.0     0.0      0.0      0.0  \n",
       "2     0.0     0.0      0.0      0.0  \n",
       "3     0.0     0.0      0.0      0.0  \n",
       "4     0.0     0.0      0.0      0.0  \n",
       "\n",
       "[5 rows x 39 columns]"
      ]
     },
     "execution_count": 8,
     "metadata": {},
     "output_type": "execute_result"
    }
   ],
   "source": [
    "df.head()#top 5 rows"
   ]
  },
  {
   "cell_type": "code",
   "execution_count": 10,
   "metadata": {},
   "outputs": [
    {
     "name": "stdout",
     "output_type": "stream",
     "text": [
      "<class 'pandas.core.frame.DataFrame'>\n",
      "RangeIndex: 54294 entries, 0 to 54293\n",
      "Data columns (total 39 columns):\n",
      " #   Column                Non-Null Count  Dtype  \n",
      "---  ------                --------------  -----  \n",
      " 0   permalink             49438 non-null  object \n",
      " 1   name                  49437 non-null  object \n",
      " 2   homepage_url          45989 non-null  object \n",
      " 3   category_list         45477 non-null  object \n",
      " 4    market               45470 non-null  object \n",
      " 5    funding_total_usd    49438 non-null  object \n",
      " 6   status                48124 non-null  object \n",
      " 7   country_code          44165 non-null  object \n",
      " 8   state_code            30161 non-null  object \n",
      " 9   region                44165 non-null  object \n",
      " 10  city                  43322 non-null  object \n",
      " 11  funding_rounds        49438 non-null  float64\n",
      " 12  founded_at            38554 non-null  object \n",
      " 13  founded_month         38482 non-null  object \n",
      " 14  founded_quarter       38482 non-null  object \n",
      " 15  founded_year          38482 non-null  float64\n",
      " 16  first_funding_at      49438 non-null  object \n",
      " 17  last_funding_at       49438 non-null  object \n",
      " 18  seed                  49438 non-null  float64\n",
      " 19  venture               49438 non-null  float64\n",
      " 20  equity_crowdfunding   49438 non-null  float64\n",
      " 21  undisclosed           49438 non-null  float64\n",
      " 22  convertible_note      49438 non-null  float64\n",
      " 23  debt_financing        49438 non-null  float64\n",
      " 24  angel                 49438 non-null  float64\n",
      " 25  grant                 49438 non-null  float64\n",
      " 26  private_equity        49438 non-null  float64\n",
      " 27  post_ipo_equity       49438 non-null  float64\n",
      " 28  post_ipo_debt         49438 non-null  float64\n",
      " 29  secondary_market      49438 non-null  float64\n",
      " 30  product_crowdfunding  49438 non-null  float64\n",
      " 31  round_A               49438 non-null  float64\n",
      " 32  round_B               49438 non-null  float64\n",
      " 33  round_C               49438 non-null  float64\n",
      " 34  round_D               49438 non-null  float64\n",
      " 35  round_E               49438 non-null  float64\n",
      " 36  round_F               49438 non-null  float64\n",
      " 37  round_G               49438 non-null  float64\n",
      " 38  round_H               49438 non-null  float64\n",
      "dtypes: float64(23), object(16)\n",
      "memory usage: 16.2+ MB\n"
     ]
    }
   ],
   "source": [
    "df.info()# date is not being read properly, some numerical values like funding_total_usd is being read as a object"
   ]
  },
  {
   "cell_type": "code",
   "execution_count": 11,
   "metadata": {},
   "outputs": [
    {
     "data": {
      "text/plain": [
       "(54294, 39)"
      ]
     },
     "execution_count": 11,
     "metadata": {},
     "output_type": "execute_result"
    }
   ],
   "source": [
    "df.shape # size of the data"
   ]
  },
  {
   "cell_type": "code",
   "execution_count": 12,
   "metadata": {},
   "outputs": [
    {
     "data": {
      "text/plain": [
       "Index(['permalink', 'name', 'homepage_url', 'category_list', ' market ',\n",
       "       ' funding_total_usd ', 'status', 'country_code', 'state_code', 'region',\n",
       "       'city', 'funding_rounds', 'founded_at', 'founded_month',\n",
       "       'founded_quarter', 'founded_year', 'first_funding_at',\n",
       "       'last_funding_at', 'seed', 'venture', 'equity_crowdfunding',\n",
       "       'undisclosed', 'convertible_note', 'debt_financing', 'angel', 'grant',\n",
       "       'private_equity', 'post_ipo_equity', 'post_ipo_debt',\n",
       "       'secondary_market', 'product_crowdfunding', 'round_A', 'round_B',\n",
       "       'round_C', 'round_D', 'round_E', 'round_F', 'round_G', 'round_H'],\n",
       "      dtype='object')"
      ]
     },
     "execution_count": 12,
     "metadata": {},
     "output_type": "execute_result"
    }
   ],
   "source": [
    "df.columns # column names"
   ]
  },
  {
   "cell_type": "markdown",
   "metadata": {},
   "source": [
    "# Cleaning Data"
   ]
  },
  {
   "cell_type": "markdown",
   "metadata": {},
   "source": [
    "To clean the data, we removed extra spaces from different columns and also removed things like “ , ”, “ - ” where ever necessary. We made sure that columns that had numbers were being read as numbers and also converted all of the date columns into date data types.\n",
    "\n",
    "Rows with null values were removed. Columns with a high percentage of null values like state, city, region, and found date were removed."
   ]
  },
  {
   "cell_type": "code",
   "execution_count": 13,
   "metadata": {},
   "outputs": [],
   "source": [
    "# some of the columns have space in front. Removing spaces from the front.\n",
    "df = df.rename(columns={' market ': \"market\", ' funding_total_usd ': \"funding_total_usd\"})\n",
    "\n",
    "# the funding total column is read as a object so clearning it up so that we can use it as a numerical column\n",
    "df['funding_total_usd']=df['funding_total_usd'].str.replace(',','') # removing commas from funding_total_usd column\n",
    "df['funding_total_usd']=df['funding_total_usd'].str.replace(' ','')#removing extra space from funding_total_usd column\n",
    "df['funding_total_usd']=df['funding_total_usd'].str.replace('-','0') #removing - from funding_total_usd column and replacing with 0\n",
    "\n",
    "\n",
    "df['funding_total_usd'] = pd.to_numeric(df['funding_total_usd'])# turning column to number\n",
    "\n",
    "\n",
    "#turning all date columns in to date\n",
    "df['founded_at'] =  pd.to_datetime(df['founded_at'], format='%Y-%m-%d', errors = 'coerce') # conveting column into date and ignoring errors\n",
    "df['first_funding_at'] =  pd.to_datetime(df['first_funding_at'], format='%Y-%m-%d', errors = 'coerce')  # conveting column into date and ignoring errors\n",
    "df['last_funding_at'] =  pd.to_datetime(df['last_funding_at'], format='%Y-%m-%d', errors = 'coerce')  # conveting column into date and ignoring errors\n",
    "df['founded_year'] =  pd.to_datetime(df['founded_year'], format='%Y', errors = 'coerce') # conveting column into date and ignoring errors\n",
    "df['founded_month'] =  pd.to_datetime(df['founded_month'], format='%Y-%m', errors = 'coerce') # conveting column into date and ignoring errors\n",
    "\n",
    "df.market = df.market.str.strip() #removing space from beginnning and end of market column"
   ]
  },
  {
   "cell_type": "markdown",
   "metadata": {},
   "source": [
    "# Analysis"
   ]
  },
  {
   "cell_type": "markdown",
   "metadata": {},
   "source": [
    "The analysis of the dataset was important to understand what is important to use in the final model. It also helped us understand the data more before using them in the models. The analysis below contains some of the important EDA we did on the data.\n",
    "\n",
    "Most of the companies were in the Software and Biotechnology industry. Biotechnology had the highest number in total funding. Mobile companies had the second lowest number in total funding.\n",
    "\n",
    "A lot of the companies raised venture and seed funding. The number of companies decreased as the companies proceeded to more series funding. Round G and H have a very low number of companies compared to round A and round B.\n",
    "\n",
    "Most of the acquired and operating companies are from the U.S. Acquired companies had higher mean and median funding compared to closed and operating companies. Acquired companies also had more number of funding rounds compared to companies with closed and operating statuses.\n",
    "\n",
    "In terms of year, 2014 was the newest year and the oldest year was 1902. Most of the companies were founded quite recently around the 2000. The total investment data was very skewed, similar to the other type of funding."
   ]
  },
  {
   "cell_type": "code",
   "execution_count": 14,
   "metadata": {},
   "outputs": [
    {
     "data": {
      "text/plain": [
       "permalink                   0\n",
       "name                        0\n",
       "homepage_url                0\n",
       "category_list               0\n",
       "market                      0\n",
       "funding_total_usd        8531\n",
       "status                      0\n",
       "country_code                0\n",
       "state_code                  0\n",
       "region                      0\n",
       "city                        0\n",
       "funding_rounds              0\n",
       "founded_at                  0\n",
       "founded_month               0\n",
       "founded_quarter             0\n",
       "founded_year                0\n",
       "first_funding_at            0\n",
       "last_funding_at             0\n",
       "seed                    35598\n",
       "venture                 26161\n",
       "equity_crowdfunding     48916\n",
       "undisclosed             48486\n",
       "convertible_note        48881\n",
       "debt_financing          45213\n",
       "angel                   46309\n",
       "grant                   48296\n",
       "private_equity          48065\n",
       "post_ipo_equity         49122\n",
       "post_ipo_debt           49363\n",
       "secondary_market        49419\n",
       "product_crowdfunding    49225\n",
       "round_A                 40435\n",
       "round_B                 43991\n",
       "round_C                 46601\n",
       "round_D                 48150\n",
       "round_E                 48922\n",
       "round_F                 49266\n",
       "round_G                 49404\n",
       "round_H                 49434\n",
       "dtype: int64"
      ]
     },
     "execution_count": 14,
     "metadata": {},
     "output_type": "execute_result"
    }
   ],
   "source": [
    "df.isin([0]).sum() # the number of zeros in the dataset. Some columns have a lot of zeros"
   ]
  },
  {
   "cell_type": "code",
   "execution_count": 15,
   "metadata": {},
   "outputs": [
    {
     "data": {
      "text/plain": [
       "permalink               49438\n",
       "name                    49437\n",
       "homepage_url            45989\n",
       "category_list           45477\n",
       "market                  45470\n",
       "funding_total_usd       49438\n",
       "status                  48124\n",
       "country_code            44165\n",
       "state_code              30161\n",
       "region                  44165\n",
       "city                    43322\n",
       "funding_rounds          49438\n",
       "founded_at              38553\n",
       "founded_month           38482\n",
       "founded_quarter         38482\n",
       "founded_year            38482\n",
       "first_funding_at        49428\n",
       "last_funding_at         49432\n",
       "seed                    49438\n",
       "venture                 49438\n",
       "equity_crowdfunding     49438\n",
       "undisclosed             49438\n",
       "convertible_note        49438\n",
       "debt_financing          49438\n",
       "angel                   49438\n",
       "grant                   49438\n",
       "private_equity          49438\n",
       "post_ipo_equity         49438\n",
       "post_ipo_debt           49438\n",
       "secondary_market        49438\n",
       "product_crowdfunding    49438\n",
       "round_A                 49438\n",
       "round_B                 49438\n",
       "round_C                 49438\n",
       "round_D                 49438\n",
       "round_E                 49438\n",
       "round_F                 49438\n",
       "round_G                 49438\n",
       "round_H                 49438\n",
       "dtype: int64"
      ]
     },
     "execution_count": 15,
     "metadata": {},
     "output_type": "execute_result"
    }
   ],
   "source": [
    "df.count() # number of values in each column"
   ]
  },
  {
   "cell_type": "code",
   "execution_count": 16,
   "metadata": {},
   "outputs": [
    {
     "data": {
      "text/plain": [
       "permalink               49436\n",
       "name                    49350\n",
       "homepage_url            45850\n",
       "category_list           16675\n",
       "market                    753\n",
       "funding_total_usd       14617\n",
       "status                      3\n",
       "country_code              115\n",
       "state_code                 61\n",
       "region                   1089\n",
       "city                     4188\n",
       "funding_rounds             17\n",
       "founded_at               3368\n",
       "founded_month             420\n",
       "founded_quarter           218\n",
       "founded_year              103\n",
       "first_funding_at         3904\n",
       "last_funding_at          3651\n",
       "seed                     3337\n",
       "venture                  9300\n",
       "equity_crowdfunding       252\n",
       "undisclosed               687\n",
       "convertible_note          299\n",
       "debt_financing           1872\n",
       "angel                     999\n",
       "grant                     532\n",
       "private_equity            847\n",
       "post_ipo_equity           239\n",
       "post_ipo_debt              57\n",
       "secondary_market           20\n",
       "product_crowdfunding      176\n",
       "round_A                  2035\n",
       "round_B                  1269\n",
       "round_C                   740\n",
       "round_D                   458\n",
       "round_E                   225\n",
       "round_F                   110\n",
       "round_G                    32\n",
       "round_H                     5\n",
       "dtype: int64"
      ]
     },
     "execution_count": 16,
     "metadata": {},
     "output_type": "execute_result"
    }
   ],
   "source": [
    "df.nunique() # finding out unique values for each column\n",
    "# permalink has the highest number of unique values, this is agood indicator that it would good to use it as a unique ID"
   ]
  },
  {
   "cell_type": "code",
   "execution_count": 17,
   "metadata": {},
   "outputs": [
    {
     "data": {
      "text/plain": [
       "permalink                0.000000\n",
       "name                     0.000000\n",
       "homepage_url             0.000000\n",
       "category_list            0.000000\n",
       "market                   0.000000\n",
       "funding_total_usd       17.255957\n",
       "status                   0.000000\n",
       "country_code             0.000000\n",
       "state_code               0.000000\n",
       "region                   0.000000\n",
       "city                     0.000000\n",
       "funding_rounds           0.000000\n",
       "founded_at               0.000000\n",
       "founded_month            0.000000\n",
       "founded_quarter          0.000000\n",
       "founded_year             0.000000\n",
       "first_funding_at         0.000000\n",
       "last_funding_at          0.000000\n",
       "seed                    72.005340\n",
       "venture                 52.916785\n",
       "equity_crowdfunding     98.944132\n",
       "undisclosed             98.074356\n",
       "convertible_note        98.873336\n",
       "debt_financing          91.453942\n",
       "angel                   93.670860\n",
       "grant                   97.690036\n",
       "private_equity          97.222784\n",
       "post_ipo_equity         99.360816\n",
       "post_ipo_debt           99.848295\n",
       "secondary_market        99.961568\n",
       "product_crowdfunding    99.569157\n",
       "round_A                 81.789312\n",
       "round_B                 88.982159\n",
       "round_C                 94.261499\n",
       "round_D                 97.394717\n",
       "round_E                 98.956268\n",
       "round_F                 99.652089\n",
       "round_G                 99.931227\n",
       "round_H                 99.991909\n",
       "dtype: float64"
      ]
     },
     "execution_count": 17,
     "metadata": {},
     "output_type": "execute_result"
    }
   ],
   "source": [
    "(df.isin([0]).sum()/df.count()) *100 # some of the columns have a lot of zeros. \n",
    "# Calculating zeros as apercentage of the total rows for each column"
   ]
  },
  {
   "cell_type": "code",
   "execution_count": 18,
   "metadata": {},
   "outputs": [
    {
     "data": {
      "text/plain": [
       "array(['acquired', 'operating', nan, 'closed'], dtype=object)"
      ]
     },
     "execution_count": 18,
     "metadata": {},
     "output_type": "execute_result"
    }
   ],
   "source": [
    "df['status'].unique() #unique values in status column\n",
    "#status column have three different values, this is what we are going to use to predict against"
   ]
  },
  {
   "cell_type": "code",
   "execution_count": 19,
   "metadata": {},
   "outputs": [
    {
     "data": {
      "text/plain": [
       "status\n",
       "acquired      3691\n",
       "closed        2602\n",
       "operating    41762\n",
       "Name: name, dtype: int64"
      ]
     },
     "execution_count": 19,
     "metadata": {},
     "output_type": "execute_result"
    }
   ],
   "source": [
    "df.groupby('status')['name'].nunique() #number of companies with each status type\n",
    "#a lot of operating values in the dataset"
   ]
  },
  {
   "cell_type": "code",
   "execution_count": 20,
   "metadata": {},
   "outputs": [
    {
     "data": {
      "text/plain": [
       "115"
      ]
     },
     "execution_count": 20,
     "metadata": {},
     "output_type": "execute_result"
    }
   ],
   "source": [
    "df['country_code'].nunique() # no. of unique country code\n",
    "#113 country code unique"
   ]
  },
  {
   "cell_type": "code",
   "execution_count": 21,
   "metadata": {},
   "outputs": [
    {
     "data": {
      "text/plain": [
       "array(['USA', 'EST', 'GBR', 'ARG', nan, 'HKG', 'CHL', 'DEU', 'FRA', 'CHN',\n",
       "       'CAN', 'AUS', 'ROM', 'NLD', 'SWE', 'RUS', 'DNK', 'IND', 'SGP',\n",
       "       'NOR', 'BEL', 'IRL', 'ITA', 'ISR', 'ESP', 'THA', 'NZL', 'CZE',\n",
       "       'CHE', 'BRA', 'HUN', 'JPN', 'BWA', 'KOR', 'NGA', 'FIN', 'TUR',\n",
       "       'CRI', 'PRT', 'TWN', 'KHM', 'COL', 'UKR', 'LTU', 'ZAF', 'AUT',\n",
       "       'PHL', 'ISL', 'BGR', 'URY', 'HRV', 'KEN', 'MEX', 'JOR', 'VNM',\n",
       "       'GHA', 'PER', 'POL', 'IDN', 'PAN', 'LVA', 'ALB', 'UGA', 'LBN',\n",
       "       'GRC', 'ARE', 'PAK', 'EGY', 'SVK', 'LUX', 'MYS', 'BHS', 'ARM',\n",
       "       'DZA', 'MDA', 'TUN', 'NIC', 'TZA', 'CYP', 'NPL', 'BHR', 'CMR',\n",
       "       'SRB', 'SAU', 'CYM', 'BRN', 'SLV', 'ECU', 'MLT', 'SVN', 'LAO',\n",
       "       'TTO', 'MAR', 'MMR', 'BGD', 'DOM', 'BMU', 'LIE', 'MOZ', 'GTM',\n",
       "       'AZE', 'MCO', 'ZWE', 'UZB', 'OMN', 'BLR', 'JEY', 'JAM', 'KWT',\n",
       "       'MUS', 'CIV', 'SOM', 'MKD', 'GIB', 'SYC', 'MAF'], dtype=object)"
      ]
     },
     "execution_count": 21,
     "metadata": {},
     "output_type": "execute_result"
    }
   ],
   "source": [
    "df['country_code'].unique() #different unique values in country_code\n",
    "#lot fo different countries"
   ]
  },
  {
   "cell_type": "code",
   "execution_count": 22,
   "metadata": {},
   "outputs": [
    {
     "data": {
      "text/plain": [
       "country_code\n",
       "USA    28756\n",
       "GBR     2642\n",
       "CAN     1405\n",
       "CHN     1238\n",
       "DEU      966\n",
       "FRA      866\n",
       "IND      849\n",
       "ISR      681\n",
       "ESP      549\n",
       "RUS      368\n",
       "SWE      315\n",
       "AUS      314\n",
       "ITA      308\n",
       "NLD      307\n",
       "IRL      306\n",
       "SGP      299\n",
       "BRA      293\n",
       "CHL      285\n",
       "JPN      283\n",
       "KOR      246\n",
       "CHE      222\n",
       "DNK      210\n",
       "FIN      194\n",
       "ARG      149\n",
       "BEL      149\n",
       "HKG      126\n",
       "TUR      124\n",
       "AUT      103\n",
       "NOR       98\n",
       "POL       94\n",
       "MEX       83\n",
       "PRT       69\n",
       "BGR       68\n",
       "ARE       66\n",
       "NZL       62\n",
       "ZAF       52\n",
       "IDN       52\n",
       "CZE       51\n",
       "MYS       48\n",
       "UKR       45\n",
       "EST       44\n",
       "TWN       41\n",
       "HUN       41\n",
       "THA       38\n",
       "COL       35\n",
       "PHL       32\n",
       "LTU       31\n",
       "GRC       31\n",
       "NGA       29\n",
       "PER       29\n",
       "Name: name, dtype: int64"
      ]
     },
     "execution_count": 22,
     "metadata": {},
     "output_type": "execute_result"
    }
   ],
   "source": [
    "df.groupby('country_code')['name'].nunique().sort_values(ascending=False).head(50) #number of companies in each country_code\n",
    "# most of the values are from USA "
   ]
  },
  {
   "cell_type": "code",
   "execution_count": 23,
   "metadata": {},
   "outputs": [
    {
     "data": {
      "text/plain": [
       "permalink                4856\n",
       "name                     4857\n",
       "homepage_url             8305\n",
       "category_list            8817\n",
       "market                   8824\n",
       "funding_total_usd        4856\n",
       "status                   6170\n",
       "country_code            10129\n",
       "state_code              24133\n",
       "region                  10129\n",
       "city                    10972\n",
       "funding_rounds           4856\n",
       "founded_at              15741\n",
       "founded_month           15812\n",
       "founded_quarter         15812\n",
       "founded_year            15812\n",
       "first_funding_at         4866\n",
       "last_funding_at          4862\n",
       "seed                     4856\n",
       "venture                  4856\n",
       "equity_crowdfunding      4856\n",
       "undisclosed              4856\n",
       "convertible_note         4856\n",
       "debt_financing           4856\n",
       "angel                    4856\n",
       "grant                    4856\n",
       "private_equity           4856\n",
       "post_ipo_equity          4856\n",
       "post_ipo_debt            4856\n",
       "secondary_market         4856\n",
       "product_crowdfunding     4856\n",
       "round_A                  4856\n",
       "round_B                  4856\n",
       "round_C                  4856\n",
       "round_D                  4856\n",
       "round_E                  4856\n",
       "round_F                  4856\n",
       "round_G                  4856\n",
       "round_H                  4856\n",
       "dtype: int64"
      ]
     },
     "execution_count": 23,
     "metadata": {},
     "output_type": "execute_result"
    }
   ],
   "source": [
    "df.isnull().sum() #sum of null values in each column\n",
    "# dataset also has some null values. Some of the columns have a lot of null values eg. state code and founded years"
   ]
  },
  {
   "cell_type": "code",
   "execution_count": 24,
   "metadata": {},
   "outputs": [
    {
     "data": {
      "text/plain": [
       "permalink                9.822404\n",
       "name                     9.824625\n",
       "homepage_url            18.058666\n",
       "category_list           19.387822\n",
       "market                  19.406202\n",
       "funding_total_usd        9.822404\n",
       "status                  12.821046\n",
       "country_code            22.934450\n",
       "state_code              80.013925\n",
       "region                  22.934450\n",
       "city                    25.326624\n",
       "funding_rounds           9.822404\n",
       "founded_at              40.829507\n",
       "founded_month           41.089340\n",
       "founded_quarter         41.089340\n",
       "founded_year            41.089340\n",
       "first_funding_at         9.844622\n",
       "last_funding_at          9.835734\n",
       "seed                     9.822404\n",
       "venture                  9.822404\n",
       "equity_crowdfunding      9.822404\n",
       "undisclosed              9.822404\n",
       "convertible_note         9.822404\n",
       "debt_financing           9.822404\n",
       "angel                    9.822404\n",
       "grant                    9.822404\n",
       "private_equity           9.822404\n",
       "post_ipo_equity          9.822404\n",
       "post_ipo_debt            9.822404\n",
       "secondary_market         9.822404\n",
       "product_crowdfunding     9.822404\n",
       "round_A                  9.822404\n",
       "round_B                  9.822404\n",
       "round_C                  9.822404\n",
       "round_D                  9.822404\n",
       "round_E                  9.822404\n",
       "round_F                  9.822404\n",
       "round_G                  9.822404\n",
       "round_H                  9.822404\n",
       "dtype: float64"
      ]
     },
     "execution_count": 24,
     "metadata": {},
     "output_type": "execute_result"
    }
   ],
   "source": [
    "df.isnull().sum()/df.count() *100 #percentage of null values in each column\n",
    "#around 40% of the data does not have a founded date. \n",
    "#City, region, state also have high number of null values so it would be good to leave these columns."
   ]
  },
  {
   "cell_type": "code",
   "execution_count": 25,
   "metadata": {},
   "outputs": [
    {
     "data": {
      "text/html": [
       "<div>\n",
       "<style scoped>\n",
       "    .dataframe tbody tr th:only-of-type {\n",
       "        vertical-align: middle;\n",
       "    }\n",
       "\n",
       "    .dataframe tbody tr th {\n",
       "        vertical-align: top;\n",
       "    }\n",
       "\n",
       "    .dataframe thead th {\n",
       "        text-align: right;\n",
       "    }\n",
       "</style>\n",
       "<table border=\"1\" class=\"dataframe\">\n",
       "  <thead>\n",
       "    <tr style=\"text-align: right;\">\n",
       "      <th></th>\n",
       "      <th>count</th>\n",
       "      <th>mean</th>\n",
       "      <th>std</th>\n",
       "      <th>min</th>\n",
       "      <th>25%</th>\n",
       "      <th>50%</th>\n",
       "      <th>75%</th>\n",
       "      <th>max</th>\n",
       "    </tr>\n",
       "    <tr>\n",
       "      <th>status</th>\n",
       "      <th></th>\n",
       "      <th></th>\n",
       "      <th></th>\n",
       "      <th></th>\n",
       "      <th></th>\n",
       "      <th></th>\n",
       "      <th></th>\n",
       "      <th></th>\n",
       "    </tr>\n",
       "  </thead>\n",
       "  <tbody>\n",
       "    <tr>\n",
       "      <th>acquired</th>\n",
       "      <td>3692.0</td>\n",
       "      <td>2.075578e+07</td>\n",
       "      <td>1.079477e+08</td>\n",
       "      <td>0.0</td>\n",
       "      <td>1100000.0</td>\n",
       "      <td>6000000.0</td>\n",
       "      <td>19500000.0</td>\n",
       "      <td>5.700000e+09</td>\n",
       "    </tr>\n",
       "    <tr>\n",
       "      <th>closed</th>\n",
       "      <td>2603.0</td>\n",
       "      <td>7.023194e+06</td>\n",
       "      <td>3.888355e+07</td>\n",
       "      <td>0.0</td>\n",
       "      <td>30000.0</td>\n",
       "      <td>500000.0</td>\n",
       "      <td>4000000.0</td>\n",
       "      <td>1.567504e+09</td>\n",
       "    </tr>\n",
       "    <tr>\n",
       "      <th>operating</th>\n",
       "      <td>41829.0</td>\n",
       "      <td>1.295244e+07</td>\n",
       "      <td>1.633604e+08</td>\n",
       "      <td>0.0</td>\n",
       "      <td>50000.0</td>\n",
       "      <td>999857.0</td>\n",
       "      <td>6000000.0</td>\n",
       "      <td>3.007950e+10</td>\n",
       "    </tr>\n",
       "  </tbody>\n",
       "</table>\n",
       "</div>"
      ],
      "text/plain": [
       "             count          mean           std  min        25%        50%  \\\n",
       "status                                                                      \n",
       "acquired    3692.0  2.075578e+07  1.079477e+08  0.0  1100000.0  6000000.0   \n",
       "closed      2603.0  7.023194e+06  3.888355e+07  0.0    30000.0   500000.0   \n",
       "operating  41829.0  1.295244e+07  1.633604e+08  0.0    50000.0   999857.0   \n",
       "\n",
       "                  75%           max  \n",
       "status                               \n",
       "acquired   19500000.0  5.700000e+09  \n",
       "closed      4000000.0  1.567504e+09  \n",
       "operating   6000000.0  3.007950e+10  "
      ]
     },
     "execution_count": 25,
     "metadata": {},
     "output_type": "execute_result"
    }
   ],
   "source": [
    "df.groupby('status')['funding_total_usd'].describe() #grouping status and descriptive analysis of total funding\n",
    "#acquired companies have higher mean and median funding total comapred to closed and operating. Closed companies have the lowest funding total."
   ]
  },
  {
   "cell_type": "code",
   "execution_count": 26,
   "metadata": {},
   "outputs": [
    {
     "data": {
      "text/html": [
       "<div>\n",
       "<style scoped>\n",
       "    .dataframe tbody tr th:only-of-type {\n",
       "        vertical-align: middle;\n",
       "    }\n",
       "\n",
       "    .dataframe tbody tr th {\n",
       "        vertical-align: top;\n",
       "    }\n",
       "\n",
       "    .dataframe thead th {\n",
       "        text-align: right;\n",
       "    }\n",
       "</style>\n",
       "<table border=\"1\" class=\"dataframe\">\n",
       "  <thead>\n",
       "    <tr style=\"text-align: right;\">\n",
       "      <th></th>\n",
       "      <th>count</th>\n",
       "      <th>mean</th>\n",
       "      <th>std</th>\n",
       "      <th>min</th>\n",
       "      <th>25%</th>\n",
       "      <th>50%</th>\n",
       "      <th>75%</th>\n",
       "      <th>max</th>\n",
       "    </tr>\n",
       "    <tr>\n",
       "      <th>status</th>\n",
       "      <th></th>\n",
       "      <th></th>\n",
       "      <th></th>\n",
       "      <th></th>\n",
       "      <th></th>\n",
       "      <th></th>\n",
       "      <th></th>\n",
       "      <th></th>\n",
       "    </tr>\n",
       "  </thead>\n",
       "  <tbody>\n",
       "    <tr>\n",
       "      <th>acquired</th>\n",
       "      <td>3692.0</td>\n",
       "      <td>2.013814</td>\n",
       "      <td>1.398832</td>\n",
       "      <td>1.0</td>\n",
       "      <td>1.0</td>\n",
       "      <td>2.0</td>\n",
       "      <td>3.0</td>\n",
       "      <td>15.0</td>\n",
       "    </tr>\n",
       "    <tr>\n",
       "      <th>closed</th>\n",
       "      <td>2603.0</td>\n",
       "      <td>1.434114</td>\n",
       "      <td>0.965478</td>\n",
       "      <td>1.0</td>\n",
       "      <td>1.0</td>\n",
       "      <td>1.0</td>\n",
       "      <td>2.0</td>\n",
       "      <td>11.0</td>\n",
       "    </tr>\n",
       "    <tr>\n",
       "      <th>operating</th>\n",
       "      <td>41829.0</td>\n",
       "      <td>1.689522</td>\n",
       "      <td>1.302072</td>\n",
       "      <td>1.0</td>\n",
       "      <td>1.0</td>\n",
       "      <td>1.0</td>\n",
       "      <td>2.0</td>\n",
       "      <td>18.0</td>\n",
       "    </tr>\n",
       "  </tbody>\n",
       "</table>\n",
       "</div>"
      ],
      "text/plain": [
       "             count      mean       std  min  25%  50%  75%   max\n",
       "status                                                          \n",
       "acquired    3692.0  2.013814  1.398832  1.0  1.0  2.0  3.0  15.0\n",
       "closed      2603.0  1.434114  0.965478  1.0  1.0  1.0  2.0  11.0\n",
       "operating  41829.0  1.689522  1.302072  1.0  1.0  1.0  2.0  18.0"
      ]
     },
     "execution_count": 26,
     "metadata": {},
     "output_type": "execute_result"
    }
   ],
   "source": [
    "df.groupby('status')['funding_rounds'].describe()#grouping status and descriptive analysis of funding rounds\n",
    "# acquired companies also has more funding rounds"
   ]
  },
  {
   "cell_type": "code",
   "execution_count": 27,
   "metadata": {},
   "outputs": [
    {
     "name": "stderr",
     "output_type": "stream",
     "text": [
      "<ipython-input-27-b7fa06f07156>:1: FutureWarning: Indexing with multiple keys (implicitly converted to a tuple of keys) will be deprecated, use a list instead.\n",
      "  df.groupby('status')['funding_rounds', 'funding_total_usd', 'seed', 'venture', 'equity_crowdfunding',\n"
     ]
    },
    {
     "data": {
      "text/html": [
       "<div>\n",
       "<style scoped>\n",
       "    .dataframe tbody tr th:only-of-type {\n",
       "        vertical-align: middle;\n",
       "    }\n",
       "\n",
       "    .dataframe tbody tr th {\n",
       "        vertical-align: top;\n",
       "    }\n",
       "\n",
       "    .dataframe thead th {\n",
       "        text-align: right;\n",
       "    }\n",
       "</style>\n",
       "<table border=\"1\" class=\"dataframe\">\n",
       "  <thead>\n",
       "    <tr style=\"text-align: right;\">\n",
       "      <th>status</th>\n",
       "      <th>acquired</th>\n",
       "      <th>closed</th>\n",
       "      <th>operating</th>\n",
       "    </tr>\n",
       "  </thead>\n",
       "  <tbody>\n",
       "    <tr>\n",
       "      <th>funding_rounds</th>\n",
       "      <td>2.013814e+00</td>\n",
       "      <td>1.434114e+00</td>\n",
       "      <td>1.689522e+00</td>\n",
       "    </tr>\n",
       "    <tr>\n",
       "      <th>funding_total_usd</th>\n",
       "      <td>2.075578e+07</td>\n",
       "      <td>7.023194e+06</td>\n",
       "      <td>1.295244e+07</td>\n",
       "    </tr>\n",
       "    <tr>\n",
       "      <th>seed</th>\n",
       "      <td>1.783670e+05</td>\n",
       "      <td>1.415031e+05</td>\n",
       "      <td>2.275289e+05</td>\n",
       "    </tr>\n",
       "    <tr>\n",
       "      <th>venture</th>\n",
       "      <td>1.385521e+07</td>\n",
       "      <td>5.212253e+06</td>\n",
       "      <td>7.194281e+06</td>\n",
       "    </tr>\n",
       "    <tr>\n",
       "      <th>equity_crowdfunding</th>\n",
       "      <td>2.406028e+03</td>\n",
       "      <td>0.000000e+00</td>\n",
       "      <td>6.984983e+03</td>\n",
       "    </tr>\n",
       "    <tr>\n",
       "      <th>undisclosed</th>\n",
       "      <td>1.559854e+05</td>\n",
       "      <td>3.732560e+04</td>\n",
       "      <td>1.304164e+05</td>\n",
       "    </tr>\n",
       "    <tr>\n",
       "      <th>convertible_note</th>\n",
       "      <td>6.423306e+03</td>\n",
       "      <td>1.012430e+04</td>\n",
       "      <td>2.587812e+04</td>\n",
       "    </tr>\n",
       "    <tr>\n",
       "      <th>debt_financing</th>\n",
       "      <td>1.905123e+06</td>\n",
       "      <td>6.263045e+05</td>\n",
       "      <td>1.989447e+06</td>\n",
       "    </tr>\n",
       "    <tr>\n",
       "      <th>angel</th>\n",
       "      <td>6.677897e+04</td>\n",
       "      <td>7.328595e+04</td>\n",
       "      <td>6.554313e+04</td>\n",
       "    </tr>\n",
       "    <tr>\n",
       "      <th>grant</th>\n",
       "      <td>2.570494e+04</td>\n",
       "      <td>5.857066e+04</td>\n",
       "      <td>1.811988e+05</td>\n",
       "    </tr>\n",
       "    <tr>\n",
       "      <th>private_equity</th>\n",
       "      <td>2.637853e+06</td>\n",
       "      <td>5.576029e+05</td>\n",
       "      <td>2.129350e+06</td>\n",
       "    </tr>\n",
       "    <tr>\n",
       "      <th>post_ipo_equity</th>\n",
       "      <td>1.611554e+06</td>\n",
       "      <td>3.033922e+05</td>\n",
       "      <td>5.075855e+05</td>\n",
       "    </tr>\n",
       "    <tr>\n",
       "      <th>post_ipo_debt</th>\n",
       "      <td>3.093987e+05</td>\n",
       "      <td>0.000000e+00</td>\n",
       "      <td>4.409116e+05</td>\n",
       "    </tr>\n",
       "    <tr>\n",
       "      <th>secondary_market</th>\n",
       "      <td>2.464789e+02</td>\n",
       "      <td>2.821279e+03</td>\n",
       "      <td>4.514165e+04</td>\n",
       "    </tr>\n",
       "    <tr>\n",
       "      <th>product_crowdfunding</th>\n",
       "      <td>7.313109e+02</td>\n",
       "      <td>1.037265e+01</td>\n",
       "      <td>8.176997e+03</td>\n",
       "    </tr>\n",
       "    <tr>\n",
       "      <th>round_A</th>\n",
       "      <td>2.174661e+06</td>\n",
       "      <td>1.064018e+06</td>\n",
       "      <td>1.189144e+06</td>\n",
       "    </tr>\n",
       "    <tr>\n",
       "      <th>round_B</th>\n",
       "      <td>3.425453e+06</td>\n",
       "      <td>1.214834e+06</td>\n",
       "      <td>1.361950e+06</td>\n",
       "    </tr>\n",
       "    <tr>\n",
       "      <th>round_C</th>\n",
       "      <td>2.729664e+06</td>\n",
       "      <td>6.584350e+05</td>\n",
       "      <td>1.132962e+06</td>\n",
       "    </tr>\n",
       "    <tr>\n",
       "      <th>round_D</th>\n",
       "      <td>1.539313e+06</td>\n",
       "      <td>2.839396e+05</td>\n",
       "      <td>7.145365e+05</td>\n",
       "    </tr>\n",
       "    <tr>\n",
       "      <th>round_E</th>\n",
       "      <td>5.004732e+05</td>\n",
       "      <td>2.428813e+05</td>\n",
       "      <td>3.433617e+05</td>\n",
       "    </tr>\n",
       "    <tr>\n",
       "      <th>round_F</th>\n",
       "      <td>1.511213e+05</td>\n",
       "      <td>1.730695e+05</td>\n",
       "      <td>1.763014e+05</td>\n",
       "    </tr>\n",
       "    <tr>\n",
       "      <th>round_G</th>\n",
       "      <td>2.315818e+04</td>\n",
       "      <td>1.920861e+04</td>\n",
       "      <td>6.492200e+04</td>\n",
       "    </tr>\n",
       "    <tr>\n",
       "      <th>round_H</th>\n",
       "      <td>0.000000e+00</td>\n",
       "      <td>0.000000e+00</td>\n",
       "      <td>1.682087e+04</td>\n",
       "    </tr>\n",
       "  </tbody>\n",
       "</table>\n",
       "</div>"
      ],
      "text/plain": [
       "status                    acquired        closed     operating\n",
       "funding_rounds        2.013814e+00  1.434114e+00  1.689522e+00\n",
       "funding_total_usd     2.075578e+07  7.023194e+06  1.295244e+07\n",
       "seed                  1.783670e+05  1.415031e+05  2.275289e+05\n",
       "venture               1.385521e+07  5.212253e+06  7.194281e+06\n",
       "equity_crowdfunding   2.406028e+03  0.000000e+00  6.984983e+03\n",
       "undisclosed           1.559854e+05  3.732560e+04  1.304164e+05\n",
       "convertible_note      6.423306e+03  1.012430e+04  2.587812e+04\n",
       "debt_financing        1.905123e+06  6.263045e+05  1.989447e+06\n",
       "angel                 6.677897e+04  7.328595e+04  6.554313e+04\n",
       "grant                 2.570494e+04  5.857066e+04  1.811988e+05\n",
       "private_equity        2.637853e+06  5.576029e+05  2.129350e+06\n",
       "post_ipo_equity       1.611554e+06  3.033922e+05  5.075855e+05\n",
       "post_ipo_debt         3.093987e+05  0.000000e+00  4.409116e+05\n",
       "secondary_market      2.464789e+02  2.821279e+03  4.514165e+04\n",
       "product_crowdfunding  7.313109e+02  1.037265e+01  8.176997e+03\n",
       "round_A               2.174661e+06  1.064018e+06  1.189144e+06\n",
       "round_B               3.425453e+06  1.214834e+06  1.361950e+06\n",
       "round_C               2.729664e+06  6.584350e+05  1.132962e+06\n",
       "round_D               1.539313e+06  2.839396e+05  7.145365e+05\n",
       "round_E               5.004732e+05  2.428813e+05  3.433617e+05\n",
       "round_F               1.511213e+05  1.730695e+05  1.763014e+05\n",
       "round_G               2.315818e+04  1.920861e+04  6.492200e+04\n",
       "round_H               0.000000e+00  0.000000e+00  1.682087e+04"
      ]
     },
     "execution_count": 27,
     "metadata": {},
     "output_type": "execute_result"
    }
   ],
   "source": [
    "df.groupby('status')['funding_rounds', 'funding_total_usd', 'seed', 'venture', 'equity_crowdfunding',\n",
    "       'undisclosed', 'convertible_note', 'debt_financing', 'angel', 'grant',\n",
    "       'private_equity', 'post_ipo_equity', 'post_ipo_debt',\n",
    "       'secondary_market', 'product_crowdfunding', 'round_A', 'round_B',\n",
    "       'round_C', 'round_D', 'round_E', 'round_F', 'round_G', 'round_H'].mean().T #mean values of all columns and transposing it. Grouping by company status"
   ]
  },
  {
   "cell_type": "code",
   "execution_count": 28,
   "metadata": {},
   "outputs": [
    {
     "name": "stderr",
     "output_type": "stream",
     "text": [
      "<ipython-input-28-4d15a00a0ff2>:1: FutureWarning: Indexing with multiple keys (implicitly converted to a tuple of keys) will be deprecated, use a list instead.\n",
      "  df.groupby('status')['funding_rounds', 'funding_total_usd', 'seed', 'venture', 'equity_crowdfunding',\n"
     ]
    },
    {
     "data": {
      "text/html": [
       "<div>\n",
       "<style scoped>\n",
       "    .dataframe tbody tr th:only-of-type {\n",
       "        vertical-align: middle;\n",
       "    }\n",
       "\n",
       "    .dataframe tbody tr th {\n",
       "        vertical-align: top;\n",
       "    }\n",
       "\n",
       "    .dataframe thead th {\n",
       "        text-align: right;\n",
       "    }\n",
       "</style>\n",
       "<table border=\"1\" class=\"dataframe\">\n",
       "  <thead>\n",
       "    <tr style=\"text-align: right;\">\n",
       "      <th>status</th>\n",
       "      <th>acquired</th>\n",
       "      <th>closed</th>\n",
       "      <th>operating</th>\n",
       "    </tr>\n",
       "  </thead>\n",
       "  <tbody>\n",
       "    <tr>\n",
       "      <th>funding_rounds</th>\n",
       "      <td>2.0</td>\n",
       "      <td>1.0</td>\n",
       "      <td>1.0</td>\n",
       "    </tr>\n",
       "    <tr>\n",
       "      <th>funding_total_usd</th>\n",
       "      <td>6000000.0</td>\n",
       "      <td>500000.0</td>\n",
       "      <td>999857.0</td>\n",
       "    </tr>\n",
       "    <tr>\n",
       "      <th>seed</th>\n",
       "      <td>0.0</td>\n",
       "      <td>0.0</td>\n",
       "      <td>0.0</td>\n",
       "    </tr>\n",
       "    <tr>\n",
       "      <th>venture</th>\n",
       "      <td>5000000.0</td>\n",
       "      <td>0.0</td>\n",
       "      <td>0.0</td>\n",
       "    </tr>\n",
       "    <tr>\n",
       "      <th>equity_crowdfunding</th>\n",
       "      <td>0.0</td>\n",
       "      <td>0.0</td>\n",
       "      <td>0.0</td>\n",
       "    </tr>\n",
       "    <tr>\n",
       "      <th>undisclosed</th>\n",
       "      <td>0.0</td>\n",
       "      <td>0.0</td>\n",
       "      <td>0.0</td>\n",
       "    </tr>\n",
       "    <tr>\n",
       "      <th>convertible_note</th>\n",
       "      <td>0.0</td>\n",
       "      <td>0.0</td>\n",
       "      <td>0.0</td>\n",
       "    </tr>\n",
       "    <tr>\n",
       "      <th>debt_financing</th>\n",
       "      <td>0.0</td>\n",
       "      <td>0.0</td>\n",
       "      <td>0.0</td>\n",
       "    </tr>\n",
       "    <tr>\n",
       "      <th>angel</th>\n",
       "      <td>0.0</td>\n",
       "      <td>0.0</td>\n",
       "      <td>0.0</td>\n",
       "    </tr>\n",
       "    <tr>\n",
       "      <th>grant</th>\n",
       "      <td>0.0</td>\n",
       "      <td>0.0</td>\n",
       "      <td>0.0</td>\n",
       "    </tr>\n",
       "    <tr>\n",
       "      <th>private_equity</th>\n",
       "      <td>0.0</td>\n",
       "      <td>0.0</td>\n",
       "      <td>0.0</td>\n",
       "    </tr>\n",
       "    <tr>\n",
       "      <th>post_ipo_equity</th>\n",
       "      <td>0.0</td>\n",
       "      <td>0.0</td>\n",
       "      <td>0.0</td>\n",
       "    </tr>\n",
       "    <tr>\n",
       "      <th>post_ipo_debt</th>\n",
       "      <td>0.0</td>\n",
       "      <td>0.0</td>\n",
       "      <td>0.0</td>\n",
       "    </tr>\n",
       "    <tr>\n",
       "      <th>secondary_market</th>\n",
       "      <td>0.0</td>\n",
       "      <td>0.0</td>\n",
       "      <td>0.0</td>\n",
       "    </tr>\n",
       "    <tr>\n",
       "      <th>product_crowdfunding</th>\n",
       "      <td>0.0</td>\n",
       "      <td>0.0</td>\n",
       "      <td>0.0</td>\n",
       "    </tr>\n",
       "    <tr>\n",
       "      <th>round_A</th>\n",
       "      <td>0.0</td>\n",
       "      <td>0.0</td>\n",
       "      <td>0.0</td>\n",
       "    </tr>\n",
       "    <tr>\n",
       "      <th>round_B</th>\n",
       "      <td>0.0</td>\n",
       "      <td>0.0</td>\n",
       "      <td>0.0</td>\n",
       "    </tr>\n",
       "    <tr>\n",
       "      <th>round_C</th>\n",
       "      <td>0.0</td>\n",
       "      <td>0.0</td>\n",
       "      <td>0.0</td>\n",
       "    </tr>\n",
       "    <tr>\n",
       "      <th>round_D</th>\n",
       "      <td>0.0</td>\n",
       "      <td>0.0</td>\n",
       "      <td>0.0</td>\n",
       "    </tr>\n",
       "    <tr>\n",
       "      <th>round_E</th>\n",
       "      <td>0.0</td>\n",
       "      <td>0.0</td>\n",
       "      <td>0.0</td>\n",
       "    </tr>\n",
       "    <tr>\n",
       "      <th>round_F</th>\n",
       "      <td>0.0</td>\n",
       "      <td>0.0</td>\n",
       "      <td>0.0</td>\n",
       "    </tr>\n",
       "    <tr>\n",
       "      <th>round_G</th>\n",
       "      <td>0.0</td>\n",
       "      <td>0.0</td>\n",
       "      <td>0.0</td>\n",
       "    </tr>\n",
       "    <tr>\n",
       "      <th>round_H</th>\n",
       "      <td>0.0</td>\n",
       "      <td>0.0</td>\n",
       "      <td>0.0</td>\n",
       "    </tr>\n",
       "  </tbody>\n",
       "</table>\n",
       "</div>"
      ],
      "text/plain": [
       "status                 acquired    closed  operating\n",
       "funding_rounds              2.0       1.0        1.0\n",
       "funding_total_usd     6000000.0  500000.0   999857.0\n",
       "seed                        0.0       0.0        0.0\n",
       "venture               5000000.0       0.0        0.0\n",
       "equity_crowdfunding         0.0       0.0        0.0\n",
       "undisclosed                 0.0       0.0        0.0\n",
       "convertible_note            0.0       0.0        0.0\n",
       "debt_financing              0.0       0.0        0.0\n",
       "angel                       0.0       0.0        0.0\n",
       "grant                       0.0       0.0        0.0\n",
       "private_equity              0.0       0.0        0.0\n",
       "post_ipo_equity             0.0       0.0        0.0\n",
       "post_ipo_debt               0.0       0.0        0.0\n",
       "secondary_market            0.0       0.0        0.0\n",
       "product_crowdfunding        0.0       0.0        0.0\n",
       "round_A                     0.0       0.0        0.0\n",
       "round_B                     0.0       0.0        0.0\n",
       "round_C                     0.0       0.0        0.0\n",
       "round_D                     0.0       0.0        0.0\n",
       "round_E                     0.0       0.0        0.0\n",
       "round_F                     0.0       0.0        0.0\n",
       "round_G                     0.0       0.0        0.0\n",
       "round_H                     0.0       0.0        0.0"
      ]
     },
     "execution_count": 28,
     "metadata": {},
     "output_type": "execute_result"
    }
   ],
   "source": [
    "df.groupby('status')['funding_rounds', 'funding_total_usd', 'seed', 'venture', 'equity_crowdfunding',\n",
    "       'undisclosed', 'convertible_note', 'debt_financing', 'angel', 'grant',\n",
    "       'private_equity', 'post_ipo_equity', 'post_ipo_debt',\n",
    "       'secondary_market', 'product_crowdfunding', 'round_A', 'round_B',\n",
    "       'round_C', 'round_D', 'round_E', 'round_F', 'round_G', 'round_H'].median().T #median value of all columns and transposing it. Grouping by company status\n",
    "       # median values are not being that useful as there is a lot of zeros in the dataset"
   ]
  },
  {
   "cell_type": "code",
   "execution_count": 29,
   "metadata": {},
   "outputs": [
    {
     "name": "stderr",
     "output_type": "stream",
     "text": [
      "<ipython-input-29-14a152f1bc0d>:1: FutureWarning: Indexing with multiple keys (implicitly converted to a tuple of keys) will be deprecated, use a list instead.\n",
      "  df.groupby('status')['funding_rounds', 'funding_total_usd', 'seed', 'venture', 'equity_crowdfunding',\n"
     ]
    },
    {
     "data": {
      "text/html": [
       "<div>\n",
       "<style scoped>\n",
       "    .dataframe tbody tr th:only-of-type {\n",
       "        vertical-align: middle;\n",
       "    }\n",
       "\n",
       "    .dataframe tbody tr th {\n",
       "        vertical-align: top;\n",
       "    }\n",
       "\n",
       "    .dataframe thead th {\n",
       "        text-align: right;\n",
       "    }\n",
       "</style>\n",
       "<table border=\"1\" class=\"dataframe\">\n",
       "  <thead>\n",
       "    <tr style=\"text-align: right;\">\n",
       "      <th>status</th>\n",
       "      <th>acquired</th>\n",
       "      <th>closed</th>\n",
       "      <th>operating</th>\n",
       "    </tr>\n",
       "  </thead>\n",
       "  <tbody>\n",
       "    <tr>\n",
       "      <th>funding_rounds</th>\n",
       "      <td>7.435000e+03</td>\n",
       "      <td>3.733000e+03</td>\n",
       "      <td>7.067100e+04</td>\n",
       "    </tr>\n",
       "    <tr>\n",
       "      <th>funding_total_usd</th>\n",
       "      <td>7.663035e+10</td>\n",
       "      <td>1.828137e+10</td>\n",
       "      <td>5.417878e+11</td>\n",
       "    </tr>\n",
       "    <tr>\n",
       "      <th>seed</th>\n",
       "      <td>6.585308e+08</td>\n",
       "      <td>3.683325e+08</td>\n",
       "      <td>9.517305e+09</td>\n",
       "    </tr>\n",
       "    <tr>\n",
       "      <th>venture</th>\n",
       "      <td>5.115343e+10</td>\n",
       "      <td>1.356749e+10</td>\n",
       "      <td>3.009296e+11</td>\n",
       "    </tr>\n",
       "    <tr>\n",
       "      <th>equity_crowdfunding</th>\n",
       "      <td>8.883057e+06</td>\n",
       "      <td>0.000000e+00</td>\n",
       "      <td>2.921749e+08</td>\n",
       "    </tr>\n",
       "    <tr>\n",
       "      <th>undisclosed</th>\n",
       "      <td>5.758979e+08</td>\n",
       "      <td>9.715853e+07</td>\n",
       "      <td>5.455188e+09</td>\n",
       "    </tr>\n",
       "    <tr>\n",
       "      <th>convertible_note</th>\n",
       "      <td>2.371484e+07</td>\n",
       "      <td>2.635356e+07</td>\n",
       "      <td>1.082456e+09</td>\n",
       "    </tr>\n",
       "    <tr>\n",
       "      <th>debt_financing</th>\n",
       "      <td>7.033715e+09</td>\n",
       "      <td>1.630271e+09</td>\n",
       "      <td>8.321657e+10</td>\n",
       "    </tr>\n",
       "    <tr>\n",
       "      <th>angel</th>\n",
       "      <td>2.465479e+08</td>\n",
       "      <td>1.907633e+08</td>\n",
       "      <td>2.741604e+09</td>\n",
       "    </tr>\n",
       "    <tr>\n",
       "      <th>grant</th>\n",
       "      <td>9.490263e+07</td>\n",
       "      <td>1.524594e+08</td>\n",
       "      <td>7.579363e+09</td>\n",
       "    </tr>\n",
       "    <tr>\n",
       "      <th>private_equity</th>\n",
       "      <td>9.738953e+09</td>\n",
       "      <td>1.451440e+09</td>\n",
       "      <td>8.906859e+10</td>\n",
       "    </tr>\n",
       "    <tr>\n",
       "      <th>post_ipo_equity</th>\n",
       "      <td>5.949859e+09</td>\n",
       "      <td>7.897300e+08</td>\n",
       "      <td>2.123180e+10</td>\n",
       "    </tr>\n",
       "    <tr>\n",
       "      <th>post_ipo_debt</th>\n",
       "      <td>1.142300e+09</td>\n",
       "      <td>0.000000e+00</td>\n",
       "      <td>1.844289e+10</td>\n",
       "    </tr>\n",
       "    <tr>\n",
       "      <th>secondary_market</th>\n",
       "      <td>9.100000e+05</td>\n",
       "      <td>7.343789e+06</td>\n",
       "      <td>1.888230e+09</td>\n",
       "    </tr>\n",
       "    <tr>\n",
       "      <th>product_crowdfunding</th>\n",
       "      <td>2.700000e+06</td>\n",
       "      <td>2.700000e+04</td>\n",
       "      <td>3.420356e+08</td>\n",
       "    </tr>\n",
       "    <tr>\n",
       "      <th>round_A</th>\n",
       "      <td>8.028849e+09</td>\n",
       "      <td>2.769638e+09</td>\n",
       "      <td>4.974071e+10</td>\n",
       "    </tr>\n",
       "    <tr>\n",
       "      <th>round_B</th>\n",
       "      <td>1.264677e+10</td>\n",
       "      <td>3.162212e+09</td>\n",
       "      <td>5.696900e+10</td>\n",
       "    </tr>\n",
       "    <tr>\n",
       "      <th>round_C</th>\n",
       "      <td>1.007792e+10</td>\n",
       "      <td>1.713906e+09</td>\n",
       "      <td>4.739068e+10</td>\n",
       "    </tr>\n",
       "    <tr>\n",
       "      <th>round_D</th>\n",
       "      <td>5.683145e+09</td>\n",
       "      <td>7.390947e+08</td>\n",
       "      <td>2.988835e+10</td>\n",
       "    </tr>\n",
       "    <tr>\n",
       "      <th>round_E</th>\n",
       "      <td>1.847747e+09</td>\n",
       "      <td>6.322200e+08</td>\n",
       "      <td>1.436248e+10</td>\n",
       "    </tr>\n",
       "    <tr>\n",
       "      <th>round_F</th>\n",
       "      <td>5.579400e+08</td>\n",
       "      <td>4.505000e+08</td>\n",
       "      <td>7.374509e+09</td>\n",
       "    </tr>\n",
       "    <tr>\n",
       "      <th>round_G</th>\n",
       "      <td>8.550000e+07</td>\n",
       "      <td>5.000000e+07</td>\n",
       "      <td>2.715622e+09</td>\n",
       "    </tr>\n",
       "    <tr>\n",
       "      <th>round_H</th>\n",
       "      <td>0.000000e+00</td>\n",
       "      <td>0.000000e+00</td>\n",
       "      <td>7.036000e+08</td>\n",
       "    </tr>\n",
       "  </tbody>\n",
       "</table>\n",
       "</div>"
      ],
      "text/plain": [
       "status                    acquired        closed     operating\n",
       "funding_rounds        7.435000e+03  3.733000e+03  7.067100e+04\n",
       "funding_total_usd     7.663035e+10  1.828137e+10  5.417878e+11\n",
       "seed                  6.585308e+08  3.683325e+08  9.517305e+09\n",
       "venture               5.115343e+10  1.356749e+10  3.009296e+11\n",
       "equity_crowdfunding   8.883057e+06  0.000000e+00  2.921749e+08\n",
       "undisclosed           5.758979e+08  9.715853e+07  5.455188e+09\n",
       "convertible_note      2.371484e+07  2.635356e+07  1.082456e+09\n",
       "debt_financing        7.033715e+09  1.630271e+09  8.321657e+10\n",
       "angel                 2.465479e+08  1.907633e+08  2.741604e+09\n",
       "grant                 9.490263e+07  1.524594e+08  7.579363e+09\n",
       "private_equity        9.738953e+09  1.451440e+09  8.906859e+10\n",
       "post_ipo_equity       5.949859e+09  7.897300e+08  2.123180e+10\n",
       "post_ipo_debt         1.142300e+09  0.000000e+00  1.844289e+10\n",
       "secondary_market      9.100000e+05  7.343789e+06  1.888230e+09\n",
       "product_crowdfunding  2.700000e+06  2.700000e+04  3.420356e+08\n",
       "round_A               8.028849e+09  2.769638e+09  4.974071e+10\n",
       "round_B               1.264677e+10  3.162212e+09  5.696900e+10\n",
       "round_C               1.007792e+10  1.713906e+09  4.739068e+10\n",
       "round_D               5.683145e+09  7.390947e+08  2.988835e+10\n",
       "round_E               1.847747e+09  6.322200e+08  1.436248e+10\n",
       "round_F               5.579400e+08  4.505000e+08  7.374509e+09\n",
       "round_G               8.550000e+07  5.000000e+07  2.715622e+09\n",
       "round_H               0.000000e+00  0.000000e+00  7.036000e+08"
      ]
     },
     "execution_count": 29,
     "metadata": {},
     "output_type": "execute_result"
    }
   ],
   "source": [
    "df.groupby('status')['funding_rounds', 'funding_total_usd', 'seed', 'venture', 'equity_crowdfunding',\n",
    "       'undisclosed', 'convertible_note', 'debt_financing', 'angel', 'grant',\n",
    "       'private_equity', 'post_ipo_equity', 'post_ipo_debt',\n",
    "       'secondary_market', 'product_crowdfunding', 'round_A', 'round_B',\n",
    "       'round_C', 'round_D', 'round_E', 'round_F', 'round_G', 'round_H'].sum().T #sum of all columns and transposing it. Grouping by company status\n",
    "       #sum of operating companies  are high for all columns as there is more data for acquired comanies. \n",
    "       #There is no money for acquired and close comanies that went till round G and H"
   ]
  },
  {
   "cell_type": "code",
   "execution_count": 30,
   "metadata": {},
   "outputs": [
    {
     "data": {
      "text/plain": [
       "<AxesSubplot:>"
      ]
     },
     "execution_count": 30,
     "metadata": {},
     "output_type": "execute_result"
    },
    {
     "data": {
      "image/png": "[encoded data removed]",
      "text/plain": [
       "<Figure size 432x288 with 1 Axes>"
      ]
     },
     "metadata": {
      "needs_background": "light"
     },
     "output_type": "display_data"
    }
   ],
   "source": [
    "df['founded_year'].hist()#histogram of year variable\n",
    "#most of the comapnies are around 2000"
   ]
  },
  {
   "cell_type": "code",
   "execution_count": 31,
   "metadata": {},
   "outputs": [
    {
     "data": {
      "text/plain": [
       "Timestamp('2014-01-01 00:00:00')"
      ]
     },
     "execution_count": 31,
     "metadata": {},
     "output_type": "execute_result"
    }
   ],
   "source": [
    "df['founded_year'].max() #newest year\n",
    " #2014 is the newest year"
   ]
  },
  {
   "cell_type": "code",
   "execution_count": 32,
   "metadata": {},
   "outputs": [
    {
     "data": {
      "text/plain": [
       "Timestamp('1902-01-01 00:00:00')"
      ]
     },
     "execution_count": 32,
     "metadata": {},
     "output_type": "execute_result"
    }
   ],
   "source": [
    "df['founded_year'].min() # oldest year\n",
    "#1902 is the oldest year"
   ]
  },
  {
   "cell_type": "code",
   "execution_count": 35,
   "metadata": {},
   "outputs": [
    {
     "data": {
      "text/plain": [
       "753"
      ]
     },
     "execution_count": 35,
     "metadata": {},
     "output_type": "execute_result"
    }
   ],
   "source": [
    "df['market'].nunique() # 736 unique number of market"
   ]
  },
  {
   "cell_type": "code",
   "execution_count": 36,
   "metadata": {},
   "outputs": [
    {
     "data": {
      "text/plain": [
       "market\n",
       "Biotechnology       7.337295e+10\n",
       "Mobile              4.947011e+10\n",
       "Software            4.222348e+10\n",
       "Clean Technology    3.761994e+10\n",
       "Health Care         2.946608e+10\n",
       "Name: funding_total_usd, dtype: float64"
      ]
     },
     "execution_count": 36,
     "metadata": {},
     "output_type": "execute_result"
    }
   ],
   "source": [
    "df.groupby('market')['funding_total_usd'].sum().sort_values(ascending = False).head(5)#top 5  markets with the most funding"
   ]
  },
  {
   "cell_type": "code",
   "execution_count": 37,
   "metadata": {},
   "outputs": [
    {
     "data": {
      "text/plain": [
       "market\n",
       "Software         4620\n",
       "Biotechnology    3688\n",
       "Mobile           1983\n",
       "E-Commerce       1805\n",
       "Curated Web      1655\n",
       "Name: name, dtype: int64"
      ]
     },
     "execution_count": 37,
     "metadata": {},
     "output_type": "execute_result"
    }
   ],
   "source": [
    "df.groupby('market')['name'].count().sort_values(ascending = False).head(5) #Top five markets in terms of count"
   ]
  },
  {
   "cell_type": "code",
   "execution_count": 39,
   "metadata": {},
   "outputs": [
    {
     "data": {
      "text/plain": [
       "market\n",
       "Software         4620\n",
       "Biotechnology    3688\n",
       "Mobile           1983\n",
       "E-Commerce       1805\n",
       "Curated Web      1655\n",
       "Name: permalink, dtype: int64"
      ]
     },
     "execution_count": 39,
     "metadata": {},
     "output_type": "execute_result"
    }
   ],
   "source": [
    "df.groupby(df['market'])['permalink'].count().sort_values(ascending = False).head(5) #top 5 markets"
   ]
  },
  {
   "cell_type": "code",
   "execution_count": 40,
   "metadata": {},
   "outputs": [
    {
     "data": {
      "text/plain": [
       "array(['New York City', 'Los Angeles', 'Tallinn', ..., 'Jodhpur',\n",
       "       'Muenchen', 'Buckinghamshire'], dtype=object)"
      ]
     },
     "execution_count": 40,
     "metadata": {},
     "output_type": "execute_result"
    }
   ],
   "source": [
    "df['region'].unique()"
   ]
  },
  {
   "cell_type": "code",
   "execution_count": 41,
   "metadata": {},
   "outputs": [
    {
     "data": {
      "text/plain": [
       "region\n",
       "SF Bay Area         6804\n",
       "New York City       2577\n",
       "Boston              1837\n",
       "London              1588\n",
       "Los Angeles         1389\n",
       "Seattle              932\n",
       "Washington, D.C.     785\n",
       "Chicago              749\n",
       "San Diego            700\n",
       "Denver               636\n",
       "Name: name, dtype: int64"
      ]
     },
     "execution_count": 41,
     "metadata": {},
     "output_type": "execute_result"
    }
   ],
   "source": [
    "df.groupby('region')['name'].count().sort_values(ascending = False).head(10) # top 10 regions. There is a lot from main cities like SF, NYC, Boston, London"
   ]
  },
  {
   "cell_type": "markdown",
   "metadata": {},
   "source": [
    "# Featured Engineering"
   ]
  },
  {
   "cell_type": "markdown",
   "metadata": {},
   "source": [
    "We created a new column that included differences in time between the last and first funding date.\n",
    "\n",
    "A total investment column was also created that included the sum of all the investments (seed, venture, equity crowdfunding, undisclosed, convertible note, debt financing, angel, grant, private equity, post ipo equity, post ipo debt, secondary market, product crowdfunding).\n",
    "\n",
    "The data contained 753 different market values. As there were a lot of different types of markets, we wanted to reduce this number. To reduce the number of markets, we grouped markets into different industry groups segment on the industry grouping list produced by crunchbase The new column Industry Group had 43 industry groups .\n",
    "\n",
    "The data contained 115 countries. The dataset was joined with a different dataset that contained the country name and continent. We made a new column for the continent name.\n",
    "\n",
    "Numerical values like total investment, difference in funding year, funding rounds, seed, venture were turned into categories like low and high based on their spread in number. The categorical values were again turned into numbers for the models to understand.\n",
    "\n",
    "Other columns like equity crowdfunding, undisclosed, convertible note, debt financing, angel, private equity, post ipo equity, secondary market, product crowdfunding, round A -H were turned into 0 and 1 based on if the company was able to raise that type of funding. This was done as the columns had too many zero values."
   ]
  },
  {
   "cell_type": "code",
   "execution_count": 42,
   "metadata": {},
   "outputs": [],
   "source": [
    "df['diff_funding'] = df['last_funding_at'] - df['first_funding_at'] # finding the difference in days between first and last funding dates"
   ]
  },
  {
   "cell_type": "code",
   "execution_count": 43,
   "metadata": {},
   "outputs": [
    {
     "data": {
      "text/plain": [
       "count                          49428\n",
       "mean     312 days 11:05:24.253459748\n",
       "std      624 days 19:13:46.845677584\n",
       "min                  0 days 00:00:00\n",
       "25%                  0 days 00:00:00\n",
       "50%                  0 days 00:00:00\n",
       "75%                382 days 00:00:00\n",
       "max              17287 days 00:00:00\n",
       "Name: diff_funding, dtype: object"
      ]
     },
     "execution_count": 43,
     "metadata": {},
     "output_type": "execute_result"
    }
   ],
   "source": [
    "df['diff_funding'].describe() # mean is 312 days which is about 1 year"
   ]
  },
  {
   "cell_type": "code",
   "execution_count": 44,
   "metadata": {},
   "outputs": [],
   "source": [
    "df['diff_funding_months'] = (df['last_funding_at'] - df['first_funding_at'])/np.timedelta64(1, 'M') # turning the difference into months"
   ]
  },
  {
   "cell_type": "code",
   "execution_count": 45,
   "metadata": {},
   "outputs": [
    {
     "data": {
      "text/plain": [
       "count    49428.000000\n",
       "mean        10.265906\n",
       "std         20.527772\n",
       "min          0.000000\n",
       "25%          0.000000\n",
       "50%          0.000000\n",
       "75%         12.550566\n",
       "max        567.962381\n",
       "Name: diff_funding_months, dtype: float64"
      ]
     },
     "execution_count": 45,
     "metadata": {},
     "output_type": "execute_result"
    }
   ],
   "source": [
    "df['diff_funding_months'].describe()"
   ]
  },
  {
   "cell_type": "code",
   "execution_count": 46,
   "metadata": {},
   "outputs": [
    {
     "data": {
      "text/plain": [
       "count    4.943800e+04\n",
       "mean     1.316667e+07\n",
       "std      1.535540e+08\n",
       "min      0.000000e+00\n",
       "25%      5.000000e+04\n",
       "50%      1.000000e+06\n",
       "75%      6.772162e+06\n",
       "max      3.007950e+10\n",
       "Name: total_investment, dtype: float64"
      ]
     },
     "execution_count": 46,
     "metadata": {},
     "output_type": "execute_result"
    }
   ],
   "source": [
    "df['total_investment'] = df['seed'] + df['venture'] + df['equity_crowdfunding'] + df['undisclosed'] + df['convertible_note'] + df['debt_financing'] + df['angel'] + df['grant'] + df['private_equity'] + df['post_ipo_equity'] + df['post_ipo_debt'] + df['secondary_market'] + df['product_crowdfunding']\n",
    "#creating new column for total investment\n",
    "df['total_investment'].describe() # calculating the total investment for each company"
   ]
  },
  {
   "cell_type": "code",
   "execution_count": 47,
   "metadata": {},
   "outputs": [
    {
     "data": {
      "text/plain": [
       "650933703144.0"
      ]
     },
     "execution_count": 47,
     "metadata": {},
     "output_type": "execute_result"
    }
   ],
   "source": [
    "df['total_investment'].sum()# sum of total investment"
   ]
  },
  {
   "cell_type": "code",
   "execution_count": 48,
   "metadata": {},
   "outputs": [
    {
     "data": {
      "text/plain": [
       "count    4.943800e+04\n",
       "mean     1.316667e+07\n",
       "std      1.535540e+08\n",
       "min      0.000000e+00\n",
       "25%      5.000000e+04\n",
       "50%      1.000000e+06\n",
       "75%      6.772162e+06\n",
       "max      3.007950e+10\n",
       "Name: funding_total_usd, dtype: float64"
      ]
     },
     "execution_count": 48,
     "metadata": {},
     "output_type": "execute_result"
    }
   ],
   "source": [
    "df['funding_total_usd'].describe()"
   ]
  },
  {
   "cell_type": "code",
   "execution_count": 49,
   "metadata": {},
   "outputs": [
    {
     "data": {
      "text/plain": [
       "650933703144.0"
      ]
     },
     "execution_count": 49,
     "metadata": {},
     "output_type": "execute_result"
    }
   ],
   "source": [
    "df['funding_total_usd'].sum() # confirming that funding total and total investment is the same . We can drop one of the columns"
   ]
  },
  {
   "cell_type": "code",
   "execution_count": 50,
   "metadata": {},
   "outputs": [],
   "source": [
    "df['diff_first_funding_months'] = (df['first_funding_at'] - df['founded_at'])/np.timedelta64(1, 'M') \n",
    "# calculating how long it took them to get their first funding after being founded"
   ]
  },
  {
   "cell_type": "code",
   "execution_count": 51,
   "metadata": {},
   "outputs": [
    {
     "data": {
      "text/plain": [
       "count    38547.000000\n",
       "mean        46.535082\n",
       "std        111.273323\n",
       "min       -576.143247\n",
       "25%          4.993942\n",
       "50%         17.938767\n",
       "75%         49.019487\n",
       "max       2752.385059\n",
       "Name: diff_first_funding_months, dtype: float64"
      ]
     },
     "execution_count": 51,
     "metadata": {},
     "output_type": "execute_result"
    }
   ],
   "source": [
    "df['diff_first_funding_months'].describe() \n",
    "#negative values shows that there is a founded date but there is no first funding date. Median is around 17 month and mean is around 46 months. "
   ]
  },
  {
   "cell_type": "code",
   "execution_count": 52,
   "metadata": {},
   "outputs": [],
   "source": [
    "df1 = df.copy()# copying dataframe"
   ]
  },
  {
   "cell_type": "code",
   "execution_count": 53,
   "metadata": {},
   "outputs": [],
   "source": [
    "df1 = df1.drop(columns= ['homepage_url', 'category_list', 'state_code', 'founded_at', 'founded_month', 'founded_quarter', 'founded_year', \n",
    "                    'diff_first_funding_months', 'diff_funding', 'funding_total_usd', 'city', 'region', 'first_funding_at', 'last_funding_at'])\n",
    "#dropping unecessary columns that we dont plan on using"
   ]
  },
  {
   "cell_type": "code",
   "execution_count": 54,
   "metadata": {},
   "outputs": [],
   "source": [
    "df1 = df1.dropna(subset=['permalink', 'status', 'name', 'market', 'country_code', 'diff_funding_months']) \n",
    "# dropping null values from these columns"
   ]
  },
  {
   "cell_type": "code",
   "execution_count": 55,
   "metadata": {},
   "outputs": [
    {
     "data": {
      "text/plain": [
       "permalink               0\n",
       "name                    0\n",
       "market                  0\n",
       "status                  0\n",
       "country_code            0\n",
       "funding_rounds          0\n",
       "seed                    0\n",
       "venture                 0\n",
       "equity_crowdfunding     0\n",
       "undisclosed             0\n",
       "convertible_note        0\n",
       "debt_financing          0\n",
       "angel                   0\n",
       "grant                   0\n",
       "private_equity          0\n",
       "post_ipo_equity         0\n",
       "post_ipo_debt           0\n",
       "secondary_market        0\n",
       "product_crowdfunding    0\n",
       "round_A                 0\n",
       "round_B                 0\n",
       "round_C                 0\n",
       "round_D                 0\n",
       "round_E                 0\n",
       "round_F                 0\n",
       "round_G                 0\n",
       "round_H                 0\n",
       "diff_funding_months     0\n",
       "total_investment        0\n",
       "dtype: int64"
      ]
     },
     "execution_count": 55,
     "metadata": {},
     "output_type": "execute_result"
    }
   ],
   "source": [
    "df1.isnull().sum()# checking if there are any null values left"
   ]
  },
  {
   "cell_type": "code",
   "execution_count": 56,
   "metadata": {},
   "outputs": [
    {
     "data": {
      "text/plain": [
       "(40471, 29)"
      ]
     },
     "execution_count": 56,
     "metadata": {},
     "output_type": "execute_result"
    }
   ],
   "source": [
    "df1.shape"
   ]
  },
  {
   "cell_type": "code",
   "execution_count": 57,
   "metadata": {},
   "outputs": [],
   "source": [
    "df1['diff_funding_year'] = round(df1['diff_funding_months']/12) \n",
    "# making new column that has difference in funding in year"
   ]
  },
  {
   "cell_type": "code",
   "execution_count": 58,
   "metadata": {},
   "outputs": [
    {
     "data": {
      "text/plain": [
       "diff_funding_year\n",
       "0.0     26349\n",
       "1.0      4611\n",
       "2.0      3443\n",
       "3.0      2156\n",
       "4.0      1500\n",
       "5.0       982\n",
       "6.0       566\n",
       "7.0       377\n",
       "8.0       207\n",
       "9.0       133\n",
       "10.0       54\n",
       "11.0       37\n",
       "12.0       22\n",
       "13.0       14\n",
       "15.0        7\n",
       "14.0        4\n",
       "16.0        3\n",
       "17.0        2\n",
       "28.0        1\n",
       "18.0        1\n",
       "23.0        1\n",
       "47.0        1\n",
       "Name: permalink, dtype: int64"
      ]
     },
     "execution_count": 58,
     "metadata": {},
     "output_type": "execute_result"
    }
   ],
   "source": [
    "df1.groupby(df1['diff_funding_year'])['permalink'].count().sort_values(ascending = False).head(50) #number of companies with difference in funding years\n",
    "#There are not that many companies that has more than 13 year difference in funding"
   ]
  },
  {
   "cell_type": "code",
   "execution_count": 59,
   "metadata": {},
   "outputs": [
    {
     "name": "stdout",
     "output_type": "stream",
     "text": [
      "736\n",
      "113\n"
     ]
    }
   ],
   "source": [
    "print(df1['market'].nunique()) # number of unique market values\n",
    "print(df1['country_code'].nunique()) # number of unique country codes"
   ]
  },
  {
   "cell_type": "code",
   "execution_count": 60,
   "metadata": {},
   "outputs": [],
   "source": [
    "# grouping markets in industries to decrease the number of segments. The list was being taken from here https://support.crunchbase.com/hc/en-us/articles/360043146954-What-Industries-are-included-in-Crunchbase-\n",
    "admin_services = str('Employer Benefits Programs, Human Resource Automation, Corporate IT, Distribution, Service Providers, Archiving Service, Call Center, Collection Agency, College Recruiting, Courier Service, Debt Collections, Delivery, Document Preparation, Employee Benefits, Extermination Service, Facilities Support Services, Housekeeping Service, Human Resources, Knowledge Management, Office Administration, Packaging Services, Physical Security, Project Management, Staffing Agency, Trade Shows, Virtual Workforce').split(', ')\n",
    "advertising = str('Creative Industries, Promotional, Advertising Ad Exchange, Ad Network, Ad Retargeting, Ad Server, Ad Targeting, Advertising, Advertising Platforms, Affiliate Marketing, Local Advertising, Mobile Advertising, Outdoor Advertising, SEM, Social Media Advertising, Video Advertising').split(', ')\n",
    "agriculture = str('Agriculture, AgTech, Animal Feed, Aquaculture, Equestrian, Farming, Forestry, Horticulture, Hydroponics, Livestock').split(', ')\n",
    "app = str('Application Performance Monitoring, App Stores, Application Platforms, Enterprise Application, App Discovery, Apps, Consumer Applications, Enterprise Applications, Mobile Apps, Reading Apps, Web Apps').split(', ')\n",
    "artificial_intelli = str('Artificial Intelligence, Intelligent Systems, Machine Learning, Natural Language Processing, Predictive Analytics').split(', ')\n",
    "biotechnology = str('Synthetic Biology, Bio-Pharm, Bioinformatics, Biometrics, Biopharma, Biotechnology, Genetics, Life Science, Neuroscience, Quantified Self').split(', ')\n",
    "clothing = str('Fashion, Laundry and Dry-cleaning, Lingerie, Shoes').split(', ')\n",
    "shopping = str('Consumer Behavior, Customer Support Tools, Discounts, Reviews and Recommendations, Auctions, Classifieds, Collectibles, Consumer Reviews, Coupons, E-Commerce, E-Commerce Platforms, Flash Sale, Gift, Gift Card, Gift Exchange, Gift Registry, Group Buying, Local Shopping, Made to Order, Marketplace, Online Auctions, Personalization, Point of Sale, Price Comparison, Rental, Retail, Retail Technology, Shopping, Shopping Mall, Social Shopping, Sporting Goods, Vending and Concessions, Virtual Goods, Wholesale').split(', ')\n",
    "community = str(\"Self Development, Sex, Forums, Match-Making, Babies, Identity, Women, Kids, Entrepreneur, Networking, Adult, Baby, Cannabis, Children, Communities, Dating, Elderly, Family, Funerals, Humanitarian, Leisure, LGBT, Lifestyle, Men's, Online Forums, Parenting, Pet, Private Social Networking, Professional Networking, Q&A, Religion, Retirement, Sex Industry, Sex Tech, Social, Social Entrepreneurship, Teenagers, Virtual World, Wedding, Women's, Young Adults\").split(', ')\n",
    "electronics  = str('Mac, iPod Touch, Tablets, iPad, iPhone, Computer, Consumer Electronics, Drones, Electronics, Google Glass, Mobile Devices, Nintendo, Playstation, Roku, Smart Home, Wearables, Windows Phone, Xbox').split(', ')\n",
    "consumer_goods= str('Commodities, Sunglasses, Groceries, Batteries, Cars, Beauty, Comics, Consumer Goods, Cosmetics, DIY, Drones, Eyewear, Fast-Moving Consumer Goods, Flowers, Furniture, Green Consumer Goods, Handmade, Jewelry, Lingerie, Shoes, Tobacco, Toys').split(', ')\n",
    "content = str('E-Books, MicroBlogging, Opinions, Blogging Platforms, Content Delivery Network, Content Discovery, Content Syndication, Creative Agency, DRM, EBooks, Journalism, News, Photo Editing, Photo Sharing, Photography, Printing, Publishing, Social Bookmarking, Video Editing, Video Streaming').split(', ')\n",
    "data = str('Optimization, A/B Testing, Analytics, Application Performance Management, Artificial Intelligence, Big Data, Bioinformatics, Biometrics, Business Intelligence, Consumer Research, Data Integration, Data Mining, Data Visualization, Database, Facial Recognition, Geospatial, Image Recognition, Intelligent Systems, Location Based Services, Machine Learning, Market Research, Natural Language Processing, Predictive Analytics, Product Research, Quantified Self, Speech Recognition, Test and Measurement, Text Analytics, Usability Testing').split(', ')\n",
    "design = str('Visualization, Graphics, Design, Designers, CAD, Consumer Research, Data Visualization, Fashion, Graphic Design, Human Computer Interaction, Industrial Design, Interior Design, Market Research, Mechanical Design, Product Design, Product Research, Usability Testing, UX Design, Web Design').split(', ')\n",
    "education = str('Universities, College Campuses, University Students, High Schools, All Students, Colleges, Alumni, Charter Schools, College Recruiting, Continuing Education, Corporate Training, E-Learning, EdTech, Education, Edutainment, Higher Education, Language Learning, MOOC, Music Education, Personal Development, Primary Education, Secondary Education, Skill Assessment, STEM Education, Textbook, Training, Tutoring, Vocational Education').split(', ')\n",
    "energy = str('Gas, Natural Gas Uses, Oil, Oil & Gas, Battery, Biofuel, Biomass Energy, Clean Energy, Electrical Distribution, Energy, Energy Efficiency, Energy Management, Energy Storage, Fossil Fuels, Fuel, Fuel Cell, Oil and Gas, Power Grid, Renewable Energy, Solar, Wind Energy').split(', ')\n",
    "events = str('Concerts, Event Management, Event Promotion, Events, Nightclubs, Nightlife, Reservations, Ticketing, Wedding').split(', ')\n",
    "financial = str('Debt Collecting, P2P Money Transfer, Investment Management, Trading, Accounting, Angel Investment, Asset Management, Auto Insurance, Banking, Bitcoin, Commercial Insurance, Commercial Lending, Consumer Lending, Credit, Credit Bureau, Credit Cards, Crowdfunding, Cryptocurrency, Debit Cards, Debt Collections, Finance, Financial Exchanges, Financial Services, FinTech, Fraud Detection, Funding Platform, Gift Card, Health Insurance, Hedge Funds, Impact Investing, Incubators, Insurance, InsurTech, Leasing, Lending, Life Insurance, Micro Lending, Mobile Payments, Payments, Personal Finance, Prediction Markets, Property Insurance, Real Estate Investment, Stock Exchanges, Trading Platform, Transaction Processing, Venture Capital, Virtual Currency, Wealth Management').split(', ')\n",
    "food = str('Specialty Foods, Bakery, Brewing, Cannabis, Catering, Coffee, Confectionery, Cooking, Craft Beer, Dietary Supplements, Distillery, Farmers Market, Food and Beverage, Food Delivery, Food Processing, Food Trucks, Fruit, Grocery, Nutrition, Organic Food, Recipes, Restaurants, Seafood, Snack Food, Tea, Tobacco, Wine And Spirits, Winery').split(', ')\n",
    "gaming = str('Game, Games, Casual Games, Console Games, Contests, Fantasy Sports, Gambling, Gamification, Gaming, MMO Games, Online Games, PC Games, Serious Games, Video Games').split(', ')\n",
    "government = str('Polling, Governance, CivicTech, Government, GovTech, Law Enforcement, Military, National Security, Politics, Public Safety, Social Assistance').split(', ')\n",
    "hardware= str('Cable, 3D, 3D Technology, Application Specific Integrated Circuit (ASIC), Augmented Reality, Cloud Infrastructure, Communication Hardware, Communications Infrastructure, Computer, Computer Vision, Consumer Electronics, Data Center, Data Center Automation, Data Storage, Drone Management, Drones, DSP, Electronic Design Automation (EDA), Electronics, Embedded Systems, Field-Programmable Gate Array (FPGA), Flash Storage, Google Glass, GPS, GPU, Hardware, Industrial Design, Laser, Lighting, Mechanical Design, Mobile Devices, Network Hardware, NFC, Nintendo, Optical Communication, Playstation, Private Cloud, Retail Technology, RFID, RISC, Robotics, Roku, Satellite Communication, Semiconductor, Sensor, Sex Tech, Telecommunications, Video Conferencing, Virtual Reality, Virtualization, Wearables, Windows Phone, Wireless, Xbox').split(', ')\n",
    "health_care = str('Senior Health, Physicians, Electronic Health Records, Doctors, Healthcare Services, Diagnostics, Alternative Medicine, Assisted Living, Assistive Technology, Biopharma, Cannabis, Child Care, Clinical Trials, Cosmetic Surgery, Dental, Diabetes, Dietary Supplements, Elder Care, Electronic Health Record (EHR), Emergency Medicine, Employee Benefits, Fertility, First Aid, Funerals, Genetics, Health Care, Health Diagnostics, Home Health Care, Hospital, Medical, Medical Device, mHealth, Nursing and Residential Care, Nutraceutical, Nutrition, Outpatient Care, Personal Health, Pharmaceutical, Psychology, Rehabilitation, Therapeutics, Veterinary, Wellness').split(', ')\n",
    "it = str('Distributors, Algorithms, ICT, M2M, Technology, Business Information Systems, CivicTech, Cloud Data Services, Cloud Management, Cloud Security, CMS, Contact Management, CRM, Cyber Security, Data Center, Data Center Automation, Data Integration, Data Mining, Data Visualization, Document Management, E-Signature, Email, GovTech, Identity Management, Information and Communications Technology (ICT), Information Services, Information Technology, Intrusion Detection, IT Infrastructure, IT Management, Management Information Systems, Messaging, Military, Network Security, Penetration Testing, Private Cloud, Reputation, Sales Automation, Scheduling, Social CRM, Spam Filtering, Technical Support, Unified Communications, Video Chat, Video Conferencing, Virtualization, VoIP').split(', ')\n",
    "internet = str('Online Identity, Cyber, Portals, Web Presence Management, Domains, Tracking, Web Tools, Curated Web, Search, Cloud Computing, Cloud Data Services, Cloud Infrastructure, Cloud Management, Cloud Storage, Darknet, Domain Registrar, E-Commerce Platforms, Ediscovery, Email, Internet, Internet of Things, ISP, Location Based Services, Messaging, Music Streaming, Online Forums, Online Portals, Private Cloud, Product Search, Search Engine, SEM, Semantic Search, Semantic Web, SEO, SMS, Social Media, Social Media Management, Social Network, Unified Communications, Vertical Search, Video Chat, Video Conferencing, Visual Search, VoIP, Web Browsers, Web Hosting').split(', ')\n",
    "invest = str('Angel Investment, Banking, Commercial Lending, Consumer Lending, Credit, Credit Cards, Financial Exchanges, Funding Platform, Hedge Funds, Impact Investing, Incubators, Micro Lending, Stock Exchanges, Trading Platform, Venture Capital').split(', ')\n",
    "manufacturing = str('Innovation Engineering, Civil Engineers, Heavy Industry, Engineering Firms, Systems, 3D Printing, Advanced Materials, Foundries, Industrial, Industrial Automation, Industrial Engineering, Industrial Manufacturing, Machinery Manufacturing, Manufacturing, Paper Manufacturing, Plastics and Rubber Manufacturing, Textiles, Wood Processing').split(', ')\n",
    "media = str('Writers, Creative, Television, Entertainment, Media, Advice, Animation, Art, Audio, Audiobooks, Blogging Platforms, Broadcasting, Celebrity, Concerts, Content, Content Creators, Content Discovery, Content Syndication, Creative Agency, Digital Entertainment, Digital Media, DRM, EBooks, Edutainment, Event Management, Event Promotion, Events, Film, Film Distribution, Film Production, Guides, In-Flight Entertainment, Independent Music, Internet Radio, Journalism, Media and Entertainment, Motion Capture, Music, Music Education, Music Label, Music Streaming, Music Venues, Musical Instruments, News, Nightclubs, Nightlife, Performing Arts, Photo Editing, Photo Sharing, Photography, Podcast, Printing, Publishing, Reservations, Social Media, Social News, Theatre, Ticketing, TV, TV Production, Video, Video Editing, Video on Demand, Video Streaming, Virtual World').split(', ')\n",
    "message = str('Unifed Communications, Chat, Email, Meeting Software, Messaging, SMS, Unified Communications, Video Chat, Video Conferencing, VoIP, Wired Telecommunications').split(', ')\n",
    "mobile = str('Android, Google Glass, iOS, mHealth, Mobile, Mobile Apps, Mobile Devices, Mobile Payments, Windows Phone, Wireless').split(', ')\n",
    "music = str('Audio, Audiobooks, Independent Music, Internet Radio, Music, Music Education, Music Label, Music Streaming, Musical Instruments, Podcast').split(', ')\n",
    "resource = str('Biofuel, Biomass Energy, Fossil Fuels, Mineral, Mining, Mining Technology, Natural Resources, Oil and Gas, Precious Metals, Solar, Timber, Water, Wind Energy').split(', ')\n",
    "navigation = str('Maps, Geospatial, GPS, Indoor Positioning, Location Based Services, Mapping Services, Navigation').split(', ')\n",
    "other = str('Mass Customization, Monetization, Testing, Subscription Businesses, Mobility, Incentives, Peer-to-Peer, Nonprofits, Alumni, Association, B2B, B2C, Blockchain, Charity, Collaboration, Collaborative Consumption, Commercial, Consumer, Crowdsourcing, Customer Service, Desktop Apps, Emerging Markets, Enterprise, Ethereum, Franchise, Freemium, Generation Y, Generation Z, Homeless Shelter, Infrastructure, Knowledge Management, LGBT Millennials, Non Profit, Peer to Peer, Professional Services, Project Management, Real Time, Retirement, Service Industry, Sharing Economy, Small and Medium Businesses, Social Bookmarking, Social Impact, Subscription Service, Technical Support, Underserved Children, Universities').split(', ')\n",
    "payment = str('Billing, Bitcoin, Credit Cards, Cryptocurrency, Debit Cards, Fraud Detection, Mobile Payments, Payments, Transaction Processing, Virtual Currency').split(', ')\n",
    "platforms = str('Development Platforms, Android, Facebook, Google, Google Glass, iOS, Linux, macOS, Nintendo, Operating Systems, Playstation, Roku, Tizen, Twitter, WebOS, Windows, Windows Phone, Xbox').split(', ')\n",
    "privacy = str('Digital Rights Management, Personal Data, Cloud Security, Corrections Facilities, Cyber Security, DRM, E-Signature, Fraud Detection, Homeland Security, Identity Management, Intrusion Detection, Law Enforcement, Network Security, Penetration Testing, Physical Security, Privacy, Security').split(', ')\n",
    "services = str('Funeral Industry, English-Speaking, Spas, Plumbers, Service Industries, Staffing Firms, Translation, Career Management, Business Services, Services, Accounting, Business Development, Career Planning, Compliance, Consulting, Customer Service, Employment, Environmental Consulting, Field Support, Freelance, Intellectual Property, Innovation Management, Legal, Legal Tech, Management Consulting, Outsourcing, Professional Networking, Quality Assurance, Recruiting, Risk Management, Social Recruiting, Translation Service').split(', ')\n",
    "realestate= str('Office Space, Self Storage, Brokers, Storage, Home Owners, Self Storage , Realtors, Home & Garden, Utilities, Home Automation, Architecture, Building Maintenance, Building Material, Commercial Real Estate, Construction, Coworking, Facility Management, Fast-Moving Consumer Goods, Green Building, Home and Garden, Home Decor, Home Improvement, Home Renovation, Home Services, Interior Design, Janitorial Service, Landscaping, Property Development, Property Management, Real Estate, Real Estate Investment, Rental Property, Residential, Self-Storage, Smart Building, Smart Cities, Smart Home, Timeshare, Vacation Rental').split(', ')\n",
    "sales = str('Advertising, Affiliate Marketing, App Discovery, App Marketing, Brand Marketing, Cause Marketing, Content Marketing, CRM, Digital Marketing, Digital Signage, Direct Marketing, Direct Sales, Email Marketing, Lead Generation, Lead Management, Local, Local Advertising, Local Business, Loyalty Programs, Marketing, Marketing Automation, Mobile Advertising, Multi-level Marketing, Outdoor Advertising, Personal Branding, Public Relations, Sales, Sales Automation, SEM, SEO, Social CRM, Social Media Advertising, Social Media Management, Social Media Marketing, Sponsorship, Video Advertising').split(', ')\n",
    "science = str('Face Recognition, New Technologies, Advanced Materials, Aerospace, Artificial Intelligence, Bioinformatics, Biometrics, Biopharma, Biotechnology, Chemical, Chemical Engineering, Civil Engineering, Embedded Systems, Environmental Engineering, Human Computer Interaction, Industrial Automation, Industrial Engineering, Intelligent Systems, Laser, Life Science, Marine Technology, Mechanical Engineering, Nanotechnology, Neuroscience, Nuclear, Quantum Computing, Robotics, Semiconductor, Software Engineering, STEM Education').split(', ')\n",
    "software = str('Business Productivity, 3D Technology, Android, App Discovery, Application Performance Management, Apps, Artificial Intelligence, Augmented Reality, Billing, Bitcoin, Browser Extensions, CAD, Cloud Computing, Cloud Management, CMS, Computer Vision, Consumer Applications, Consumer Software, Contact Management, CRM, Cryptocurrency, Data Center Automation, Data Integration, Data Storage, Data Visualization, Database, Developer APIs, Developer Platform, Developer Tools, Document Management, Drone Management, E-Learning, EdTech, Electronic Design Automation (EDA), Embedded Software, Embedded Systems, Enterprise Applications, Enterprise Resource Planning (ERP), Enterprise Software, Facial Recognition, File Sharing, IaaS, Image Recognition, iOS, Linux, Machine Learning, macOS, Marketing Automation, Meeting Software, Mobile Apps, Mobile Payments, MOOC, Natural Language Processing, Open Source, Operating Systems, PaaS, Predictive Analytics, Presentation Software, Presentations, Private Cloud, Productivity Tools, QR Codes, Reading Apps, Retail Technology, Robotics, SaaS, Sales Automation, Scheduling, Sex Tech, Simulation, SNS, Social CRM, Software, Software Engineering, Speech Recognition, Task Management, Text Analytics, Transaction Processing, Video Conferencing, Virtual Assistant, Virtual Currency, Virtual Desktop, Virtual Goods, Virtual Reality, Virtual World, Virtualization, Web Apps, Web Browsers, Web Development').split(', ')\n",
    "sports = str('American Football, Baseball, Basketball, Boating, Cricket, Cycling, Diving, eSports, Fantasy Sports, Fitness, Golf, Hockey, Hunting, Outdoors, Racing, Recreation, Rugby, Sailing, Skiing, Soccer, Sporting Goods, Sports, Surfing, Swimming, Table Tennis, Tennis, Ultimate Frisbee, Volley Ball').split(', ')\n",
    "sustainability = str('Green, Wind, Biomass Power Generation, Renewable Tech, Environmental Innovation, Renewable Energies, Clean Technology, Biofuel, Biomass Energy, Clean Energy, CleanTech, Energy Efficiency, Environmental Engineering, Green Building, Green Consumer Goods, GreenTech, Natural Resources, Organic, Pollution Control, Recycling, Renewable Energy, Solar, Sustainability, Waste Management, Water Purification, Wind Energy').split(', ')\n",
    "transportation = str('Taxis, Air Transportation, Automotive, Autonomous Vehicles, Car Sharing, Courier Service, Delivery Service, Electric Vehicle, Ferry Service, Fleet Management, Food Delivery, Freight Service, Last Mile Transportation, Limousine Service, Logistics, Marine Transportation, Parking, Ports and Harbors, Procurement, Public Transportation, Railroad, Recreational Vehicles, Ride Sharing, Same Day Delivery, Shipping, Shipping Broker, Space Travel, Supply Chain Management, Taxi Service, Transportation, Warehousing, Water Transportation').split(', ')\n",
    "travel = str('Adventure Travel, Amusement Park and Arcade, Business Travel, Casino, Hospitality, Hotel, Museums and Historical Sites, Parks, Resorts, Timeshare, Tour Operator, Tourism, Travel, Travel Accommodations, Travel Agency, Vacation Rental').split(', ')\n",
    "video = str('Animation, Broadcasting, Film, Film Distribution, Film Production, Motion Capture, TV, TV Production, Video, Video Editing, Video on Demand, Video Streaming').split(', ')"
   ]
  },
  {
   "cell_type": "code",
   "execution_count": 61,
   "metadata": {},
   "outputs": [
    {
     "name": "stderr",
     "output_type": "stream",
     "text": [
      "<ipython-input-61-313441d5ea73>:2: FutureWarning: The pandas.np module is deprecated and will be removed from pandas in a future version. Import numpy directly instead\n",
      "  df1['Industry_Group'] = pd.np.where(df1.market.str.contains('|'.join(admin_services), flags=re.IGNORECASE), \"Administrative Services\",\n",
      "<ipython-input-61-313441d5ea73>:3: FutureWarning: The pandas.np module is deprecated and will be removed from pandas in a future version. Import numpy directly instead\n",
      "  pd.np.where(df1.market.str.contains('|'.join(software), flags=re.IGNORECASE), \"Software\",\n",
      "C:\\Users\\prith\\Anaconda3\\lib\\site-packages\\pandas\\core\\strings.py:2001: UserWarning: This pattern has match groups. To actually get the groups, use str.extract.\n",
      "  return func(self, *args, **kwargs)\n",
      "<ipython-input-61-313441d5ea73>:4: FutureWarning: The pandas.np module is deprecated and will be removed from pandas in a future version. Import numpy directly instead\n",
      "  pd.np.where(df1.market.str.contains('|'.join(advertising), flags=re.IGNORECASE), \"Advertising\",\n",
      "<ipython-input-61-313441d5ea73>:5: FutureWarning: The pandas.np module is deprecated and will be removed from pandas in a future version. Import numpy directly instead\n",
      "  pd.np.where(df1.market.str.contains('|'.join(agriculture), flags=re.IGNORECASE), \"Agriculture and Farming\",\n",
      "<ipython-input-61-313441d5ea73>:6: FutureWarning: The pandas.np module is deprecated and will be removed from pandas in a future version. Import numpy directly instead\n",
      "  pd.np.where(df1.market.str.contains('|'.join(app), flags=re.IGNORECASE), \"Apps\",\n",
      "<ipython-input-61-313441d5ea73>:7: FutureWarning: The pandas.np module is deprecated and will be removed from pandas in a future version. Import numpy directly instead\n",
      "  pd.np.where(df1.market.str.contains('|'.join(artificial_intelli), flags=re.IGNORECASE), \"Artificial Intelligence\",\n",
      "<ipython-input-61-313441d5ea73>:8: FutureWarning: The pandas.np module is deprecated and will be removed from pandas in a future version. Import numpy directly instead\n",
      "  pd.np.where(df1.market.str.contains('|'.join(biotechnology), flags=re.IGNORECASE), \"Biotechnology\",\n",
      "<ipython-input-61-313441d5ea73>:9: FutureWarning: The pandas.np module is deprecated and will be removed from pandas in a future version. Import numpy directly instead\n",
      "  pd.np.where(df1.market.str.contains('|'.join(clothing), flags=re.IGNORECASE), \"Clothing and Apparel\",\n",
      "<ipython-input-61-313441d5ea73>:10: FutureWarning: The pandas.np module is deprecated and will be removed from pandas in a future version. Import numpy directly instead\n",
      "  pd.np.where(df1.market.str.contains('|'.join(shopping), flags=re.IGNORECASE), \"Commerce and Shopping\",\n",
      "<ipython-input-61-313441d5ea73>:11: FutureWarning: The pandas.np module is deprecated and will be removed from pandas in a future version. Import numpy directly instead\n",
      "  pd.np.where(df1.market.str.contains('|'.join(community), flags=re.IGNORECASE), \"Community and Lifestyle\",\n",
      "<ipython-input-61-313441d5ea73>:12: FutureWarning: The pandas.np module is deprecated and will be removed from pandas in a future version. Import numpy directly instead\n",
      "  pd.np.where(df1.market.str.contains('|'.join(electronics), flags=re.IGNORECASE), \"Consumer Electronics\",\n",
      "<ipython-input-61-313441d5ea73>:13: FutureWarning: The pandas.np module is deprecated and will be removed from pandas in a future version. Import numpy directly instead\n",
      "  pd.np.where(df1.market.str.contains('|'.join(consumer_goods), flags=re.IGNORECASE), \"Consumer Goods\",\n",
      "<ipython-input-61-313441d5ea73>:14: FutureWarning: The pandas.np module is deprecated and will be removed from pandas in a future version. Import numpy directly instead\n",
      "  pd.np.where(df1.market.str.contains('|'.join(content), flags=re.IGNORECASE), \"Content and Publishing\",\n",
      "<ipython-input-61-313441d5ea73>:15: FutureWarning: The pandas.np module is deprecated and will be removed from pandas in a future version. Import numpy directly instead\n",
      "  pd.np.where(df1.market.str.contains('|'.join(data), flags=re.IGNORECASE), \"Data and Analytics\",\n",
      "<ipython-input-61-313441d5ea73>:16: FutureWarning: The pandas.np module is deprecated and will be removed from pandas in a future version. Import numpy directly instead\n",
      "  pd.np.where(df1.market.str.contains('|'.join(design), flags=re.IGNORECASE), \"Design\",\n",
      "<ipython-input-61-313441d5ea73>:17: FutureWarning: The pandas.np module is deprecated and will be removed from pandas in a future version. Import numpy directly instead\n",
      "  pd.np.where(df1.market.str.contains('|'.join(education), flags=re.IGNORECASE), \"Education\",\n",
      "<ipython-input-61-313441d5ea73>:18: FutureWarning: The pandas.np module is deprecated and will be removed from pandas in a future version. Import numpy directly instead\n",
      "  pd.np.where(df1.market.str.contains('|'.join(energy), flags=re.IGNORECASE), \"Energy\",\n",
      "<ipython-input-61-313441d5ea73>:19: FutureWarning: The pandas.np module is deprecated and will be removed from pandas in a future version. Import numpy directly instead\n",
      "  pd.np.where(df1.market.str.contains('|'.join(events), flags=re.IGNORECASE), \"Events\",\n",
      "<ipython-input-61-313441d5ea73>:20: FutureWarning: The pandas.np module is deprecated and will be removed from pandas in a future version. Import numpy directly instead\n",
      "  pd.np.where(df1.market.str.contains('|'.join(financial), flags=re.IGNORECASE), \"Financial Services\",\n",
      "<ipython-input-61-313441d5ea73>:21: FutureWarning: The pandas.np module is deprecated and will be removed from pandas in a future version. Import numpy directly instead\n",
      "  pd.np.where(df1.market.str.contains('|'.join(food), flags=re.IGNORECASE), \"Food and Beverage\",\n",
      "<ipython-input-61-313441d5ea73>:22: FutureWarning: The pandas.np module is deprecated and will be removed from pandas in a future version. Import numpy directly instead\n",
      "  pd.np.where(df1.market.str.contains('|'.join(gaming), flags=re.IGNORECASE), \"Gaming\",\n",
      "<ipython-input-61-313441d5ea73>:23: FutureWarning: The pandas.np module is deprecated and will be removed from pandas in a future version. Import numpy directly instead\n",
      "  pd.np.where(df1.market.str.contains('|'.join(government), flags=re.IGNORECASE), \"Government and Military\",\n",
      "<ipython-input-61-313441d5ea73>:24: FutureWarning: The pandas.np module is deprecated and will be removed from pandas in a future version. Import numpy directly instead\n",
      "  pd.np.where(df1.market.str.contains('|'.join(hardware), flags=re.IGNORECASE), \"Hardware\",\n",
      "<ipython-input-61-313441d5ea73>:25: FutureWarning: The pandas.np module is deprecated and will be removed from pandas in a future version. Import numpy directly instead\n",
      "  pd.np.where(df1.market.str.contains('|'.join(health_care), flags=re.IGNORECASE), \"Health Care\",\n",
      "<ipython-input-61-313441d5ea73>:26: FutureWarning: The pandas.np module is deprecated and will be removed from pandas in a future version. Import numpy directly instead\n",
      "  pd.np.where(df1.market.str.contains('|'.join(it), flags=re.IGNORECASE), \"Information Technology\",\n",
      "<ipython-input-61-313441d5ea73>:27: FutureWarning: The pandas.np module is deprecated and will be removed from pandas in a future version. Import numpy directly instead\n",
      "  pd.np.where(df1.market.str.contains('|'.join(internet), flags=re.IGNORECASE), \"Internet Services\",\n",
      "<ipython-input-61-313441d5ea73>:28: FutureWarning: The pandas.np module is deprecated and will be removed from pandas in a future version. Import numpy directly instead\n",
      "  pd.np.where(df1.market.str.contains('|'.join(invest), flags=re.IGNORECASE), \"Lending and Investments\",\n",
      "<ipython-input-61-313441d5ea73>:29: FutureWarning: The pandas.np module is deprecated and will be removed from pandas in a future version. Import numpy directly instead\n",
      "  pd.np.where(df1.market.str.contains('|'.join(manufacturing), flags=re.IGNORECASE), \"Manufacturing\",\n",
      "<ipython-input-61-313441d5ea73>:30: FutureWarning: The pandas.np module is deprecated and will be removed from pandas in a future version. Import numpy directly instead\n",
      "  pd.np.where(df1.market.str.contains('|'.join(media), flags=re.IGNORECASE), \"Media and Entertainment\",\n",
      "<ipython-input-61-313441d5ea73>:31: FutureWarning: The pandas.np module is deprecated and will be removed from pandas in a future version. Import numpy directly instead\n",
      "  pd.np.where(df1.market.str.contains('|'.join(message), flags=re.IGNORECASE), \"Messaging and Telecommunication\",\n",
      "<ipython-input-61-313441d5ea73>:32: FutureWarning: The pandas.np module is deprecated and will be removed from pandas in a future version. Import numpy directly instead\n",
      "  pd.np.where(df1.market.str.contains('|'.join(mobile), flags=re.IGNORECASE), \"Mobile\",\n",
      "<ipython-input-61-313441d5ea73>:33: FutureWarning: The pandas.np module is deprecated and will be removed from pandas in a future version. Import numpy directly instead\n",
      "  pd.np.where(df1.market.str.contains('|'.join(music), flags=re.IGNORECASE), \"Music and Audio\",\n",
      "<ipython-input-61-313441d5ea73>:34: FutureWarning: The pandas.np module is deprecated and will be removed from pandas in a future version. Import numpy directly instead\n",
      "  pd.np.where(df1.market.str.contains('|'.join(resource), flags=re.IGNORECASE), \"Natural Resources\",\n"
     ]
    },
    {
     "name": "stderr",
     "output_type": "stream",
     "text": [
      "<ipython-input-61-313441d5ea73>:35: FutureWarning: The pandas.np module is deprecated and will be removed from pandas in a future version. Import numpy directly instead\n",
      "  pd.np.where(df1.market.str.contains('|'.join(navigation), flags=re.IGNORECASE), \"Navigation and Mapping\",\n",
      "<ipython-input-61-313441d5ea73>:36: FutureWarning: The pandas.np module is deprecated and will be removed from pandas in a future version. Import numpy directly instead\n",
      "  pd.np.where(df1.market.str.contains('|'.join(payment), flags=re.IGNORECASE), \"Payments\",\n",
      "<ipython-input-61-313441d5ea73>:37: FutureWarning: The pandas.np module is deprecated and will be removed from pandas in a future version. Import numpy directly instead\n",
      "  pd.np.where(df1.market.str.contains('|'.join(platforms), flags=re.IGNORECASE), \"Platforms\",\n",
      "<ipython-input-61-313441d5ea73>:38: FutureWarning: The pandas.np module is deprecated and will be removed from pandas in a future version. Import numpy directly instead\n",
      "  pd.np.where(df1.market.str.contains('|'.join(privacy), flags=re.IGNORECASE), \"Privacy and Security\",\n",
      "<ipython-input-61-313441d5ea73>:39: FutureWarning: The pandas.np module is deprecated and will be removed from pandas in a future version. Import numpy directly instead\n",
      "  pd.np.where(df1.market.str.contains('|'.join(services), flags=re.IGNORECASE), \"Professional Services\",\n",
      "<ipython-input-61-313441d5ea73>:40: FutureWarning: The pandas.np module is deprecated and will be removed from pandas in a future version. Import numpy directly instead\n",
      "  pd.np.where(df1.market.str.contains('|'.join(realestate), flags=re.IGNORECASE), \"Real Estate\",\n",
      "<ipython-input-61-313441d5ea73>:41: FutureWarning: The pandas.np module is deprecated and will be removed from pandas in a future version. Import numpy directly instead\n",
      "  pd.np.where(df1.market.str.contains('|'.join(sales), flags=re.IGNORECASE), \"Sales and Marketing\",\n",
      "<ipython-input-61-313441d5ea73>:42: FutureWarning: The pandas.np module is deprecated and will be removed from pandas in a future version. Import numpy directly instead\n",
      "  pd.np.where(df1.market.str.contains('|'.join(science), flags=re.IGNORECASE), \"Science and Engineering\",\n",
      "<ipython-input-61-313441d5ea73>:43: FutureWarning: The pandas.np module is deprecated and will be removed from pandas in a future version. Import numpy directly instead\n",
      "  pd.np.where(df1.market.str.contains('|'.join(sports), flags=re.IGNORECASE), \"Sports\",\n",
      "<ipython-input-61-313441d5ea73>:44: FutureWarning: The pandas.np module is deprecated and will be removed from pandas in a future version. Import numpy directly instead\n",
      "  pd.np.where(df1.market.str.contains('|'.join(sustainability), flags=re.IGNORECASE), \"Sustainability\",\n",
      "<ipython-input-61-313441d5ea73>:45: FutureWarning: The pandas.np module is deprecated and will be removed from pandas in a future version. Import numpy directly instead\n",
      "  pd.np.where(df1.market.str.contains('|'.join(transportation), flags=re.IGNORECASE), \"Transportation\",\n",
      "<ipython-input-61-313441d5ea73>:46: FutureWarning: The pandas.np module is deprecated and will be removed from pandas in a future version. Import numpy directly instead\n",
      "  pd.np.where(df1.market.str.contains('|'.join(travel), flags=re.IGNORECASE), \"Travel and Tourism\",\n",
      "<ipython-input-61-313441d5ea73>:47: FutureWarning: The pandas.np module is deprecated and will be removed from pandas in a future version. Import numpy directly instead\n",
      "  pd.np.where(df1.market.str.contains('|'.join(video), flags=re.IGNORECASE), \"Video\",\n",
      "<ipython-input-61-313441d5ea73>:48: FutureWarning: The pandas.np module is deprecated and will be removed from pandas in a future version. Import numpy directly instead\n",
      "  pd.np.where(df1.market.str.contains('|'.join(other), flags=re.IGNORECASE), \"Other\",  \"Other\")))))))))))))))))))))))))))))))))))))))))))))))\n"
     ]
    }
   ],
   "source": [
    "#Making new column called  Industry group\n",
    "df1['Industry_Group'] = pd.np.where(df1.market.str.contains('|'.join(admin_services), flags=re.IGNORECASE), \"Administrative Services\",\n",
    "                               pd.np.where(df1.market.str.contains('|'.join(software), flags=re.IGNORECASE), \"Software\", \n",
    "                               pd.np.where(df1.market.str.contains('|'.join(advertising), flags=re.IGNORECASE), \"Advertising\",\n",
    "                               pd.np.where(df1.market.str.contains('|'.join(agriculture), flags=re.IGNORECASE), \"Agriculture and Farming\",\n",
    "                               pd.np.where(df1.market.str.contains('|'.join(app), flags=re.IGNORECASE), \"Apps\", \n",
    "                               pd.np.where(df1.market.str.contains('|'.join(artificial_intelli), flags=re.IGNORECASE), \"Artificial Intelligence\", \n",
    "                               pd.np.where(df1.market.str.contains('|'.join(biotechnology), flags=re.IGNORECASE), \"Biotechnology\", \n",
    "                               pd.np.where(df1.market.str.contains('|'.join(clothing), flags=re.IGNORECASE), \"Clothing and Apparel\", \n",
    "                               pd.np.where(df1.market.str.contains('|'.join(shopping), flags=re.IGNORECASE), \"Commerce and Shopping\", \n",
    "                               pd.np.where(df1.market.str.contains('|'.join(community), flags=re.IGNORECASE), \"Community and Lifestyle\", \n",
    "                               pd.np.where(df1.market.str.contains('|'.join(electronics), flags=re.IGNORECASE), \"Consumer Electronics\", \n",
    "                               pd.np.where(df1.market.str.contains('|'.join(consumer_goods), flags=re.IGNORECASE), \"Consumer Goods\", \n",
    "                               pd.np.where(df1.market.str.contains('|'.join(content), flags=re.IGNORECASE), \"Content and Publishing\", \n",
    "                               pd.np.where(df1.market.str.contains('|'.join(data), flags=re.IGNORECASE), \"Data and Analytics\",\n",
    "                               pd.np.where(df1.market.str.contains('|'.join(design), flags=re.IGNORECASE), \"Design\", \n",
    "                               pd.np.where(df1.market.str.contains('|'.join(education), flags=re.IGNORECASE), \"Education\", \n",
    "                               pd.np.where(df1.market.str.contains('|'.join(energy), flags=re.IGNORECASE), \"Energy\", \n",
    "                               pd.np.where(df1.market.str.contains('|'.join(events), flags=re.IGNORECASE), \"Events\", \n",
    "                               pd.np.where(df1.market.str.contains('|'.join(financial), flags=re.IGNORECASE), \"Financial Services\",\n",
    "                               pd.np.where(df1.market.str.contains('|'.join(food), flags=re.IGNORECASE), \"Food and Beverage\", \n",
    "                               pd.np.where(df1.market.str.contains('|'.join(gaming), flags=re.IGNORECASE), \"Gaming\", \n",
    "                               pd.np.where(df1.market.str.contains('|'.join(government), flags=re.IGNORECASE), \"Government and Military\", \n",
    "                               pd.np.where(df1.market.str.contains('|'.join(hardware), flags=re.IGNORECASE), \"Hardware\",\n",
    "                               pd.np.where(df1.market.str.contains('|'.join(health_care), flags=re.IGNORECASE), \"Health Care\",\n",
    "                               pd.np.where(df1.market.str.contains('|'.join(it), flags=re.IGNORECASE), \"Information Technology\", \n",
    "                               pd.np.where(df1.market.str.contains('|'.join(internet), flags=re.IGNORECASE), \"Internet Services\", \n",
    "                               pd.np.where(df1.market.str.contains('|'.join(invest), flags=re.IGNORECASE), \"Lending and Investments\", \n",
    "                               pd.np.where(df1.market.str.contains('|'.join(manufacturing), flags=re.IGNORECASE), \"Manufacturing\",\n",
    "                               pd.np.where(df1.market.str.contains('|'.join(media), flags=re.IGNORECASE), \"Media and Entertainment\",\n",
    "                               pd.np.where(df1.market.str.contains('|'.join(message), flags=re.IGNORECASE), \"Messaging and Telecommunication\", \n",
    "                               pd.np.where(df1.market.str.contains('|'.join(mobile), flags=re.IGNORECASE), \"Mobile\", \n",
    "                               pd.np.where(df1.market.str.contains('|'.join(music), flags=re.IGNORECASE), \"Music and Audio\", \n",
    "                               pd.np.where(df1.market.str.contains('|'.join(resource), flags=re.IGNORECASE), \"Natural Resources\",\n",
    "                               pd.np.where(df1.market.str.contains('|'.join(navigation), flags=re.IGNORECASE), \"Navigation and Mapping\",\n",
    "                               pd.np.where(df1.market.str.contains('|'.join(payment), flags=re.IGNORECASE), \"Payments\", \n",
    "                               pd.np.where(df1.market.str.contains('|'.join(platforms), flags=re.IGNORECASE), \"Platforms\", \n",
    "                               pd.np.where(df1.market.str.contains('|'.join(privacy), flags=re.IGNORECASE), \"Privacy and Security\", \n",
    "                               pd.np.where(df1.market.str.contains('|'.join(services), flags=re.IGNORECASE), \"Professional Services\",\n",
    "                               pd.np.where(df1.market.str.contains('|'.join(realestate), flags=re.IGNORECASE), \"Real Estate\", \n",
    "                               pd.np.where(df1.market.str.contains('|'.join(sales), flags=re.IGNORECASE), \"Sales and Marketing\", \n",
    "                               pd.np.where(df1.market.str.contains('|'.join(science), flags=re.IGNORECASE), \"Science and Engineering\", \n",
    "                               pd.np.where(df1.market.str.contains('|'.join(sports), flags=re.IGNORECASE), \"Sports\",\n",
    "                               pd.np.where(df1.market.str.contains('|'.join(sustainability), flags=re.IGNORECASE), \"Sustainability\", \n",
    "                               pd.np.where(df1.market.str.contains('|'.join(transportation), flags=re.IGNORECASE), \"Transportation\", \n",
    "                               pd.np.where(df1.market.str.contains('|'.join(travel), flags=re.IGNORECASE), \"Travel and Tourism\", \n",
    "                               pd.np.where(df1.market.str.contains('|'.join(video), flags=re.IGNORECASE), \"Video\",\n",
    "                               pd.np.where(df1.market.str.contains('|'.join(other), flags=re.IGNORECASE), \"Other\",  \"Other\")))))))))))))))))))))))))))))))))))))))))))))))"
   ]
  },
  {
   "cell_type": "code",
   "execution_count": 62,
   "metadata": {},
   "outputs": [
    {
     "data": {
      "text/plain": [
       "array(['Content and Publishing', 'Gaming', 'Consumer Electronics',\n",
       "       'Travel and Tourism', 'Advertising', 'Software',\n",
       "       'Commerce and Shopping', 'Health Care', 'Real Estate', 'Education',\n",
       "       'Internet Services', 'Food and Beverage',\n",
       "       'Media and Entertainment', 'Data and Analytics',\n",
       "       'Clothing and Apparel', 'Other', 'Biotechnology',\n",
       "       'Community and Lifestyle', 'Sports', 'Mobile', 'Manufacturing',\n",
       "       'Design', 'Financial Services', 'Messaging and Telecommunication',\n",
       "       'Information Technology', 'Professional Services',\n",
       "       'Administrative Services', 'Navigation and Mapping',\n",
       "       'Transportation', 'Hardware', 'Privacy and Security',\n",
       "       'Sales and Marketing', 'Natural Resources', 'Consumer Goods',\n",
       "       'Events', 'Energy', 'Platforms', 'Apps', 'Science and Engineering',\n",
       "       'Government and Military', 'Agriculture and Farming',\n",
       "       'Sustainability', 'Artificial Intelligence'], dtype=object)"
      ]
     },
     "execution_count": 62,
     "metadata": {},
     "output_type": "execute_result"
    }
   ],
   "source": [
    "df1['Industry_Group'].unique() #Industry groups unique values"
   ]
  },
  {
   "cell_type": "code",
   "execution_count": 63,
   "metadata": {},
   "outputs": [
    {
     "data": {
      "text/plain": [
       "43"
      ]
     },
     "execution_count": 63,
     "metadata": {},
     "output_type": "execute_result"
    }
   ],
   "source": [
    "df1['Industry_Group'].nunique() # number of industry groups"
   ]
  },
  {
   "cell_type": "code",
   "execution_count": 64,
   "metadata": {},
   "outputs": [
    {
     "data": {
      "text/plain": [
       "Industry_Group\n",
       "Software                           8069\n",
       "Biotechnology                      3494\n",
       "Health Care                        2975\n",
       "Internet Services                  2646\n",
       "Commerce and Shopping              2267\n",
       "Information Technology             1983\n",
       "Mobile                             1800\n",
       "Community and Lifestyle            1610\n",
       "Advertising                        1548\n",
       "Financial Services                 1265\n",
       "Media and Entertainment            1234\n",
       "Gaming                             1184\n",
       "Professional Services               970\n",
       "Education                           927\n",
       "Data and Analytics                  911\n",
       "Content and Publishing              815\n",
       "Other                               796\n",
       "Manufacturing                       690\n",
       "Real Estate                         561\n",
       "Privacy and Security                536\n",
       "Sales and Marketing                 529\n",
       "Transportation                      485\n",
       "Travel and Tourism                  406\n",
       "Clothing and Apparel                357\n",
       "Consumer Electronics                355\n",
       "Hardware                            353\n",
       "Sports                              285\n",
       "Design                              215\n",
       "Food and Beverage                   171\n",
       "Energy                              158\n",
       "Consumer Goods                      157\n",
       "Events                              153\n",
       "Administrative Services             142\n",
       "Platforms                           111\n",
       "Sustainability                       60\n",
       "Government and Military              52\n",
       "Navigation and Mapping               38\n",
       "Messaging and Telecommunication      35\n",
       "Science and Engineering              35\n",
       "Apps                                 31\n",
       "Agriculture and Farming              31\n",
       "Natural Resources                    29\n",
       "Artificial Intelligence               2\n",
       "Name: permalink, dtype: int64"
      ]
     },
     "execution_count": 64,
     "metadata": {},
     "output_type": "execute_result"
    }
   ],
   "source": [
    "df1.groupby(by = ['Industry_Group'])['permalink'].count().sort_values(ascending = False)#number of companies in each industry group\n",
    "#Software still is the most"
   ]
  },
  {
   "cell_type": "code",
   "execution_count": 137,
   "metadata": {},
   "outputs": [
    {
     "data": {
      "text/plain": [
       "count    4.078000e+04\n",
       "mean     1.473478e+07\n",
       "std      1.682287e+08\n",
       "min      0.000000e+00\n",
       "25%      1.125000e+05\n",
       "50%      1.401366e+06\n",
       "75%      8.204400e+06\n",
       "max      3.007950e+10\n",
       "Name: total_investment, dtype: float64"
      ]
     },
     "execution_count": 137,
     "metadata": {},
     "output_type": "execute_result"
    }
   ],
   "source": [
    "df1['total_investment'].describe()"
   ]
  },
  {
   "cell_type": "code",
   "execution_count": 73,
   "metadata": {},
   "outputs": [
    {
     "data": {
      "text/plain": [
       "Continent_Name               0\n",
       "Three_Letter_Country_Code    0\n",
       "Country_Name                 0\n",
       "dtype: int64"
      ]
     },
     "execution_count": 73,
     "metadata": {},
     "output_type": "execute_result"
    }
   ],
   "source": [
    "country = pd.read_csv(\"country-and-continent-codes-list-csv.csv\") # uploading dataset to map countyr code to continent\n",
    "country = country[['Continent_Name', 'Three_Letter_Country_Code', 'Country_Name']]\n",
    "country = country.dropna(how='any',axis=0) \n",
    "country.isnull().sum() # checking if there is null values"
   ]
  },
  {
   "cell_type": "code",
   "execution_count": 74,
   "metadata": {},
   "outputs": [
    {
     "data": {
      "text/plain": [
       "Index(['permalink', 'name', 'market', 'status', 'country_code',\n",
       "       'funding_rounds', 'seed', 'venture', 'equity_crowdfunding',\n",
       "       'undisclosed', 'convertible_note', 'debt_financing', 'angel', 'grant',\n",
       "       'private_equity', 'post_ipo_equity', 'post_ipo_debt',\n",
       "       'secondary_market', 'product_crowdfunding', 'round_A', 'round_B',\n",
       "       'round_C', 'round_D', 'round_E', 'round_F', 'round_G', 'round_H',\n",
       "       'diff_funding_months', 'total_investment', 'diff_funding_year',\n",
       "       'Industry_Group', 'Continent_Name', 'Three_Letter_Country_Code',\n",
       "       'Country_Name'],\n",
       "      dtype='object')"
      ]
     },
     "execution_count": 74,
     "metadata": {},
     "output_type": "execute_result"
    }
   ],
   "source": [
    "df1 = df1.merge(country, left_on='country_code', right_on='Three_Letter_Country_Code')\n",
    "# merging both datasets and creating new column called continent\n",
    "df1.columns"
   ]
  },
  {
   "cell_type": "code",
   "execution_count": 75,
   "metadata": {},
   "outputs": [
    {
     "data": {
      "text/plain": [
       "Continent_Name\n",
       "Africa             175\n",
       "Asia              4163\n",
       "Europe            7532\n",
       "North America    27928\n",
       "Oceania            334\n",
       "South America      648\n",
       "Name: permalink, dtype: int64"
      ]
     },
     "execution_count": 75,
     "metadata": {},
     "output_type": "execute_result"
    }
   ],
   "source": [
    "df1.groupby(by = ['Continent_Name'])['permalink'].count() #number of companies in each continent\n",
    "# North America is the highest"
   ]
  },
  {
   "cell_type": "code",
   "execution_count": 76,
   "metadata": {},
   "outputs": [
    {
     "data": {
      "text/plain": [
       "(40780, 34)"
      ]
     },
     "execution_count": 76,
     "metadata": {},
     "output_type": "execute_result"
    }
   ],
   "source": [
    "df1.shape # shape of datagrame\n"
   ]
  },
  {
   "cell_type": "code",
   "execution_count": 78,
   "metadata": {},
   "outputs": [
    {
     "data": {
      "text/plain": [
       "permalink                        0\n",
       "name                             0\n",
       "market                           0\n",
       "status                           0\n",
       "country_code                     0\n",
       "funding_rounds                   0\n",
       "seed                         29564\n",
       "venture                      19956\n",
       "equity_crowdfunding          40329\n",
       "undisclosed                  40054\n",
       "convertible_note             40288\n",
       "debt_financing               36951\n",
       "angel                        38069\n",
       "grant                        39842\n",
       "private_equity               39558\n",
       "post_ipo_equity              40545\n",
       "post_ipo_debt                40720\n",
       "secondary_market             40764\n",
       "product_crowdfunding         40606\n",
       "round_A                      32539\n",
       "round_B                      35651\n",
       "round_C                      38060\n",
       "round_D                      39528\n",
       "round_E                      40280\n",
       "round_F                      40612\n",
       "round_G                      40748\n",
       "round_H                      40776\n",
       "diff_funding_months          24920\n",
       "total_investment              6036\n",
       "diff_funding_year            26557\n",
       "Industry_Group                   0\n",
       "Continent_Name                   0\n",
       "Three_Letter_Country_Code        0\n",
       "Country_Name                     0\n",
       "dtype: int64"
      ]
     },
     "execution_count": 78,
     "metadata": {},
     "output_type": "execute_result"
    }
   ],
   "source": [
    "df1.isin([0]).sum()# total number of zeros in each column\n",
    "# there is still a lot fo zeros"
   ]
  },
  {
   "cell_type": "code",
   "execution_count": 79,
   "metadata": {},
   "outputs": [],
   "source": [
    "df2 = df1.copy() # copying the df1"
   ]
  },
  {
   "cell_type": "code",
   "execution_count": 80,
   "metadata": {},
   "outputs": [],
   "source": [
    "df2 = df2.drop(['Three_Letter_Country_Code', 'Country_Name', 'diff_funding_months', 'country_code', 'market'], axis=1) # dropping unnecessary columns"
   ]
  },
  {
   "cell_type": "code",
   "execution_count": 81,
   "metadata": {},
   "outputs": [
    {
     "data": {
      "text/html": [
       "<div>\n",
       "<style scoped>\n",
       "    .dataframe tbody tr th:only-of-type {\n",
       "        vertical-align: middle;\n",
       "    }\n",
       "\n",
       "    .dataframe tbody tr th {\n",
       "        vertical-align: top;\n",
       "    }\n",
       "\n",
       "    .dataframe thead th {\n",
       "        text-align: right;\n",
       "    }\n",
       "</style>\n",
       "<table border=\"1\" class=\"dataframe\">\n",
       "  <thead>\n",
       "    <tr style=\"text-align: right;\">\n",
       "      <th></th>\n",
       "      <th>count</th>\n",
       "      <th>mean</th>\n",
       "      <th>std</th>\n",
       "      <th>min</th>\n",
       "      <th>25%</th>\n",
       "      <th>50%</th>\n",
       "      <th>75%</th>\n",
       "      <th>max</th>\n",
       "    </tr>\n",
       "  </thead>\n",
       "  <tbody>\n",
       "    <tr>\n",
       "      <th>funding_rounds</th>\n",
       "      <td>40780.0</td>\n",
       "      <td>1.791246e+00</td>\n",
       "      <td>1.368332e+00</td>\n",
       "      <td>1.0</td>\n",
       "      <td>1.0</td>\n",
       "      <td>1.0</td>\n",
       "      <td>2.0</td>\n",
       "      <td>1.800000e+01</td>\n",
       "    </tr>\n",
       "    <tr>\n",
       "      <th>seed</th>\n",
       "      <td>40780.0</td>\n",
       "      <td>2.357283e+05</td>\n",
       "      <td>1.135971e+06</td>\n",
       "      <td>0.0</td>\n",
       "      <td>0.0</td>\n",
       "      <td>0.0</td>\n",
       "      <td>28000.0</td>\n",
       "      <td>1.300000e+08</td>\n",
       "    </tr>\n",
       "    <tr>\n",
       "      <th>venture</th>\n",
       "      <td>40780.0</td>\n",
       "      <td>8.539675e+06</td>\n",
       "      <td>3.075104e+07</td>\n",
       "      <td>0.0</td>\n",
       "      <td>0.0</td>\n",
       "      <td>87000.0</td>\n",
       "      <td>6000000.0</td>\n",
       "      <td>2.351000e+09</td>\n",
       "    </tr>\n",
       "    <tr>\n",
       "      <th>equity_crowdfunding</th>\n",
       "      <td>40780.0</td>\n",
       "      <td>5.864530e+03</td>\n",
       "      <td>1.699614e+05</td>\n",
       "      <td>0.0</td>\n",
       "      <td>0.0</td>\n",
       "      <td>0.0</td>\n",
       "      <td>0.0</td>\n",
       "      <td>1.700000e+07</td>\n",
       "    </tr>\n",
       "    <tr>\n",
       "      <th>undisclosed</th>\n",
       "      <td>40780.0</td>\n",
       "      <td>1.188045e+05</td>\n",
       "      <td>2.672445e+06</td>\n",
       "      <td>0.0</td>\n",
       "      <td>0.0</td>\n",
       "      <td>0.0</td>\n",
       "      <td>0.0</td>\n",
       "      <td>2.594178e+08</td>\n",
       "    </tr>\n",
       "    <tr>\n",
       "      <th>convertible_note</th>\n",
       "      <td>40780.0</td>\n",
       "      <td>2.700989e+04</td>\n",
       "      <td>1.575563e+06</td>\n",
       "      <td>0.0</td>\n",
       "      <td>0.0</td>\n",
       "      <td>0.0</td>\n",
       "      <td>0.0</td>\n",
       "      <td>3.000000e+08</td>\n",
       "    </tr>\n",
       "    <tr>\n",
       "      <th>debt_financing</th>\n",
       "      <td>40780.0</td>\n",
       "      <td>2.082329e+06</td>\n",
       "      <td>1.512707e+08</td>\n",
       "      <td>0.0</td>\n",
       "      <td>0.0</td>\n",
       "      <td>0.0</td>\n",
       "      <td>0.0</td>\n",
       "      <td>3.007950e+10</td>\n",
       "    </tr>\n",
       "    <tr>\n",
       "      <th>angel</th>\n",
       "      <td>40780.0</td>\n",
       "      <td>6.824377e+04</td>\n",
       "      <td>5.750587e+05</td>\n",
       "      <td>0.0</td>\n",
       "      <td>0.0</td>\n",
       "      <td>0.0</td>\n",
       "      <td>0.0</td>\n",
       "      <td>4.000000e+07</td>\n",
       "    </tr>\n",
       "    <tr>\n",
       "      <th>grant</th>\n",
       "      <td>40780.0</td>\n",
       "      <td>1.805538e+05</td>\n",
       "      <td>6.121722e+06</td>\n",
       "      <td>0.0</td>\n",
       "      <td>0.0</td>\n",
       "      <td>0.0</td>\n",
       "      <td>0.0</td>\n",
       "      <td>7.505000e+08</td>\n",
       "    </tr>\n",
       "    <tr>\n",
       "      <th>private_equity</th>\n",
       "      <td>40780.0</td>\n",
       "      <td>2.302964e+06</td>\n",
       "      <td>3.407453e+07</td>\n",
       "      <td>0.0</td>\n",
       "      <td>0.0</td>\n",
       "      <td>0.0</td>\n",
       "      <td>0.0</td>\n",
       "      <td>3.500000e+09</td>\n",
       "    </tr>\n",
       "    <tr>\n",
       "      <th>post_ipo_equity</th>\n",
       "      <td>40780.0</td>\n",
       "      <td>6.103323e+05</td>\n",
       "      <td>2.791732e+07</td>\n",
       "      <td>0.0</td>\n",
       "      <td>0.0</td>\n",
       "      <td>0.0</td>\n",
       "      <td>0.0</td>\n",
       "      <td>4.700000e+09</td>\n",
       "    </tr>\n",
       "    <tr>\n",
       "      <th>post_ipo_debt</th>\n",
       "      <td>40780.0</td>\n",
       "      <td>5.107759e+05</td>\n",
       "      <td>4.349541e+07</td>\n",
       "      <td>0.0</td>\n",
       "      <td>0.0</td>\n",
       "      <td>0.0</td>\n",
       "      <td>0.0</td>\n",
       "      <td>5.800000e+09</td>\n",
       "    </tr>\n",
       "    <tr>\n",
       "      <th>secondary_market</th>\n",
       "      <td>40780.0</td>\n",
       "      <td>4.455575e+04</td>\n",
       "      <td>4.236952e+06</td>\n",
       "      <td>0.0</td>\n",
       "      <td>0.0</td>\n",
       "      <td>0.0</td>\n",
       "      <td>0.0</td>\n",
       "      <td>6.806116e+08</td>\n",
       "    </tr>\n",
       "    <tr>\n",
       "      <th>product_crowdfunding</th>\n",
       "      <td>40780.0</td>\n",
       "      <td>7.943287e+03</td>\n",
       "      <td>4.692388e+05</td>\n",
       "      <td>0.0</td>\n",
       "      <td>0.0</td>\n",
       "      <td>0.0</td>\n",
       "      <td>0.0</td>\n",
       "      <td>7.200000e+07</td>\n",
       "    </tr>\n",
       "    <tr>\n",
       "      <th>round_A</th>\n",
       "      <td>40780.0</td>\n",
       "      <td>1.397118e+06</td>\n",
       "      <td>5.794080e+06</td>\n",
       "      <td>0.0</td>\n",
       "      <td>0.0</td>\n",
       "      <td>0.0</td>\n",
       "      <td>0.0</td>\n",
       "      <td>3.190000e+08</td>\n",
       "    </tr>\n",
       "    <tr>\n",
       "      <th>round_B</th>\n",
       "      <td>40780.0</td>\n",
       "      <td>1.715107e+06</td>\n",
       "      <td>8.059522e+06</td>\n",
       "      <td>0.0</td>\n",
       "      <td>0.0</td>\n",
       "      <td>0.0</td>\n",
       "      <td>0.0</td>\n",
       "      <td>5.420000e+08</td>\n",
       "    </tr>\n",
       "    <tr>\n",
       "      <th>round_C</th>\n",
       "      <td>40780.0</td>\n",
       "      <td>1.419173e+06</td>\n",
       "      <td>8.700313e+06</td>\n",
       "      <td>0.0</td>\n",
       "      <td>0.0</td>\n",
       "      <td>0.0</td>\n",
       "      <td>0.0</td>\n",
       "      <td>4.900000e+08</td>\n",
       "    </tr>\n",
       "    <tr>\n",
       "      <th>round_D</th>\n",
       "      <td>40780.0</td>\n",
       "      <td>8.800455e+05</td>\n",
       "      <td>1.077632e+07</td>\n",
       "      <td>0.0</td>\n",
       "      <td>0.0</td>\n",
       "      <td>0.0</td>\n",
       "      <td>0.0</td>\n",
       "      <td>1.200000e+09</td>\n",
       "    </tr>\n",
       "    <tr>\n",
       "      <th>round_E</th>\n",
       "      <td>40780.0</td>\n",
       "      <td>4.030802e+05</td>\n",
       "      <td>5.881491e+06</td>\n",
       "      <td>0.0</td>\n",
       "      <td>0.0</td>\n",
       "      <td>0.0</td>\n",
       "      <td>0.0</td>\n",
       "      <td>4.000000e+08</td>\n",
       "    </tr>\n",
       "    <tr>\n",
       "      <th>round_F</th>\n",
       "      <td>40780.0</td>\n",
       "      <td>2.045721e+05</td>\n",
       "      <td>6.910535e+06</td>\n",
       "      <td>0.0</td>\n",
       "      <td>0.0</td>\n",
       "      <td>0.0</td>\n",
       "      <td>0.0</td>\n",
       "      <td>1.060000e+09</td>\n",
       "    </tr>\n",
       "    <tr>\n",
       "      <th>round_G</th>\n",
       "      <td>40780.0</td>\n",
       "      <td>6.801904e+04</td>\n",
       "      <td>5.771470e+06</td>\n",
       "      <td>0.0</td>\n",
       "      <td>0.0</td>\n",
       "      <td>0.0</td>\n",
       "      <td>0.0</td>\n",
       "      <td>1.000000e+09</td>\n",
       "    </tr>\n",
       "    <tr>\n",
       "      <th>round_H</th>\n",
       "      <td>40780.0</td>\n",
       "      <td>1.725356e+04</td>\n",
       "      <td>2.991401e+06</td>\n",
       "      <td>0.0</td>\n",
       "      <td>0.0</td>\n",
       "      <td>0.0</td>\n",
       "      <td>0.0</td>\n",
       "      <td>6.000000e+08</td>\n",
       "    </tr>\n",
       "    <tr>\n",
       "      <th>diff_funding_year</th>\n",
       "      <td>40780.0</td>\n",
       "      <td>9.740069e-01</td>\n",
       "      <td>1.814022e+00</td>\n",
       "      <td>0.0</td>\n",
       "      <td>0.0</td>\n",
       "      <td>0.0</td>\n",
       "      <td>1.0</td>\n",
       "      <td>4.700000e+01</td>\n",
       "    </tr>\n",
       "    <tr>\n",
       "      <th>total_investment</th>\n",
       "      <td>40780.0</td>\n",
       "      <td>1.473478e+07</td>\n",
       "      <td>1.682287e+08</td>\n",
       "      <td>0.0</td>\n",
       "      <td>112500.0</td>\n",
       "      <td>1401366.0</td>\n",
       "      <td>8204400.0</td>\n",
       "      <td>3.007950e+10</td>\n",
       "    </tr>\n",
       "  </tbody>\n",
       "</table>\n",
       "</div>"
      ],
      "text/plain": [
       "                        count          mean           std  min       25%  \\\n",
       "funding_rounds        40780.0  1.791246e+00  1.368332e+00  1.0       1.0   \n",
       "seed                  40780.0  2.357283e+05  1.135971e+06  0.0       0.0   \n",
       "venture               40780.0  8.539675e+06  3.075104e+07  0.0       0.0   \n",
       "equity_crowdfunding   40780.0  5.864530e+03  1.699614e+05  0.0       0.0   \n",
       "undisclosed           40780.0  1.188045e+05  2.672445e+06  0.0       0.0   \n",
       "convertible_note      40780.0  2.700989e+04  1.575563e+06  0.0       0.0   \n",
       "debt_financing        40780.0  2.082329e+06  1.512707e+08  0.0       0.0   \n",
       "angel                 40780.0  6.824377e+04  5.750587e+05  0.0       0.0   \n",
       "grant                 40780.0  1.805538e+05  6.121722e+06  0.0       0.0   \n",
       "private_equity        40780.0  2.302964e+06  3.407453e+07  0.0       0.0   \n",
       "post_ipo_equity       40780.0  6.103323e+05  2.791732e+07  0.0       0.0   \n",
       "post_ipo_debt         40780.0  5.107759e+05  4.349541e+07  0.0       0.0   \n",
       "secondary_market      40780.0  4.455575e+04  4.236952e+06  0.0       0.0   \n",
       "product_crowdfunding  40780.0  7.943287e+03  4.692388e+05  0.0       0.0   \n",
       "round_A               40780.0  1.397118e+06  5.794080e+06  0.0       0.0   \n",
       "round_B               40780.0  1.715107e+06  8.059522e+06  0.0       0.0   \n",
       "round_C               40780.0  1.419173e+06  8.700313e+06  0.0       0.0   \n",
       "round_D               40780.0  8.800455e+05  1.077632e+07  0.0       0.0   \n",
       "round_E               40780.0  4.030802e+05  5.881491e+06  0.0       0.0   \n",
       "round_F               40780.0  2.045721e+05  6.910535e+06  0.0       0.0   \n",
       "round_G               40780.0  6.801904e+04  5.771470e+06  0.0       0.0   \n",
       "round_H               40780.0  1.725356e+04  2.991401e+06  0.0       0.0   \n",
       "diff_funding_year     40780.0  9.740069e-01  1.814022e+00  0.0       0.0   \n",
       "total_investment      40780.0  1.473478e+07  1.682287e+08  0.0  112500.0   \n",
       "\n",
       "                            50%        75%           max  \n",
       "funding_rounds              1.0        2.0  1.800000e+01  \n",
       "seed                        0.0    28000.0  1.300000e+08  \n",
       "venture                 87000.0  6000000.0  2.351000e+09  \n",
       "equity_crowdfunding         0.0        0.0  1.700000e+07  \n",
       "undisclosed                 0.0        0.0  2.594178e+08  \n",
       "convertible_note            0.0        0.0  3.000000e+08  \n",
       "debt_financing              0.0        0.0  3.007950e+10  \n",
       "angel                       0.0        0.0  4.000000e+07  \n",
       "grant                       0.0        0.0  7.505000e+08  \n",
       "private_equity              0.0        0.0  3.500000e+09  \n",
       "post_ipo_equity             0.0        0.0  4.700000e+09  \n",
       "post_ipo_debt               0.0        0.0  5.800000e+09  \n",
       "secondary_market            0.0        0.0  6.806116e+08  \n",
       "product_crowdfunding        0.0        0.0  7.200000e+07  \n",
       "round_A                     0.0        0.0  3.190000e+08  \n",
       "round_B                     0.0        0.0  5.420000e+08  \n",
       "round_C                     0.0        0.0  4.900000e+08  \n",
       "round_D                     0.0        0.0  1.200000e+09  \n",
       "round_E                     0.0        0.0  4.000000e+08  \n",
       "round_F                     0.0        0.0  1.060000e+09  \n",
       "round_G                     0.0        0.0  1.000000e+09  \n",
       "round_H                     0.0        0.0  6.000000e+08  \n",
       "diff_funding_year           0.0        1.0  4.700000e+01  \n",
       "total_investment      1401366.0  8204400.0  3.007950e+10  "
      ]
     },
     "execution_count": 81,
     "metadata": {},
     "output_type": "execute_result"
    }
   ],
   "source": [
    "df2[['funding_rounds', 'seed', 'venture', 'equity_crowdfunding',\n",
    "       'undisclosed', 'convertible_note', 'debt_financing', 'angel', 'grant',\n",
    "       'private_equity', 'post_ipo_equity', 'post_ipo_debt',\n",
    "       'secondary_market', 'product_crowdfunding', 'round_A', 'round_B',\n",
    "       'round_C', 'round_D', 'round_E', 'round_F', 'round_G', 'round_H',\n",
    "       'diff_funding_year', 'total_investment']].describe().T"
   ]
  },
  {
   "cell_type": "code",
   "execution_count": 82,
   "metadata": {},
   "outputs": [],
   "source": [
    "#creating categories of these numerical values based on the output from the describe data. Also creating new column for the categories\n",
    "cat_invest = pd.cut(df2.total_investment, bins = [-1, 112500, 1400300, 8205200, 40079503000], labels=['low','low_medium','high_medium','high'])\n",
    "#labeling total investment values as low, low medium, high medium and high based on their descriptive summary. \n",
    "df2.insert(0,'cat_total_investment',cat_invest) # creating new column called cat_total_investment"
   ]
  },
  {
   "cell_type": "code",
   "execution_count": 83,
   "metadata": {},
   "outputs": [],
   "source": [
    "cat_diff_funding_year = pd.cut(df2.diff_funding_year, bins = [-1, 2, 49], labels=['low','high'])\n",
    "#labeling diff_funding_year as low and high based on their descriptive summary. \n",
    "df2.insert(0,'cat_diff_funding_year',cat_diff_funding_year)# creating new column called cat_diff_funding_year"
   ]
  },
  {
   "cell_type": "code",
   "execution_count": 84,
   "metadata": {},
   "outputs": [],
   "source": [
    "cat_funding_rounds = pd.cut(df2.funding_rounds, bins = [-1, 2, 20], labels=['low','high'])\n",
    "#labeling funding_rounds as low and high based on their descriptive summary. \n",
    "df2.insert(0,'cat_funding_rounds',cat_funding_rounds)# creating new column called cat_funding_rounds"
   ]
  },
  {
   "cell_type": "code",
   "execution_count": 85,
   "metadata": {},
   "outputs": [],
   "source": [
    "cat_seed = pd.cut(df2.seed, bins = [-1, 28000, 140000000], labels=['low','high'])\n",
    "#labeling seed as low and high  based on their descriptive summary. \n",
    "df2.insert(0,'cat_seed',cat_seed)# creating new column called cat_seed"
   ]
  },
  {
   "cell_type": "code",
   "execution_count": 86,
   "metadata": {},
   "outputs": [],
   "source": [
    "cat_venture = pd.cut(df2.venture, bins = [-1, 85038.5, 6000000, 2451000000], labels=['low','medium','high'])\n",
    "#labeling venture as low, medium and high based on their descriptive summary. \n",
    "df2.insert(0,'cat_venture',cat_venture) # creating new column called cat_venture"
   ]
  },
  {
   "cell_type": "code",
   "execution_count": 87,
   "metadata": {},
   "outputs": [],
   "source": [
    "# fixing the categorical columns  into numerical values so that we can use it on the model\n",
    "df2['cat_status'] = df2['status'].replace(['closed', 'operating', 'acquired'], [0, 1, 2])\n",
    "df2['cat_total_investment'] = df2['cat_total_investment'].replace(['low','low_medium','high_medium','high'], [0, 1, 2, 3])\n",
    "df2['cat_diff_funding_year'] = df2['cat_diff_funding_year'].replace(['low', 'high'], [0, 1])\n",
    "df2['cat_funding_rounds'] = df2['cat_funding_rounds'].replace(['low', 'high'], [0, 1])\n",
    "df2['cat_seed'] = df2['cat_seed'].replace(['low', 'high'], [0, 1])\n",
    "df2['cat_venture'] = df2['cat_venture'].replace(['low','medium','high'], [0, 1, 3])"
   ]
  },
  {
   "cell_type": "code",
   "execution_count": 88,
   "metadata": {},
   "outputs": [],
   "source": [
    "#as a lot of the money columns have 0, we are turning them into new categories of 0 and 1\n",
    "df2.loc[df2['equity_crowdfunding'] < 1, 'cat_equity_crowdfunding'] = 0\n",
    "df2.loc[df2['equity_crowdfunding'] > 1, 'cat_equity_crowdfunding'] = 1\n",
    "\n",
    "\n",
    "df2.loc[df2['undisclosed'] < 1, 'cat_undisclosed'] = 0\n",
    "df2.loc[df2['undisclosed'] > 1, 'cat_undisclosed'] = 1\n",
    "\n",
    "\n",
    "df2.loc[df2['convertible_note'] < 1, 'cat_convertible_note'] = 0\n",
    "df2.loc[df2['convertible_note'] > 1, 'cat_convertible_note'] = 1\n",
    "\n",
    "df2.loc[df2['debt_financing'] < 1, 'cat_debt_financing'] = 0\n",
    "df2.loc[df2['debt_financing'] > 1, 'cat_debt_financing'] = 1\n",
    "\n",
    "df2.loc[df2['angel'] < 1, 'cat_angel'] = 0\n",
    "df2.loc[df2['angel'] > 1, 'cat_angel'] = 1\n",
    "\n",
    "df2.loc[df2['grant'] < 1, 'cat_grant'] = 0\n",
    "df2.loc[df2['grant'] > 1, 'cat_grant'] = 1\n",
    "\n",
    "\n",
    "df2.loc[df2['private_equity'] < 1, 'cat_private_equity'] = 0\n",
    "df2.loc[df2['private_equity'] > 1, 'cat_private_equity'] = 1\n",
    "\n",
    "df2.loc[df2['post_ipo_equity'] < 1, 'cat_post_ipo_equity'] = 0\n",
    "df2.loc[df2['post_ipo_equity'] > 1, 'cat_post_ipo_equity'] = 1\n",
    "\n",
    "df2.loc[df2['post_ipo_debt'] < 1, 'cat_post_ipo_debt'] = 0\n",
    "df2.loc[df2['post_ipo_debt'] > 1, 'cat_post_ipo_debt'] = 1\n",
    "\n",
    "df2.loc[df2['secondary_market'] < 1, 'cat_secondary_market'] = 0\n",
    "df2.loc[df2['secondary_market'] > 1, 'cat_secondary_market'] = 1\n",
    "\n",
    "df2.loc[df2['product_crowdfunding'] < 1, 'cat_product_crowdfunding'] = 0\n",
    "df2.loc[df2['product_crowdfunding'] > 1, 'cat_product_crowdfunding'] = 1\n",
    "\n",
    "df2.loc[df2['round_A'] < 1, 'cat_round_A'] = 0\n",
    "df2.loc[df2['round_A'] > 1, 'cat_round_A'] = 1\n",
    "\n",
    "df2.loc[df2['round_B'] < 1, 'cat_round_B'] = 0\n",
    "df2.loc[df2['round_B'] > 1, 'cat_round_B'] = 1\n",
    "\n",
    "df2.loc[df2['round_C'] < 1, 'cat_round_C'] = 0\n",
    "df2.loc[df2['round_C'] > 1, 'cat_round_C'] = 1\n",
    "\n",
    "df2.loc[df2['round_D'] < 1, 'cat_round_D'] = 0\n",
    "df2.loc[df2['round_D'] > 1, 'cat_round_D'] = 1\n",
    "\n",
    "df2.loc[df2['round_E'] < 1, 'cat_round_E'] = 0\n",
    "df2.loc[df2['round_E'] > 1, 'cat_round_E'] = 1\n",
    "\n",
    "df2.loc[df2['round_F'] < 1, 'cat_round_F'] = 0\n",
    "df2.loc[df2['round_F'] > 1, 'cat_round_F'] = 1\n",
    "\n",
    "df2.loc[df2['round_G'] < 1, 'cat_round_G'] = 0\n",
    "df2.loc[df2['round_G'] > 1, 'cat_round_G'] = 1\n",
    "\n",
    "df2.loc[df2['round_H'] < 1, 'cat_round_H'] = 0\n",
    "df2.loc[df2['round_H'] > 1, 'cat_round_H'] = 1\n"
   ]
  },
  {
   "cell_type": "code",
   "execution_count": 89,
   "metadata": {},
   "outputs": [],
   "source": [
    "# creating instance of labelencoder\n",
    "labelencoder = LabelEncoder()\n",
    "#using label encoder for these two columns as there is a lot of variables\n",
    "df2['cat_Continent_Name'] = labelencoder.fit_transform(df2['Continent_Name']) # using label encoder on continent\n",
    "df2['cat_Industry_Group'] = labelencoder.fit_transform(df2['Industry_Group']) # using label encoder on industry group"
   ]
  },
  {
   "cell_type": "code",
   "execution_count": 90,
   "metadata": {},
   "outputs": [
    {
     "data": {
      "text/html": [
       "<div>\n",
       "<style scoped>\n",
       "    .dataframe tbody tr th:only-of-type {\n",
       "        vertical-align: middle;\n",
       "    }\n",
       "\n",
       "    .dataframe tbody tr th {\n",
       "        vertical-align: top;\n",
       "    }\n",
       "\n",
       "    .dataframe thead th {\n",
       "        text-align: right;\n",
       "    }\n",
       "</style>\n",
       "<table border=\"1\" class=\"dataframe\">\n",
       "  <thead>\n",
       "    <tr style=\"text-align: right;\">\n",
       "      <th></th>\n",
       "      <th>cat_status</th>\n",
       "      <th>cat_Industry_Group</th>\n",
       "      <th>cat_Continent_Name</th>\n",
       "      <th>cat_funding_rounds</th>\n",
       "      <th>cat_diff_funding_year</th>\n",
       "      <th>cat_total_investment</th>\n",
       "      <th>cat_equity_crowdfunding</th>\n",
       "      <th>cat_venture</th>\n",
       "      <th>cat_seed</th>\n",
       "      <th>cat_undisclosed</th>\n",
       "      <th>...</th>\n",
       "      <th>cat_secondary_market</th>\n",
       "      <th>cat_product_crowdfunding</th>\n",
       "      <th>cat_round_A</th>\n",
       "      <th>cat_round_B</th>\n",
       "      <th>cat_round_C</th>\n",
       "      <th>cat_round_D</th>\n",
       "      <th>cat_round_E</th>\n",
       "      <th>cat_round_F</th>\n",
       "      <th>cat_round_G</th>\n",
       "      <th>cat_round_H</th>\n",
       "    </tr>\n",
       "  </thead>\n",
       "  <tbody>\n",
       "    <tr>\n",
       "      <th>0</th>\n",
       "      <td>2</td>\n",
       "      <td>11</td>\n",
       "      <td>3</td>\n",
       "      <td>0</td>\n",
       "      <td>0</td>\n",
       "      <td>2</td>\n",
       "      <td>0.0</td>\n",
       "      <td>0</td>\n",
       "      <td>1</td>\n",
       "      <td>0.0</td>\n",
       "      <td>...</td>\n",
       "      <td>0.0</td>\n",
       "      <td>0.0</td>\n",
       "      <td>0.0</td>\n",
       "      <td>0.0</td>\n",
       "      <td>0.0</td>\n",
       "      <td>0.0</td>\n",
       "      <td>0.0</td>\n",
       "      <td>0.0</td>\n",
       "      <td>0.0</td>\n",
       "      <td>0.0</td>\n",
       "    </tr>\n",
       "    <tr>\n",
       "      <th>1</th>\n",
       "      <td>1</td>\n",
       "      <td>19</td>\n",
       "      <td>3</td>\n",
       "      <td>0</td>\n",
       "      <td>0</td>\n",
       "      <td>2</td>\n",
       "      <td>0.0</td>\n",
       "      <td>1</td>\n",
       "      <td>0</td>\n",
       "      <td>0.0</td>\n",
       "      <td>...</td>\n",
       "      <td>0.0</td>\n",
       "      <td>0.0</td>\n",
       "      <td>0.0</td>\n",
       "      <td>0.0</td>\n",
       "      <td>0.0</td>\n",
       "      <td>0.0</td>\n",
       "      <td>0.0</td>\n",
       "      <td>0.0</td>\n",
       "      <td>0.0</td>\n",
       "      <td>0.0</td>\n",
       "    </tr>\n",
       "    <tr>\n",
       "      <th>2</th>\n",
       "      <td>1</td>\n",
       "      <td>42</td>\n",
       "      <td>3</td>\n",
       "      <td>0</td>\n",
       "      <td>0</td>\n",
       "      <td>0</td>\n",
       "      <td>1.0</td>\n",
       "      <td>0</td>\n",
       "      <td>0</td>\n",
       "      <td>0.0</td>\n",
       "      <td>...</td>\n",
       "      <td>0.0</td>\n",
       "      <td>0.0</td>\n",
       "      <td>0.0</td>\n",
       "      <td>0.0</td>\n",
       "      <td>0.0</td>\n",
       "      <td>0.0</td>\n",
       "      <td>0.0</td>\n",
       "      <td>0.0</td>\n",
       "      <td>0.0</td>\n",
       "      <td>0.0</td>\n",
       "    </tr>\n",
       "    <tr>\n",
       "      <th>3</th>\n",
       "      <td>1</td>\n",
       "      <td>38</td>\n",
       "      <td>3</td>\n",
       "      <td>0</td>\n",
       "      <td>0</td>\n",
       "      <td>0</td>\n",
       "      <td>0.0</td>\n",
       "      <td>0</td>\n",
       "      <td>0</td>\n",
       "      <td>0.0</td>\n",
       "      <td>...</td>\n",
       "      <td>0.0</td>\n",
       "      <td>0.0</td>\n",
       "      <td>0.0</td>\n",
       "      <td>0.0</td>\n",
       "      <td>0.0</td>\n",
       "      <td>0.0</td>\n",
       "      <td>0.0</td>\n",
       "      <td>0.0</td>\n",
       "      <td>0.0</td>\n",
       "      <td>0.0</td>\n",
       "    </tr>\n",
       "    <tr>\n",
       "      <th>4</th>\n",
       "      <td>1</td>\n",
       "      <td>38</td>\n",
       "      <td>3</td>\n",
       "      <td>0</td>\n",
       "      <td>0</td>\n",
       "      <td>0</td>\n",
       "      <td>0.0</td>\n",
       "      <td>0</td>\n",
       "      <td>0</td>\n",
       "      <td>0.0</td>\n",
       "      <td>...</td>\n",
       "      <td>0.0</td>\n",
       "      <td>0.0</td>\n",
       "      <td>0.0</td>\n",
       "      <td>0.0</td>\n",
       "      <td>0.0</td>\n",
       "      <td>0.0</td>\n",
       "      <td>0.0</td>\n",
       "      <td>0.0</td>\n",
       "      <td>0.0</td>\n",
       "      <td>0.0</td>\n",
       "    </tr>\n",
       "  </tbody>\n",
       "</table>\n",
       "<p>5 rows × 27 columns</p>\n",
       "</div>"
      ],
      "text/plain": [
       "   cat_status  cat_Industry_Group  cat_Continent_Name  cat_funding_rounds  \\\n",
       "0           2                  11                   3                   0   \n",
       "1           1                  19                   3                   0   \n",
       "2           1                  42                   3                   0   \n",
       "3           1                  38                   3                   0   \n",
       "4           1                  38                   3                   0   \n",
       "\n",
       "   cat_diff_funding_year  cat_total_investment  cat_equity_crowdfunding  \\\n",
       "0                      0                     2                      0.0   \n",
       "1                      0                     2                      0.0   \n",
       "2                      0                     0                      1.0   \n",
       "3                      0                     0                      0.0   \n",
       "4                      0                     0                      0.0   \n",
       "\n",
       "   cat_venture  cat_seed  cat_undisclosed  ...  cat_secondary_market  \\\n",
       "0            0         1              0.0  ...                   0.0   \n",
       "1            1         0              0.0  ...                   0.0   \n",
       "2            0         0              0.0  ...                   0.0   \n",
       "3            0         0              0.0  ...                   0.0   \n",
       "4            0         0              0.0  ...                   0.0   \n",
       "\n",
       "   cat_product_crowdfunding  cat_round_A  cat_round_B  cat_round_C  \\\n",
       "0                       0.0          0.0          0.0          0.0   \n",
       "1                       0.0          0.0          0.0          0.0   \n",
       "2                       0.0          0.0          0.0          0.0   \n",
       "3                       0.0          0.0          0.0          0.0   \n",
       "4                       0.0          0.0          0.0          0.0   \n",
       "\n",
       "   cat_round_D  cat_round_E  cat_round_F  cat_round_G  cat_round_H  \n",
       "0          0.0          0.0          0.0          0.0          0.0  \n",
       "1          0.0          0.0          0.0          0.0          0.0  \n",
       "2          0.0          0.0          0.0          0.0          0.0  \n",
       "3          0.0          0.0          0.0          0.0          0.0  \n",
       "4          0.0          0.0          0.0          0.0          0.0  \n",
       "\n",
       "[5 rows x 27 columns]"
      ]
     },
     "execution_count": 90,
     "metadata": {},
     "output_type": "execute_result"
    }
   ],
   "source": [
    "df3 = df2[['cat_status', 'cat_Industry_Group',\n",
    "       'cat_Continent_Name','cat_funding_rounds',\n",
    "       'cat_diff_funding_year', 'cat_total_investment' , \n",
    "       'cat_equity_crowdfunding', 'cat_venture', 'cat_seed', 'cat_undisclosed',\n",
    "       'cat_convertible_note', 'cat_debt_financing', 'cat_angel', 'cat_grant',\n",
    "       'cat_private_equity', 'cat_post_ipo_equity', 'cat_post_ipo_debt',\n",
    "       'cat_secondary_market', 'cat_product_crowdfunding', 'cat_round_A',\n",
    "       'cat_round_B', 'cat_round_C', 'cat_round_D', 'cat_round_E',\n",
    "       'cat_round_F', 'cat_round_G', 'cat_round_H']] # Selecting the columns we need for the model\n",
    "\n",
    "df3.head()"
   ]
  },
  {
   "cell_type": "code",
   "execution_count": 91,
   "metadata": {},
   "outputs": [
    {
     "data": {
      "text/plain": [
       "cat_status                    int64\n",
       "cat_Industry_Group            int32\n",
       "cat_Continent_Name            int32\n",
       "cat_funding_rounds            int64\n",
       "cat_diff_funding_year         int64\n",
       "cat_total_investment          int64\n",
       "cat_equity_crowdfunding     float64\n",
       "cat_venture                   int64\n",
       "cat_seed                      int64\n",
       "cat_undisclosed             float64\n",
       "cat_convertible_note        float64\n",
       "cat_debt_financing          float64\n",
       "cat_angel                   float64\n",
       "cat_grant                   float64\n",
       "cat_private_equity          float64\n",
       "cat_post_ipo_equity         float64\n",
       "cat_post_ipo_debt           float64\n",
       "cat_secondary_market        float64\n",
       "cat_product_crowdfunding    float64\n",
       "cat_round_A                 float64\n",
       "cat_round_B                 float64\n",
       "cat_round_C                 float64\n",
       "cat_round_D                 float64\n",
       "cat_round_E                 float64\n",
       "cat_round_F                 float64\n",
       "cat_round_G                 float64\n",
       "cat_round_H                 float64\n",
       "dtype: object"
      ]
     },
     "execution_count": 91,
     "metadata": {},
     "output_type": "execute_result"
    }
   ],
   "source": [
    "df3.dtypes #data type of each column\n",
    "# making sure they are all numbers"
   ]
  },
  {
   "cell_type": "code",
   "execution_count": 92,
   "metadata": {},
   "outputs": [
    {
     "data": {
      "text/plain": [
       "cat_status                  0\n",
       "cat_Industry_Group          0\n",
       "cat_Continent_Name          0\n",
       "cat_funding_rounds          0\n",
       "cat_diff_funding_year       0\n",
       "cat_total_investment        0\n",
       "cat_equity_crowdfunding     0\n",
       "cat_venture                 0\n",
       "cat_seed                    0\n",
       "cat_undisclosed             0\n",
       "cat_convertible_note        0\n",
       "cat_debt_financing          0\n",
       "cat_angel                   0\n",
       "cat_grant                   0\n",
       "cat_private_equity          0\n",
       "cat_post_ipo_equity         0\n",
       "cat_post_ipo_debt           0\n",
       "cat_secondary_market        0\n",
       "cat_product_crowdfunding    0\n",
       "cat_round_A                 0\n",
       "cat_round_B                 0\n",
       "cat_round_C                 0\n",
       "cat_round_D                 0\n",
       "cat_round_E                 0\n",
       "cat_round_F                 0\n",
       "cat_round_G                 0\n",
       "cat_round_H                 0\n",
       "dtype: int64"
      ]
     },
     "execution_count": 92,
     "metadata": {},
     "output_type": "execute_result"
    }
   ],
   "source": [
    "df3.isna().sum() #number of null values in each column\n",
    "# making sure there is no null values"
   ]
  },
  {
   "cell_type": "markdown",
   "metadata": {},
   "source": [
    "# Statistics and Variable Selection"
   ]
  },
  {
   "cell_type": "markdown",
   "metadata": {},
   "source": [
    "To make a decision about which columns to pick on the final model, we did a correlation matrix.\n",
    "\n",
    "Because of low correlation, we decided to leave out crowdfunding, undisclosed, convertible note, grant , post ipo equity, post ipo debt, secondary market, product crowdfunding, round G, round H from the final model."
   ]
  },
  {
   "cell_type": "code",
   "execution_count": 93,
   "metadata": {},
   "outputs": [
    {
     "data": {
      "text/plain": [
       "<AxesSubplot:title={'center':'Pearson Correlation of features'}>"
      ]
     },
     "execution_count": 93,
     "metadata": {},
     "output_type": "execute_result"
    },
    {
     "data": {
      "image/png": "[encoded data removed]",
      "text/plain": [
       "<Figure size 2520x2520 with 2 Axes>"
      ]
     },
     "metadata": {
      "needs_background": "light"
     },
     "output_type": "display_data"
    }
   ],
   "source": [
    "#creating correlation matrix\n",
    "colormap = plt.cm.viridis\n",
    "plt.figure(figsize = (35, 35))\n",
    "plt.title('Pearson Correlation of features', y = 1.05, size = 15)\n",
    "matrix = np.triu(df3.corr())\n",
    "sns.heatmap(df3.astype(float).corr(), linewidth = 0.1, vmax = 1.0, square =True, cmap=colormap, linecolor = 'white', annot=True, mask = matrix)\n",
    "\n",
    "#we can remove cat_equity_crowdfunding, cat_undisclosed, cat_convertible_note, cat_grant , cat_post_ipo_equity, cat_post_ipo_debt, cat_secondary_market, cat_product_crowdfunding, cat_round_G, cat_round_H"
   ]
  },
  {
   "cell_type": "code",
   "execution_count": 94,
   "metadata": {},
   "outputs": [
    {
     "data": {
      "text/plain": [
       "(40780, 27)"
      ]
     },
     "execution_count": 94,
     "metadata": {},
     "output_type": "execute_result"
    }
   ],
   "source": [
    "df3.shape"
   ]
  },
  {
   "cell_type": "code",
   "execution_count": 95,
   "metadata": {},
   "outputs": [
    {
     "data": {
      "text/plain": [
       "(40780, 17)"
      ]
     },
     "execution_count": 95,
     "metadata": {},
     "output_type": "execute_result"
    }
   ],
   "source": [
    "df4 = df3[['cat_status', 'cat_Industry_Group', 'cat_Continent_Name',\n",
    "       'cat_funding_rounds', 'cat_diff_funding_year', 'cat_total_investment', 'cat_venture', 'cat_seed', 'cat_debt_financing', 'cat_angel',\n",
    "       'cat_private_equity', 'cat_round_A',\n",
    "       'cat_round_B', 'cat_round_C', 'cat_round_D', 'cat_round_E',\n",
    "       'cat_round_F']] # selecting the columns we need\n",
    "       #you can use this dataset for the model. Created after excluding columns with less correlation\n",
    "\n",
    "df4.shape # shape of dataset"
   ]
  },
  {
   "cell_type": "code",
   "execution_count": 96,
   "metadata": {},
   "outputs": [
    {
     "data": {
      "text/html": [
       "<div>\n",
       "<style scoped>\n",
       "    .dataframe tbody tr th:only-of-type {\n",
       "        vertical-align: middle;\n",
       "    }\n",
       "\n",
       "    .dataframe tbody tr th {\n",
       "        vertical-align: top;\n",
       "    }\n",
       "\n",
       "    .dataframe thead th {\n",
       "        text-align: right;\n",
       "    }\n",
       "</style>\n",
       "<table border=\"1\" class=\"dataframe\">\n",
       "  <thead>\n",
       "    <tr style=\"text-align: right;\">\n",
       "      <th></th>\n",
       "      <th>cat_status</th>\n",
       "      <th>cat_Industry_Group</th>\n",
       "      <th>cat_Continent_Name</th>\n",
       "      <th>cat_funding_rounds</th>\n",
       "      <th>cat_diff_funding_year</th>\n",
       "      <th>cat_total_investment</th>\n",
       "      <th>cat_venture</th>\n",
       "      <th>cat_seed</th>\n",
       "      <th>cat_debt_financing</th>\n",
       "      <th>cat_angel</th>\n",
       "      <th>cat_private_equity</th>\n",
       "      <th>cat_round_A</th>\n",
       "      <th>cat_round_B</th>\n",
       "      <th>cat_round_C</th>\n",
       "      <th>cat_round_D</th>\n",
       "      <th>cat_round_E</th>\n",
       "      <th>cat_round_F</th>\n",
       "    </tr>\n",
       "  </thead>\n",
       "  <tbody>\n",
       "    <tr>\n",
       "      <th>0</th>\n",
       "      <td>2</td>\n",
       "      <td>11</td>\n",
       "      <td>3</td>\n",
       "      <td>0</td>\n",
       "      <td>0</td>\n",
       "      <td>2</td>\n",
       "      <td>0</td>\n",
       "      <td>1</td>\n",
       "      <td>0.0</td>\n",
       "      <td>0.0</td>\n",
       "      <td>0.0</td>\n",
       "      <td>0.0</td>\n",
       "      <td>0.0</td>\n",
       "      <td>0.0</td>\n",
       "      <td>0.0</td>\n",
       "      <td>0.0</td>\n",
       "      <td>0.0</td>\n",
       "    </tr>\n",
       "    <tr>\n",
       "      <th>1</th>\n",
       "      <td>1</td>\n",
       "      <td>19</td>\n",
       "      <td>3</td>\n",
       "      <td>0</td>\n",
       "      <td>0</td>\n",
       "      <td>2</td>\n",
       "      <td>1</td>\n",
       "      <td>0</td>\n",
       "      <td>0.0</td>\n",
       "      <td>0.0</td>\n",
       "      <td>0.0</td>\n",
       "      <td>0.0</td>\n",
       "      <td>0.0</td>\n",
       "      <td>0.0</td>\n",
       "      <td>0.0</td>\n",
       "      <td>0.0</td>\n",
       "      <td>0.0</td>\n",
       "    </tr>\n",
       "    <tr>\n",
       "      <th>2</th>\n",
       "      <td>1</td>\n",
       "      <td>42</td>\n",
       "      <td>3</td>\n",
       "      <td>0</td>\n",
       "      <td>0</td>\n",
       "      <td>0</td>\n",
       "      <td>0</td>\n",
       "      <td>0</td>\n",
       "      <td>0.0</td>\n",
       "      <td>0.0</td>\n",
       "      <td>0.0</td>\n",
       "      <td>0.0</td>\n",
       "      <td>0.0</td>\n",
       "      <td>0.0</td>\n",
       "      <td>0.0</td>\n",
       "      <td>0.0</td>\n",
       "      <td>0.0</td>\n",
       "    </tr>\n",
       "    <tr>\n",
       "      <th>3</th>\n",
       "      <td>1</td>\n",
       "      <td>38</td>\n",
       "      <td>3</td>\n",
       "      <td>0</td>\n",
       "      <td>0</td>\n",
       "      <td>0</td>\n",
       "      <td>0</td>\n",
       "      <td>0</td>\n",
       "      <td>0.0</td>\n",
       "      <td>0.0</td>\n",
       "      <td>0.0</td>\n",
       "      <td>0.0</td>\n",
       "      <td>0.0</td>\n",
       "      <td>0.0</td>\n",
       "      <td>0.0</td>\n",
       "      <td>0.0</td>\n",
       "      <td>0.0</td>\n",
       "    </tr>\n",
       "    <tr>\n",
       "      <th>4</th>\n",
       "      <td>1</td>\n",
       "      <td>38</td>\n",
       "      <td>3</td>\n",
       "      <td>0</td>\n",
       "      <td>0</td>\n",
       "      <td>0</td>\n",
       "      <td>0</td>\n",
       "      <td>0</td>\n",
       "      <td>0.0</td>\n",
       "      <td>0.0</td>\n",
       "      <td>0.0</td>\n",
       "      <td>0.0</td>\n",
       "      <td>0.0</td>\n",
       "      <td>0.0</td>\n",
       "      <td>0.0</td>\n",
       "      <td>0.0</td>\n",
       "      <td>0.0</td>\n",
       "    </tr>\n",
       "  </tbody>\n",
       "</table>\n",
       "</div>"
      ],
      "text/plain": [
       "   cat_status  cat_Industry_Group  cat_Continent_Name  cat_funding_rounds  \\\n",
       "0           2                  11                   3                   0   \n",
       "1           1                  19                   3                   0   \n",
       "2           1                  42                   3                   0   \n",
       "3           1                  38                   3                   0   \n",
       "4           1                  38                   3                   0   \n",
       "\n",
       "   cat_diff_funding_year  cat_total_investment  cat_venture  cat_seed  \\\n",
       "0                      0                     2            0         1   \n",
       "1                      0                     2            1         0   \n",
       "2                      0                     0            0         0   \n",
       "3                      0                     0            0         0   \n",
       "4                      0                     0            0         0   \n",
       "\n",
       "   cat_debt_financing  cat_angel  cat_private_equity  cat_round_A  \\\n",
       "0                 0.0        0.0                 0.0          0.0   \n",
       "1                 0.0        0.0                 0.0          0.0   \n",
       "2                 0.0        0.0                 0.0          0.0   \n",
       "3                 0.0        0.0                 0.0          0.0   \n",
       "4                 0.0        0.0                 0.0          0.0   \n",
       "\n",
       "   cat_round_B  cat_round_C  cat_round_D  cat_round_E  cat_round_F  \n",
       "0          0.0          0.0          0.0          0.0          0.0  \n",
       "1          0.0          0.0          0.0          0.0          0.0  \n",
       "2          0.0          0.0          0.0          0.0          0.0  \n",
       "3          0.0          0.0          0.0          0.0          0.0  \n",
       "4          0.0          0.0          0.0          0.0          0.0  "
      ]
     },
     "execution_count": 96,
     "metadata": {},
     "output_type": "execute_result"
    }
   ],
   "source": [
    "df4.head()"
   ]
  },
  {
   "cell_type": "code",
   "execution_count": 97,
   "metadata": {},
   "outputs": [],
   "source": [
    "# Making new datafram that removes the operating value\n",
    "df5 = df3.copy()\n",
    "df5.drop(df5.index[df5['cat_status'] == 1], inplace = True)\n",
    "df5 = df5.replace({'cat_status':2},1) # only 0 and 1, 0 means closed and 1 means acquired"
   ]
  },
  {
   "cell_type": "code",
   "execution_count": 98,
   "metadata": {},
   "outputs": [
    {
     "data": {
      "text/plain": [
       "<AxesSubplot:title={'center':'Pearson Correlation of features'}>"
      ]
     },
     "execution_count": 98,
     "metadata": {},
     "output_type": "execute_result"
    },
    {
     "data": {
      "image/png": "[encoded data removed]",
      "text/plain": [
       "<Figure size 2520x2520 with 2 Axes>"
      ]
     },
     "metadata": {
      "needs_background": "light"
     },
     "output_type": "display_data"
    }
   ],
   "source": [
    "colormap = plt.cm.viridis\n",
    "plt.figure(figsize = (35, 35))\n",
    "plt.title('Pearson Correlation of features', y = 1.05, size = 15)\n",
    "matrix = np.triu(df5.corr())\n",
    "sns.heatmap(df5.astype(float).corr(), linewidth = 0.1, vmax = 1.0, square =True, cmap=colormap, linecolor = 'white', annot=True, mask = matrix)\n",
    "\n",
    "#we can remove cat_equity_crowdfunding, cat_undisclosed, cat_convertible_note, cat_grant , cat_post_ipo_equity, cat_post_ipo_debt, cat_secondary_market, cat_product_crowdfunding, cat_round_G, cat_round_H. This is the same as the other dataframe\n",
    "#venture and investment is highly correlated. Also high correlation between the round and the round after it. "
   ]
  },
  {
   "cell_type": "code",
   "execution_count": 99,
   "metadata": {},
   "outputs": [],
   "source": [
    "df5 = df5[['cat_status', 'cat_Industry_Group', 'cat_Continent_Name',\n",
    "       'cat_funding_rounds', 'cat_diff_funding_year', 'cat_total_investment', 'cat_venture', 'cat_seed', 'cat_debt_financing', 'cat_angel',\n",
    "       'cat_private_equity', 'cat_round_A',\n",
    "       'cat_round_B', 'cat_round_C', 'cat_round_D', 'cat_round_E',\n",
    "       'cat_round_F']] # selecting the columns we need based on the correlation matrix"
   ]
  },
  {
   "cell_type": "code",
   "execution_count": 100,
   "metadata": {},
   "outputs": [
    {
     "data": {
      "text/plain": [
       "5525"
      ]
     },
     "execution_count": 100,
     "metadata": {},
     "output_type": "execute_result"
    }
   ],
   "source": [
    "df5['cat_status'].count()# number of companies"
   ]
  },
  {
   "cell_type": "code",
   "execution_count": null,
   "metadata": {},
   "outputs": [],
   "source": []
  },
  {
   "cell_type": "code",
   "execution_count": 101,
   "metadata": {},
   "outputs": [
    {
     "data": {
      "text/plain": [
       "(5525, 17)"
      ]
     },
     "execution_count": 101,
     "metadata": {},
     "output_type": "execute_result"
    }
   ],
   "source": [
    "df5.shape # shape of dataframe"
   ]
  },
  {
   "cell_type": "markdown",
   "metadata": {},
   "source": [
    "# Models"
   ]
  },
  {
   "cell_type": "markdown",
   "metadata": {},
   "source": [
    "We used different types of models on the data to understand which model would be the best. We have tested with both multi class and binomial classification models. For multi class models, we were trying to predict for closed, acquired and operating companies. For binomial classification models, we tried to predict for closed and acquired companies only. As the dataset contained 80% of the data that had operating companies, the multiclass model was good at predicting for operating companies. For most of the models, 20% of the data was accounted for as a test dataset and results were drawn at random. We also tested all models with undersampled data. However as biases get included into the result, we decided to leave it aside from the final analysis."
   ]
  },
  {
   "cell_type": "markdown",
   "metadata": {},
   "source": [
    "Random forest consists of a large number of individual decision trees that operate on ensemble. Ensemble method means that multiple models are generated and combined to solve the problem. For Random Forest, each individual tree in a random forest spits out a class prediction and the class with the most votes is the model’s prediction"
   ]
  },
  {
   "cell_type": "markdown",
   "metadata": {},
   "source": [
    "Random Forest: Multi Class Cassification\n",
    "\n",
    "Multiclass classification model was used to try to predict for closed, operating and acquired companies. It showed that Industry Group is the most important feature."
   ]
  },
  {
   "cell_type": "code",
   "execution_count": 102,
   "metadata": {},
   "outputs": [],
   "source": [
    "Y = df4.cat_status\n",
    "X = df4.drop('cat_status', axis = 1) #setting features\n",
    "X_train, X_test, Y_train, Y_test = train_test_split(X, Y, test_size = 0.2, random_state = 42)# test and train dataset"
   ]
  },
  {
   "cell_type": "code",
   "execution_count": 149,
   "metadata": {},
   "outputs": [
    {
     "data": {
      "text/plain": [
       "1    35255\n",
       "2     3360\n",
       "0     2165\n",
       "Name: cat_status, dtype: int64"
      ]
     },
     "execution_count": 149,
     "metadata": {},
     "output_type": "execute_result"
    }
   ],
   "source": [
    "Y.value_counts()"
   ]
  },
  {
   "cell_type": "code",
   "execution_count": 103,
   "metadata": {},
   "outputs": [
    {
     "data": {
      "text/plain": [
       "RandomForestClassifier(n_estimators=1000, random_state=42)"
      ]
     },
     "execution_count": 103,
     "metadata": {},
     "output_type": "execute_result"
    }
   ],
   "source": [
    "rfc = RandomForestClassifier(n_estimators = 1000, random_state = 42)\n",
    "rfc.fit(X_train, Y_train)#training the model"
   ]
  },
  {
   "cell_type": "code",
   "execution_count": 104,
   "metadata": {},
   "outputs": [
    {
     "name": "stdout",
     "output_type": "stream",
     "text": [
      "              precision    recall  f1-score   support\n",
      "\n",
      "     Class 1       0.00      0.00      0.00       456\n",
      "     Class 2       0.87      0.98      0.92      7037\n",
      "     Class 3       0.27      0.06      0.10       663\n",
      "\n",
      "    accuracy                           0.85      8156\n",
      "   macro avg       0.38      0.35      0.34      8156\n",
      "weighted avg       0.77      0.85      0.80      8156\n",
      "\n"
     ]
    }
   ],
   "source": [
    "rfc_pred_test = rfc.predict(X_test)\n",
    "print(classification_report(Y_test, rfc_pred_test, target_names=['Class 1', 'Class 2', 'Class 3'])) # model is overfitting for class2 and bad at fitting 1 and 3"
   ]
  },
  {
   "cell_type": "code",
   "execution_count": 155,
   "metadata": {},
   "outputs": [
    {
     "data": {
      "text/html": [
       "<div>\n",
       "<style scoped>\n",
       "    .dataframe tbody tr th:only-of-type {\n",
       "        vertical-align: middle;\n",
       "    }\n",
       "\n",
       "    .dataframe tbody tr th {\n",
       "        vertical-align: top;\n",
       "    }\n",
       "\n",
       "    .dataframe thead th {\n",
       "        text-align: right;\n",
       "    }\n",
       "</style>\n",
       "<table border=\"1\" class=\"dataframe\">\n",
       "  <thead>\n",
       "    <tr style=\"text-align: right;\">\n",
       "      <th></th>\n",
       "      <th>0</th>\n",
       "    </tr>\n",
       "  </thead>\n",
       "  <tbody>\n",
       "    <tr>\n",
       "      <th>count</th>\n",
       "      <td>8156.0</td>\n",
       "    </tr>\n",
       "    <tr>\n",
       "      <th>mean</th>\n",
       "      <td>1.0</td>\n",
       "    </tr>\n",
       "    <tr>\n",
       "      <th>std</th>\n",
       "      <td>0.0</td>\n",
       "    </tr>\n",
       "    <tr>\n",
       "      <th>min</th>\n",
       "      <td>1.0</td>\n",
       "    </tr>\n",
       "    <tr>\n",
       "      <th>25%</th>\n",
       "      <td>1.0</td>\n",
       "    </tr>\n",
       "    <tr>\n",
       "      <th>50%</th>\n",
       "      <td>1.0</td>\n",
       "    </tr>\n",
       "    <tr>\n",
       "      <th>75%</th>\n",
       "      <td>1.0</td>\n",
       "    </tr>\n",
       "    <tr>\n",
       "      <th>max</th>\n",
       "      <td>1.0</td>\n",
       "    </tr>\n",
       "  </tbody>\n",
       "</table>\n",
       "</div>"
      ],
      "text/plain": [
       "            0\n",
       "count  8156.0\n",
       "mean      1.0\n",
       "std       0.0\n",
       "min       1.0\n",
       "25%       1.0\n",
       "50%       1.0\n",
       "75%       1.0\n",
       "max       1.0"
      ]
     },
     "execution_count": 155,
     "metadata": {},
     "output_type": "execute_result"
    }
   ],
   "source": [
    "pd.DataFrame(rfc_pred_test).describe()"
   ]
  },
  {
   "cell_type": "markdown",
   "metadata": {},
   "source": [
    "It showed that Industry Group is the most important feature. The important features are as follows:"
   ]
  },
  {
   "cell_type": "code",
   "execution_count": 105,
   "metadata": {},
   "outputs": [
    {
     "name": "stdout",
     "output_type": "stream",
     "text": [
      "Variable: cat_Industry_Group   Importance: 0.51\n",
      "Variable: cat_Continent_Name   Importance: 0.08\n",
      "Variable: cat_total_investment Importance: 0.06\n",
      "Variable: cat_funding_rounds   Importance: 0.04\n",
      "Variable: cat_diff_funding_year Importance: 0.04\n",
      "Variable: cat_venture          Importance: 0.04\n",
      "Variable: cat_seed             Importance: 0.03\n",
      "Variable: cat_debt_financing   Importance: 0.03\n",
      "Variable: cat_round_A          Importance: 0.03\n",
      "Variable: cat_round_B          Importance: 0.03\n",
      "Variable: cat_round_C          Importance: 0.03\n",
      "Variable: cat_angel            Importance: 0.02\n",
      "Variable: cat_round_D          Importance: 0.02\n",
      "Variable: cat_private_equity   Importance: 0.01\n",
      "Variable: cat_round_E          Importance: 0.01\n",
      "Variable: cat_round_F          Importance: 0.01\n"
     ]
    }
   ],
   "source": [
    "# Get numerical feature importances\n",
    "importances = list(rfc.feature_importances_)\n",
    "feature_list = list(X.columns)\n",
    "# List of tuples with variable and importance\n",
    "feature_importances = [(feature, round(importance, 2)) for feature, importance in zip(feature_list, importances)]\n",
    "# Sort the feature importances by most important first\n",
    "feature_importances = sorted(feature_importances, key = lambda x: x[1], reverse = True)\n",
    "# Print out the feature and importances \n",
    "[print('Variable: {:20} Importance: {}'.format(*pair)) for pair in feature_importances];"
   ]
  },
  {
   "cell_type": "code",
   "execution_count": 106,
   "metadata": {},
   "outputs": [
    {
     "name": "stdout",
     "output_type": "stream",
     "text": [
      "{'n_estimators': [200, 400, 600, 800, 1000, 1200, 1400, 1600, 1800, 2000], 'max_features': ['auto', 'sqrt'], 'max_depth': [10, 20, 30, 40, 50, 60, 70, 80, 90, 100, 110, None], 'min_samples_split': [2, 5, 10], 'min_samples_leaf': [1, 2, 4], 'bootstrap': [True, False]}\n"
     ]
    }
   ],
   "source": [
    "#Using Random Grid\n",
    "# Number of trees in random forest\n",
    "n_estimators = [int(x) for x in np.linspace(start = 200, stop = 2000, num = 10)]\n",
    "# Number of features to consider at every split\n",
    "max_features = ['auto', 'sqrt']\n",
    "# Maximum number of levels in tree\n",
    "max_depth = [int(x) for x in np.linspace(10, 110, num = 11)]\n",
    "max_depth.append(None)\n",
    "# Minimum number of samples required to split a node\n",
    "min_samples_split = [2, 5, 10]\n",
    "# Minimum number of samples required at each leaf node\n",
    "min_samples_leaf = [1, 2, 4]\n",
    "# Method of selecting samples for training each tree\n",
    "bootstrap = [True, False]\n",
    "# Create the random grid\n",
    "random_grid = {'n_estimators': n_estimators,\n",
    "               'max_features': max_features,\n",
    "               'max_depth': max_depth,\n",
    "               'min_samples_split': min_samples_split,\n",
    "               'min_samples_leaf': min_samples_leaf,\n",
    "               'bootstrap': bootstrap}\n",
    "print(random_grid)"
   ]
  },
  {
   "cell_type": "code",
   "execution_count": 107,
   "metadata": {},
   "outputs": [
    {
     "name": "stdout",
     "output_type": "stream",
     "text": [
      "Fitting 3 folds for each of 100 candidates, totalling 300 fits\n"
     ]
    },
    {
     "name": "stderr",
     "output_type": "stream",
     "text": [
      "[Parallel(n_jobs=-1)]: Using backend LokyBackend with 8 concurrent workers.\n",
      "[Parallel(n_jobs=-1)]: Done  25 tasks      | elapsed:  2.1min\n",
      "[Parallel(n_jobs=-1)]: Done 146 tasks      | elapsed: 10.9min\n",
      "[Parallel(n_jobs=-1)]: Done 300 out of 300 | elapsed: 21.9min finished\n"
     ]
    },
    {
     "data": {
      "text/plain": [
       "RandomizedSearchCV(cv=3, estimator=RandomForestClassifier(), n_iter=100,\n",
       "                   n_jobs=-1,\n",
       "                   param_distributions={'bootstrap': [True, False],\n",
       "                                        'max_depth': [10, 20, 30, 40, 50, 60,\n",
       "                                                      70, 80, 90, 100, 110,\n",
       "                                                      None],\n",
       "                                        'max_features': ['auto', 'sqrt'],\n",
       "                                        'min_samples_leaf': [1, 2, 4],\n",
       "                                        'min_samples_split': [2, 5, 10],\n",
       "                                        'n_estimators': [200, 400, 600, 800,\n",
       "                                                         1000, 1200, 1400, 1600,\n",
       "                                                         1800, 2000]},\n",
       "                   random_state=42, verbose=2)"
      ]
     },
     "execution_count": 107,
     "metadata": {},
     "output_type": "execute_result"
    }
   ],
   "source": [
    "# Use the random grid to search for best hyperparameters\n",
    "\n",
    "# First create the base model to tune\n",
    "rf = RandomForestClassifier()\n",
    "# Random search of parameters, using 3 fold cross validation, \n",
    "# search across 100 different combinations, and use all available cores\n",
    "rf_random = RandomizedSearchCV(estimator = rf, param_distributions = random_grid, n_iter = 100, cv = 3, verbose=2, random_state=42, n_jobs = -1)\n",
    "# Fit the random search model\n",
    "rf_random.fit(X_train, Y_train)"
   ]
  },
  {
   "cell_type": "code",
   "execution_count": null,
   "metadata": {},
   "outputs": [],
   "source": [
    "rf_random.best_params_ "
   ]
  },
  {
   "cell_type": "code",
   "execution_count": 108,
   "metadata": {},
   "outputs": [
    {
     "name": "stdout",
     "output_type": "stream",
     "text": [
      "              precision    recall  f1-score   support\n",
      "\n",
      "     Class 1       0.00      0.00      0.00       456\n",
      "     Class 2       0.86      1.00      0.93      7037\n",
      "     Class 3       0.00      0.00      0.00       663\n",
      "\n",
      "    accuracy                           0.86      8156\n",
      "   macro avg       0.29      0.33      0.31      8156\n",
      "weighted avg       0.74      0.86      0.80      8156\n",
      "\n"
     ]
    },
    {
     "name": "stderr",
     "output_type": "stream",
     "text": [
      "C:\\Users\\prith\\Anaconda3\\lib\\site-packages\\sklearn\\metrics\\_classification.py:1221: UndefinedMetricWarning: Precision and F-score are ill-defined and being set to 0.0 in labels with no predicted samples. Use `zero_division` parameter to control this behavior.\n",
      "  _warn_prf(average, modifier, msg_start, len(result))\n"
     ]
    }
   ],
   "source": [
    "rfc = RandomForestClassifier(n_estimators = 1600, min_samples_split= 2, min_samples_leaf= 4, max_features= \"sqrt\", max_depth =10, bootstrap = True, random_state = 42)\n",
    "rfc.fit(X_train, Y_train) \n",
    "\n",
    "rfc_pred_test = rfc.predict(X_test)\n",
    "print(classification_report(Y_test, rfc_pred_test, target_names=['Class 1', 'Class 2', 'Class 3']))"
   ]
  },
  {
   "cell_type": "code",
   "execution_count": 157,
   "metadata": {},
   "outputs": [
    {
     "data": {
      "text/html": [
       "<div>\n",
       "<style scoped>\n",
       "    .dataframe tbody tr th:only-of-type {\n",
       "        vertical-align: middle;\n",
       "    }\n",
       "\n",
       "    .dataframe tbody tr th {\n",
       "        vertical-align: top;\n",
       "    }\n",
       "\n",
       "    .dataframe thead th {\n",
       "        text-align: right;\n",
       "    }\n",
       "</style>\n",
       "<table border=\"1\" class=\"dataframe\">\n",
       "  <thead>\n",
       "    <tr style=\"text-align: right;\">\n",
       "      <th></th>\n",
       "      <th>0</th>\n",
       "    </tr>\n",
       "  </thead>\n",
       "  <tbody>\n",
       "    <tr>\n",
       "      <th>count</th>\n",
       "      <td>8156.0</td>\n",
       "    </tr>\n",
       "    <tr>\n",
       "      <th>mean</th>\n",
       "      <td>1.0</td>\n",
       "    </tr>\n",
       "    <tr>\n",
       "      <th>std</th>\n",
       "      <td>0.0</td>\n",
       "    </tr>\n",
       "    <tr>\n",
       "      <th>min</th>\n",
       "      <td>1.0</td>\n",
       "    </tr>\n",
       "    <tr>\n",
       "      <th>25%</th>\n",
       "      <td>1.0</td>\n",
       "    </tr>\n",
       "    <tr>\n",
       "      <th>50%</th>\n",
       "      <td>1.0</td>\n",
       "    </tr>\n",
       "    <tr>\n",
       "      <th>75%</th>\n",
       "      <td>1.0</td>\n",
       "    </tr>\n",
       "    <tr>\n",
       "      <th>max</th>\n",
       "      <td>1.0</td>\n",
       "    </tr>\n",
       "  </tbody>\n",
       "</table>\n",
       "</div>"
      ],
      "text/plain": [
       "            0\n",
       "count  8156.0\n",
       "mean      1.0\n",
       "std       0.0\n",
       "min       1.0\n",
       "25%       1.0\n",
       "50%       1.0\n",
       "75%       1.0\n",
       "max       1.0"
      ]
     },
     "execution_count": 157,
     "metadata": {},
     "output_type": "execute_result"
    }
   ],
   "source": [
    "pd.DataFrame(rfc_pred_test).describe()"
   ]
  },
  {
   "cell_type": "code",
   "execution_count": 109,
   "metadata": {},
   "outputs": [
    {
     "data": {
      "text/plain": [
       "array([1, 1, 1, 1, 1], dtype=int64)"
      ]
     },
     "execution_count": 109,
     "metadata": {},
     "output_type": "execute_result"
    }
   ],
   "source": [
    "#creating sample data frame to test the model and predict\n",
    "sample_data = {'cat_Industry_Group': np.random.choice(range(0,42,1), size = (5)),\n",
    "        'cat_Continent_Name': np.random.choice(range(0,5,1), size = (5)),\n",
    "        'cat_funding_rounds': np.random.choice([0,1], size = (5)),\n",
    "        'cat_diff_funding_year': np.random.choice([0,1], size = (5)),\n",
    "        'cat_total_investment': np.random.choice([0,1,2,3], size = (5)),\n",
    "        'cat_venture': np.random.choice([0,1,2,3], size = (5)),\n",
    "        'cat_seed': np.random.choice([0,1], size = (5)),\n",
    "        'cat_debt_financing': np.random.choice([0,1], size = (5)),\n",
    "        'cat_angel': np.random.choice([0,1], size = (5)),\n",
    "        'cat_private_equity': np.random.choice([0,1], size = (5)),\n",
    "        'cat_round_A': np.random.choice([0,1], size = (5)),\n",
    "        'cat_round_B': np.random.choice([0,1], size = (5)),\n",
    "        'cat_round_C': np.random.choice([0,1], size = (5)),\n",
    "        'cat_round_D': np.random.choice([0,1], size = (5)),\n",
    "        'cat_round_E': np.random.choice([0,1], size = (5)),\n",
    "        'cat_round_F': np.random.choice([0,1], size = (5))\n",
    "       }\n",
    "sample = pd.DataFrame(sample_data, index=[0,1,2,3,4])\n",
    "ynew = rfc.predict(sample)\n",
    "ynew # 0 means close, 1 means operating and 2 means acquired"
   ]
  },
  {
   "cell_type": "markdown",
   "metadata": {},
   "source": [
    "Random Forest: Binomial Classification\n",
    "\n",
    "To predict for acquired and closed companies only, we use a random forest model too. We used the same steps as the previous models."
   ]
  },
  {
   "cell_type": "code",
   "execution_count": 110,
   "metadata": {},
   "outputs": [],
   "source": [
    "Y5 = df5.cat_status# setting y variable\n",
    "X5 = df5.drop('cat_status', axis = 1) # setting features\n",
    "X_train5, X_test5, Y_train5, Y_test5 = train_test_split(X5, Y5, test_size = 0.2, random_state = 42) # test and train data"
   ]
  },
  {
   "cell_type": "code",
   "execution_count": 111,
   "metadata": {},
   "outputs": [
    {
     "data": {
      "text/plain": [
       "RandomForestClassifier(n_estimators=1000, random_state=42)"
      ]
     },
     "execution_count": 111,
     "metadata": {},
     "output_type": "execute_result"
    }
   ],
   "source": [
    "rfc5 = RandomForestClassifier(n_estimators = 1000, random_state = 42)\n",
    "rfc5.fit(X_train5, Y_train5) # using df5 and fitting the data"
   ]
  },
  {
   "cell_type": "code",
   "execution_count": 112,
   "metadata": {},
   "outputs": [
    {
     "name": "stdout",
     "output_type": "stream",
     "text": [
      "              precision    recall  f1-score   support\n",
      "\n",
      "     Class 0       0.60      0.54      0.57       425\n",
      "     Class 1       0.73      0.77      0.75       680\n",
      "\n",
      "    accuracy                           0.68      1105\n",
      "   macro avg       0.66      0.66      0.66      1105\n",
      "weighted avg       0.68      0.68      0.68      1105\n",
      "\n"
     ]
    }
   ],
   "source": [
    "rfc_pred_test5 = rfc5.predict(X_test5) # predicting for test\n",
    "print(classification_report(Y_test5, rfc_pred_test5, target_names=['Class 0', 'Class 1']))# classification report"
   ]
  },
  {
   "cell_type": "code",
   "execution_count": 113,
   "metadata": {},
   "outputs": [
    {
     "name": "stdout",
     "output_type": "stream",
     "text": [
      "Variable: cat_Industry_Group   Importance: 0.4\n",
      "Variable: cat_total_investment Importance: 0.17\n",
      "Variable: cat_Continent_Name   Importance: 0.08\n",
      "Variable: cat_venture          Importance: 0.08\n",
      "Variable: cat_funding_rounds   Importance: 0.04\n",
      "Variable: cat_round_B          Importance: 0.04\n",
      "Variable: cat_diff_funding_year Importance: 0.03\n",
      "Variable: cat_seed             Importance: 0.03\n",
      "Variable: cat_debt_financing   Importance: 0.03\n",
      "Variable: cat_round_A          Importance: 0.03\n",
      "Variable: cat_angel            Importance: 0.02\n",
      "Variable: cat_round_C          Importance: 0.02\n",
      "Variable: cat_private_equity   Importance: 0.01\n",
      "Variable: cat_round_D          Importance: 0.01\n",
      "Variable: cat_round_E          Importance: 0.01\n",
      "Variable: cat_round_F          Importance: 0.0\n"
     ]
    }
   ],
   "source": [
    "# Get numerical feature importances\n",
    "importances = list(rfc5.feature_importances_)\n",
    "feature_list = list(X5.columns)\n",
    "# List of tuples with variable and importance\n",
    "feature_importances = [(feature, round(importance, 2)) for feature, importance in zip(feature_list, importances)]\n",
    "# Sort the feature importances by most important first\n",
    "feature_importances = sorted(feature_importances, key = lambda x: x[1], reverse = True)\n",
    "# Print out the feature and importances \n",
    "[print('Variable: {:20} Importance: {}'.format(*pair)) for pair in feature_importances];\n",
    "\n",
    "#Industry group, Total investment and continent name is most important features. We can only include these moving forward"
   ]
  },
  {
   "cell_type": "code",
   "execution_count": 114,
   "metadata": {},
   "outputs": [
    {
     "name": "stdout",
     "output_type": "stream",
     "text": [
      "{'n_estimators': [200, 400, 600, 800, 1000, 1200, 1400, 1600, 1800, 2000], 'max_features': ['auto', 'sqrt'], 'max_depth': [10, 20, 30, 40, 50, 60, 70, 80, 90, 100, 110, None], 'min_samples_split': [2, 5, 10], 'min_samples_leaf': [1, 2, 4], 'bootstrap': [True, False]}\n"
     ]
    }
   ],
   "source": [
    "# Number of trees in random forest\n",
    "n_estimators = [int(x) for x in np.linspace(start = 200, stop = 2000, num = 10)]\n",
    "# Number of features to consider at every split\n",
    "max_features = ['auto', 'sqrt']\n",
    "# Maximum number of levels in tree\n",
    "max_depth = [int(x) for x in np.linspace(10, 110, num = 11)]\n",
    "max_depth.append(None)\n",
    "# Minimum number of samples required to split a node\n",
    "min_samples_split = [2, 5, 10]\n",
    "# Minimum number of samples required at each leaf node\n",
    "min_samples_leaf = [1, 2, 4]\n",
    "# Method of selecting samples for training each tree\n",
    "bootstrap = [True, False]\n",
    "# Create the random grid\n",
    "random_grid = {'n_estimators': n_estimators,\n",
    "               'max_features': max_features,\n",
    "               'max_depth': max_depth,\n",
    "               'min_samples_split': min_samples_split,\n",
    "               'min_samples_leaf': min_samples_leaf,\n",
    "               'bootstrap': bootstrap}\n",
    "print(random_grid)"
   ]
  },
  {
   "cell_type": "code",
   "execution_count": 115,
   "metadata": {},
   "outputs": [
    {
     "name": "stdout",
     "output_type": "stream",
     "text": [
      "Fitting 3 folds for each of 100 candidates, totalling 300 fits\n"
     ]
    },
    {
     "name": "stderr",
     "output_type": "stream",
     "text": [
      "[Parallel(n_jobs=-1)]: Using backend LokyBackend with 8 concurrent workers.\n",
      "[Parallel(n_jobs=-1)]: Done  25 tasks      | elapsed:   27.6s\n",
      "[Parallel(n_jobs=-1)]: Done 146 tasks      | elapsed:  2.0min\n",
      "[Parallel(n_jobs=-1)]: Done 300 out of 300 | elapsed: 562.5min finished\n"
     ]
    },
    {
     "data": {
      "text/plain": [
       "RandomizedSearchCV(cv=3, estimator=RandomForestClassifier(), n_iter=100,\n",
       "                   n_jobs=-1,\n",
       "                   param_distributions={'bootstrap': [True, False],\n",
       "                                        'max_depth': [10, 20, 30, 40, 50, 60,\n",
       "                                                      70, 80, 90, 100, 110,\n",
       "                                                      None],\n",
       "                                        'max_features': ['auto', 'sqrt'],\n",
       "                                        'min_samples_leaf': [1, 2, 4],\n",
       "                                        'min_samples_split': [2, 5, 10],\n",
       "                                        'n_estimators': [200, 400, 600, 800,\n",
       "                                                         1000, 1200, 1400, 1600,\n",
       "                                                         1800, 2000]},\n",
       "                   random_state=42, verbose=2)"
      ]
     },
     "execution_count": 115,
     "metadata": {},
     "output_type": "execute_result"
    }
   ],
   "source": [
    "# Use the random grid to search for best hyperparameters\n",
    "# First create the base model to tune\n",
    "rf = RandomForestClassifier()\n",
    "# Random search of parameters, using 3 fold cross validation, \n",
    "# search across 100 different combinations, and use all available cores\n",
    "rf_random = RandomizedSearchCV(estimator = rf, param_distributions = random_grid, n_iter = 100, cv = 3, verbose=2, random_state=42, n_jobs = -1)\n",
    "# Fit the random search model\n",
    "rf_random.fit(X_train5, Y_train5)"
   ]
  },
  {
   "cell_type": "code",
   "execution_count": 116,
   "metadata": {},
   "outputs": [
    {
     "data": {
      "text/plain": [
       "{'n_estimators': 200,\n",
       " 'min_samples_split': 5,\n",
       " 'min_samples_leaf': 4,\n",
       " 'max_features': 'auto',\n",
       " 'max_depth': 10,\n",
       " 'bootstrap': True}"
      ]
     },
     "execution_count": 116,
     "metadata": {},
     "output_type": "execute_result"
    }
   ],
   "source": [
    "rf_random.best_params_ \n",
    "# best parameters"
   ]
  },
  {
   "cell_type": "code",
   "execution_count": 117,
   "metadata": {},
   "outputs": [
    {
     "name": "stdout",
     "output_type": "stream",
     "text": [
      "              precision    recall  f1-score   support\n",
      "\n",
      "     Class 0       0.60      0.57      0.59       425\n",
      "     Class 1       0.74      0.76      0.75       680\n",
      "\n",
      "    accuracy                           0.69      1105\n",
      "   macro avg       0.67      0.67      0.67      1105\n",
      "weighted avg       0.69      0.69      0.69      1105\n",
      "\n"
     ]
    }
   ],
   "source": [
    "#using the parameters from grid search to make the model\n",
    "rfc5 = RandomForestClassifier(n_estimators = 200, min_samples_split= 5, min_samples_leaf= 4, max_features= \"auto\", max_depth =10, bootstrap = True, random_state = 42)\n",
    "rfc5.fit(X_train5, Y_train5) \n",
    "\n",
    "rfc_pred_test5 = rfc5.predict(X_test5)\n",
    "print(classification_report(Y_test5, rfc_pred_test5, target_names=['Class 0', 'Class 1']))\n",
    "#scuracy rate remians the same, slight variation in other values"
   ]
  },
  {
   "cell_type": "code",
   "execution_count": 118,
   "metadata": {},
   "outputs": [],
   "source": [
    "#creating sample data frame to test the model and predict\n",
    "sample_data = {'cat_Industry_Group': np.random.choice(range(0,42,1), size = (5)),\n",
    "        'cat_Continent_Name': np.random.choice(range(0,5,1), size = (5)),\n",
    "        'cat_funding_rounds': np.random.choice([0,1], size = (5)),\n",
    "        'cat_diff_funding_year': np.random.choice([0,1], size = (5)),\n",
    "        'cat_total_investment': np.random.choice([0,1,2,3], size = (5)),\n",
    "        'cat_venture': np.random.choice([0,1,2,3], size = (5)),\n",
    "        'cat_seed': np.random.choice([0,1], size = (5)),\n",
    "        'cat_debt_financing': np.random.choice([0,1], size = (5)),\n",
    "        'cat_angel': np.random.choice([0,1], size = (5)),\n",
    "        'cat_private_equity': np.random.choice([0,1], size = (5)),\n",
    "        'cat_round_A': np.random.choice([0,1], size = (5)),\n",
    "        'cat_round_B': np.random.choice([0,1], size = (5)),\n",
    "        'cat_round_C': np.random.choice([0,1], size = (5)),\n",
    "        'cat_round_D': np.random.choice([0,1], size = (5)),\n",
    "        'cat_round_E': np.random.choice([0,1], size = (5)),\n",
    "        'cat_round_F': np.random.choice([0,1], size = (5))\n",
    "       }\n",
    "sample = pd.DataFrame(sample_data, index=[0,1,2,3,4])"
   ]
  },
  {
   "cell_type": "code",
   "execution_count": null,
   "metadata": {},
   "outputs": [],
   "source": [
    "sample = pd.DataFrame(sample_data, index=[0,1,2,3,4])\n",
    "ynew = rfc.predict(sample)\n",
    "ynew # 0 means close, 1 means operating and 2 means acquired"
   ]
  },
  {
   "cell_type": "code",
   "execution_count": 120,
   "metadata": {},
   "outputs": [
    {
     "data": {
      "text/plain": [
       "array([1, 0, 1, 1, 1], dtype=int64)"
      ]
     },
     "execution_count": 120,
     "metadata": {},
     "output_type": "execute_result"
    }
   ],
   "source": [
    "ynew = rfc5.predict(sample)\n",
    "ynew # predicting using decision tree binomial model. 0 means closed and 1 means acquired"
   ]
  },
  {
   "cell_type": "markdown",
   "metadata": {},
   "source": [
    "# Conclusion"
   ]
  },
  {
   "cell_type": "markdown",
   "metadata": {},
   "source": [
    "Industry, continent and total investment are important features. We received the best result when we used SVM and Random Forest for Multi Class Classification. Received the best result when we used Random Forest for Binomial Classification. For future scope, we would like more data for closed and acquired companies, test model with one-hot encoding, test with other models like Naive Bayes and XG Boost, test with KNN and SVM on Binary Classification Model. Using Crunchbase API, we can also make a real time dashboard and deploy a model so that it can assist investors and founders."
   ]
  },
  {
   "cell_type": "code",
   "execution_count": null,
   "metadata": {},
   "outputs": [],
   "source": []
  }
 ],
 "metadata": {
  "kernelspec": {
   "display_name": "Python 3",
   "language": "python",
   "name": "python3"
  },
  "language_info": {
   "codemirror_mode": {
    "name": "ipython",
    "version": 3
   },
   "file_extension": ".py",
   "mimetype": "text/x-python",
   "name": "python",
   "nbconvert_exporter": "python",
   "pygments_lexer": "ipython3",
   "version": "3.7.6"
  }
 },
 "nbformat": 4,
 "nbformat_minor": 4
}
